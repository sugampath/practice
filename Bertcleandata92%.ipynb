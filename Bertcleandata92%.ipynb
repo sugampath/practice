{
  "nbformat": 4,
  "nbformat_minor": 0,
  "metadata": {
    "accelerator": "GPU",
    "colab": {
      "name": "Bertcleandata .ipynb",
      "provenance": [],
      "collapsed_sections": [],
      "include_colab_link": true
    },
    "kernelspec": {
      "display_name": "Python 3",
      "name": "python3"
    },
    "widgets": {
      "application/vnd.jupyter.widget-state+json": {
        "f13602968c29487c89b830eb942d6120": {
          "model_module": "@jupyter-widgets/controls",
          "model_name": "HBoxModel",
          "state": {
            "_view_name": "HBoxView",
            "_dom_classes": [],
            "_model_name": "HBoxModel",
            "_view_module": "@jupyter-widgets/controls",
            "_model_module_version": "1.5.0",
            "_view_count": null,
            "_view_module_version": "1.5.0",
            "box_style": "",
            "layout": "IPY_MODEL_896fb97ca07b449e83e64685d921d5c4",
            "_model_module": "@jupyter-widgets/controls",
            "children": [
              "IPY_MODEL_aa91972f353749d2b67aaee55f51571b",
              "IPY_MODEL_ddb3e17c73c84168a5a4a50f89566d2d"
            ]
          }
        },
        "896fb97ca07b449e83e64685d921d5c4": {
          "model_module": "@jupyter-widgets/base",
          "model_name": "LayoutModel",
          "state": {
            "_view_name": "LayoutView",
            "grid_template_rows": null,
            "right": null,
            "justify_content": null,
            "_view_module": "@jupyter-widgets/base",
            "overflow": null,
            "_model_module_version": "1.2.0",
            "_view_count": null,
            "flex_flow": null,
            "width": null,
            "min_width": null,
            "border": null,
            "align_items": null,
            "bottom": null,
            "_model_module": "@jupyter-widgets/base",
            "top": null,
            "grid_column": null,
            "overflow_y": null,
            "overflow_x": null,
            "grid_auto_flow": null,
            "grid_area": null,
            "grid_template_columns": null,
            "flex": null,
            "_model_name": "LayoutModel",
            "justify_items": null,
            "grid_row": null,
            "max_height": null,
            "align_content": null,
            "visibility": null,
            "align_self": null,
            "height": null,
            "min_height": null,
            "padding": null,
            "grid_auto_rows": null,
            "grid_gap": null,
            "max_width": null,
            "order": null,
            "_view_module_version": "1.2.0",
            "grid_template_areas": null,
            "object_position": null,
            "object_fit": null,
            "grid_auto_columns": null,
            "margin": null,
            "display": null,
            "left": null
          }
        },
        "aa91972f353749d2b67aaee55f51571b": {
          "model_module": "@jupyter-widgets/controls",
          "model_name": "FloatProgressModel",
          "state": {
            "_view_name": "ProgressView",
            "style": "IPY_MODEL_0f8665322a314159a5cff25f6667dfcf",
            "_dom_classes": [],
            "description": "100%",
            "_model_name": "FloatProgressModel",
            "bar_style": "success",
            "max": 5,
            "_view_module": "@jupyter-widgets/controls",
            "_model_module_version": "1.5.0",
            "value": 5,
            "_view_count": null,
            "_view_module_version": "1.5.0",
            "orientation": "horizontal",
            "min": 0,
            "description_tooltip": null,
            "_model_module": "@jupyter-widgets/controls",
            "layout": "IPY_MODEL_ecc022731f4b4c929954421931c8fb19"
          }
        },
        "ddb3e17c73c84168a5a4a50f89566d2d": {
          "model_module": "@jupyter-widgets/controls",
          "model_name": "HTMLModel",
          "state": {
            "_view_name": "HTMLView",
            "style": "IPY_MODEL_abfc2988e5ab4325bc87ec4a209ab5c2",
            "_dom_classes": [],
            "description": "",
            "_model_name": "HTMLModel",
            "placeholder": "​",
            "_view_module": "@jupyter-widgets/controls",
            "_model_module_version": "1.5.0",
            "value": " 5/5 [2:28:59&lt;00:00, 1787.84s/it]",
            "_view_count": null,
            "_view_module_version": "1.5.0",
            "description_tooltip": null,
            "_model_module": "@jupyter-widgets/controls",
            "layout": "IPY_MODEL_932ff17d45174a4d967904979fdde87b"
          }
        },
        "0f8665322a314159a5cff25f6667dfcf": {
          "model_module": "@jupyter-widgets/controls",
          "model_name": "ProgressStyleModel",
          "state": {
            "_view_name": "StyleView",
            "_model_name": "ProgressStyleModel",
            "description_width": "initial",
            "_view_module": "@jupyter-widgets/base",
            "_model_module_version": "1.5.0",
            "_view_count": null,
            "_view_module_version": "1.2.0",
            "bar_color": null,
            "_model_module": "@jupyter-widgets/controls"
          }
        },
        "ecc022731f4b4c929954421931c8fb19": {
          "model_module": "@jupyter-widgets/base",
          "model_name": "LayoutModel",
          "state": {
            "_view_name": "LayoutView",
            "grid_template_rows": null,
            "right": null,
            "justify_content": null,
            "_view_module": "@jupyter-widgets/base",
            "overflow": null,
            "_model_module_version": "1.2.0",
            "_view_count": null,
            "flex_flow": null,
            "width": null,
            "min_width": null,
            "border": null,
            "align_items": null,
            "bottom": null,
            "_model_module": "@jupyter-widgets/base",
            "top": null,
            "grid_column": null,
            "overflow_y": null,
            "overflow_x": null,
            "grid_auto_flow": null,
            "grid_area": null,
            "grid_template_columns": null,
            "flex": null,
            "_model_name": "LayoutModel",
            "justify_items": null,
            "grid_row": null,
            "max_height": null,
            "align_content": null,
            "visibility": null,
            "align_self": null,
            "height": null,
            "min_height": null,
            "padding": null,
            "grid_auto_rows": null,
            "grid_gap": null,
            "max_width": null,
            "order": null,
            "_view_module_version": "1.2.0",
            "grid_template_areas": null,
            "object_position": null,
            "object_fit": null,
            "grid_auto_columns": null,
            "margin": null,
            "display": null,
            "left": null
          }
        },
        "abfc2988e5ab4325bc87ec4a209ab5c2": {
          "model_module": "@jupyter-widgets/controls",
          "model_name": "DescriptionStyleModel",
          "state": {
            "_view_name": "StyleView",
            "_model_name": "DescriptionStyleModel",
            "description_width": "",
            "_view_module": "@jupyter-widgets/base",
            "_model_module_version": "1.5.0",
            "_view_count": null,
            "_view_module_version": "1.2.0",
            "_model_module": "@jupyter-widgets/controls"
          }
        },
        "932ff17d45174a4d967904979fdde87b": {
          "model_module": "@jupyter-widgets/base",
          "model_name": "LayoutModel",
          "state": {
            "_view_name": "LayoutView",
            "grid_template_rows": null,
            "right": null,
            "justify_content": null,
            "_view_module": "@jupyter-widgets/base",
            "overflow": null,
            "_model_module_version": "1.2.0",
            "_view_count": null,
            "flex_flow": null,
            "width": null,
            "min_width": null,
            "border": null,
            "align_items": null,
            "bottom": null,
            "_model_module": "@jupyter-widgets/base",
            "top": null,
            "grid_column": null,
            "overflow_y": null,
            "overflow_x": null,
            "grid_auto_flow": null,
            "grid_area": null,
            "grid_template_columns": null,
            "flex": null,
            "_model_name": "LayoutModel",
            "justify_items": null,
            "grid_row": null,
            "max_height": null,
            "align_content": null,
            "visibility": null,
            "align_self": null,
            "height": null,
            "min_height": null,
            "padding": null,
            "grid_auto_rows": null,
            "grid_gap": null,
            "max_width": null,
            "order": null,
            "_view_module_version": "1.2.0",
            "grid_template_areas": null,
            "object_position": null,
            "object_fit": null,
            "grid_auto_columns": null,
            "margin": null,
            "display": null,
            "left": null
          }
        },
        "dbce4cc7039441cea253c4b0cccc47eb": {
          "model_module": "@jupyter-widgets/controls",
          "model_name": "HBoxModel",
          "state": {
            "_view_name": "HBoxView",
            "_dom_classes": [],
            "_model_name": "HBoxModel",
            "_view_module": "@jupyter-widgets/controls",
            "_model_module_version": "1.5.0",
            "_view_count": null,
            "_view_module_version": "1.5.0",
            "box_style": "",
            "layout": "IPY_MODEL_c6ccf7b980a049549f83bb50949a4809",
            "_model_module": "@jupyter-widgets/controls",
            "children": [
              "IPY_MODEL_f1c0243bf12044d887a5fb46931676aa",
              "IPY_MODEL_c77da743f8a449b494920232955f7e51"
            ]
          }
        },
        "c6ccf7b980a049549f83bb50949a4809": {
          "model_module": "@jupyter-widgets/base",
          "model_name": "LayoutModel",
          "state": {
            "_view_name": "LayoutView",
            "grid_template_rows": null,
            "right": null,
            "justify_content": null,
            "_view_module": "@jupyter-widgets/base",
            "overflow": null,
            "_model_module_version": "1.2.0",
            "_view_count": null,
            "flex_flow": null,
            "width": null,
            "min_width": null,
            "border": null,
            "align_items": null,
            "bottom": null,
            "_model_module": "@jupyter-widgets/base",
            "top": null,
            "grid_column": null,
            "overflow_y": null,
            "overflow_x": null,
            "grid_auto_flow": null,
            "grid_area": null,
            "grid_template_columns": null,
            "flex": null,
            "_model_name": "LayoutModel",
            "justify_items": null,
            "grid_row": null,
            "max_height": null,
            "align_content": null,
            "visibility": null,
            "align_self": null,
            "height": null,
            "min_height": null,
            "padding": null,
            "grid_auto_rows": null,
            "grid_gap": null,
            "max_width": null,
            "order": null,
            "_view_module_version": "1.2.0",
            "grid_template_areas": null,
            "object_position": null,
            "object_fit": null,
            "grid_auto_columns": null,
            "margin": null,
            "display": null,
            "left": null
          }
        },
        "f1c0243bf12044d887a5fb46931676aa": {
          "model_module": "@jupyter-widgets/controls",
          "model_name": "FloatProgressModel",
          "state": {
            "_view_name": "ProgressView",
            "style": "IPY_MODEL_498057d487be46b2bf90e2cdab8986e3",
            "_dom_classes": [],
            "description": "Epoch 1: 100%",
            "_model_name": "FloatProgressModel",
            "bar_style": "",
            "max": 1400,
            "_view_module": "@jupyter-widgets/controls",
            "_model_module_version": "1.5.0",
            "value": 1400,
            "_view_count": null,
            "_view_module_version": "1.5.0",
            "orientation": "horizontal",
            "min": 0,
            "description_tooltip": null,
            "_model_module": "@jupyter-widgets/controls",
            "layout": "IPY_MODEL_fac7a6090918404688d5708539842319"
          }
        },
        "c77da743f8a449b494920232955f7e51": {
          "model_module": "@jupyter-widgets/controls",
          "model_name": "HTMLModel",
          "state": {
            "_view_name": "HTMLView",
            "style": "IPY_MODEL_8058aafa138247d48ab58e8be12ba329",
            "_dom_classes": [],
            "description": "",
            "_model_name": "HTMLModel",
            "placeholder": "​",
            "_view_module": "@jupyter-widgets/controls",
            "_model_module_version": "1.5.0",
            "value": " 1400/1400 [25:53&lt;00:00,  1.11it/s, training_loss=0.285]",
            "_view_count": null,
            "_view_module_version": "1.5.0",
            "description_tooltip": null,
            "_model_module": "@jupyter-widgets/controls",
            "layout": "IPY_MODEL_b3b861ed541e482c90b6cd0bf30ade76"
          }
        },
        "498057d487be46b2bf90e2cdab8986e3": {
          "model_module": "@jupyter-widgets/controls",
          "model_name": "ProgressStyleModel",
          "state": {
            "_view_name": "StyleView",
            "_model_name": "ProgressStyleModel",
            "description_width": "initial",
            "_view_module": "@jupyter-widgets/base",
            "_model_module_version": "1.5.0",
            "_view_count": null,
            "_view_module_version": "1.2.0",
            "bar_color": null,
            "_model_module": "@jupyter-widgets/controls"
          }
        },
        "fac7a6090918404688d5708539842319": {
          "model_module": "@jupyter-widgets/base",
          "model_name": "LayoutModel",
          "state": {
            "_view_name": "LayoutView",
            "grid_template_rows": null,
            "right": null,
            "justify_content": null,
            "_view_module": "@jupyter-widgets/base",
            "overflow": null,
            "_model_module_version": "1.2.0",
            "_view_count": null,
            "flex_flow": null,
            "width": null,
            "min_width": null,
            "border": null,
            "align_items": null,
            "bottom": null,
            "_model_module": "@jupyter-widgets/base",
            "top": null,
            "grid_column": null,
            "overflow_y": null,
            "overflow_x": null,
            "grid_auto_flow": null,
            "grid_area": null,
            "grid_template_columns": null,
            "flex": null,
            "_model_name": "LayoutModel",
            "justify_items": null,
            "grid_row": null,
            "max_height": null,
            "align_content": null,
            "visibility": null,
            "align_self": null,
            "height": null,
            "min_height": null,
            "padding": null,
            "grid_auto_rows": null,
            "grid_gap": null,
            "max_width": null,
            "order": null,
            "_view_module_version": "1.2.0",
            "grid_template_areas": null,
            "object_position": null,
            "object_fit": null,
            "grid_auto_columns": null,
            "margin": null,
            "display": null,
            "left": null
          }
        },
        "8058aafa138247d48ab58e8be12ba329": {
          "model_module": "@jupyter-widgets/controls",
          "model_name": "DescriptionStyleModel",
          "state": {
            "_view_name": "StyleView",
            "_model_name": "DescriptionStyleModel",
            "description_width": "",
            "_view_module": "@jupyter-widgets/base",
            "_model_module_version": "1.5.0",
            "_view_count": null,
            "_view_module_version": "1.2.0",
            "_model_module": "@jupyter-widgets/controls"
          }
        },
        "b3b861ed541e482c90b6cd0bf30ade76": {
          "model_module": "@jupyter-widgets/base",
          "model_name": "LayoutModel",
          "state": {
            "_view_name": "LayoutView",
            "grid_template_rows": null,
            "right": null,
            "justify_content": null,
            "_view_module": "@jupyter-widgets/base",
            "overflow": null,
            "_model_module_version": "1.2.0",
            "_view_count": null,
            "flex_flow": null,
            "width": null,
            "min_width": null,
            "border": null,
            "align_items": null,
            "bottom": null,
            "_model_module": "@jupyter-widgets/base",
            "top": null,
            "grid_column": null,
            "overflow_y": null,
            "overflow_x": null,
            "grid_auto_flow": null,
            "grid_area": null,
            "grid_template_columns": null,
            "flex": null,
            "_model_name": "LayoutModel",
            "justify_items": null,
            "grid_row": null,
            "max_height": null,
            "align_content": null,
            "visibility": null,
            "align_self": null,
            "height": null,
            "min_height": null,
            "padding": null,
            "grid_auto_rows": null,
            "grid_gap": null,
            "max_width": null,
            "order": null,
            "_view_module_version": "1.2.0",
            "grid_template_areas": null,
            "object_position": null,
            "object_fit": null,
            "grid_auto_columns": null,
            "margin": null,
            "display": null,
            "left": null
          }
        },
        "e6611bbead394dc592fdbf2a67bdf01a": {
          "model_module": "@jupyter-widgets/controls",
          "model_name": "HBoxModel",
          "state": {
            "_view_name": "HBoxView",
            "_dom_classes": [],
            "_model_name": "HBoxModel",
            "_view_module": "@jupyter-widgets/controls",
            "_model_module_version": "1.5.0",
            "_view_count": null,
            "_view_module_version": "1.5.0",
            "box_style": "",
            "layout": "IPY_MODEL_01aa052742f942d7a3ece90c3c4e2b1f",
            "_model_module": "@jupyter-widgets/controls",
            "children": [
              "IPY_MODEL_897353a951e345c09440e019dc3dffd2",
              "IPY_MODEL_267f25e66ccb403fb8af61f284f3af31"
            ]
          }
        },
        "01aa052742f942d7a3ece90c3c4e2b1f": {
          "model_module": "@jupyter-widgets/base",
          "model_name": "LayoutModel",
          "state": {
            "_view_name": "LayoutView",
            "grid_template_rows": null,
            "right": null,
            "justify_content": null,
            "_view_module": "@jupyter-widgets/base",
            "overflow": null,
            "_model_module_version": "1.2.0",
            "_view_count": null,
            "flex_flow": null,
            "width": null,
            "min_width": null,
            "border": null,
            "align_items": null,
            "bottom": null,
            "_model_module": "@jupyter-widgets/base",
            "top": null,
            "grid_column": null,
            "overflow_y": null,
            "overflow_x": null,
            "grid_auto_flow": null,
            "grid_area": null,
            "grid_template_columns": null,
            "flex": null,
            "_model_name": "LayoutModel",
            "justify_items": null,
            "grid_row": null,
            "max_height": null,
            "align_content": null,
            "visibility": null,
            "align_self": null,
            "height": null,
            "min_height": null,
            "padding": null,
            "grid_auto_rows": null,
            "grid_gap": null,
            "max_width": null,
            "order": null,
            "_view_module_version": "1.2.0",
            "grid_template_areas": null,
            "object_position": null,
            "object_fit": null,
            "grid_auto_columns": null,
            "margin": null,
            "display": null,
            "left": null
          }
        },
        "897353a951e345c09440e019dc3dffd2": {
          "model_module": "@jupyter-widgets/controls",
          "model_name": "FloatProgressModel",
          "state": {
            "_view_name": "ProgressView",
            "style": "IPY_MODEL_7c2bd6b8ab0540898b44321ab06e0965",
            "_dom_classes": [],
            "description": "Epoch 2: 100%",
            "_model_name": "FloatProgressModel",
            "bar_style": "",
            "max": 1400,
            "_view_module": "@jupyter-widgets/controls",
            "_model_module_version": "1.5.0",
            "value": 1400,
            "_view_count": null,
            "_view_module_version": "1.5.0",
            "orientation": "horizontal",
            "min": 0,
            "description_tooltip": null,
            "_model_module": "@jupyter-widgets/controls",
            "layout": "IPY_MODEL_db57316d008c40349ed9e06eaa11acf2"
          }
        },
        "267f25e66ccb403fb8af61f284f3af31": {
          "model_module": "@jupyter-widgets/controls",
          "model_name": "HTMLModel",
          "state": {
            "_view_name": "HTMLView",
            "style": "IPY_MODEL_a4bd4c10183c4842a8536d2c0c174157",
            "_dom_classes": [],
            "description": "",
            "_model_name": "HTMLModel",
            "placeholder": "​",
            "_view_module": "@jupyter-widgets/controls",
            "_model_module_version": "1.5.0",
            "value": " 1400/1400 [26:01&lt;00:00,  1.12it/s, training_loss=0.008]",
            "_view_count": null,
            "_view_module_version": "1.5.0",
            "description_tooltip": null,
            "_model_module": "@jupyter-widgets/controls",
            "layout": "IPY_MODEL_a77ff005ddde4be0aee024ff82ea0919"
          }
        },
        "7c2bd6b8ab0540898b44321ab06e0965": {
          "model_module": "@jupyter-widgets/controls",
          "model_name": "ProgressStyleModel",
          "state": {
            "_view_name": "StyleView",
            "_model_name": "ProgressStyleModel",
            "description_width": "initial",
            "_view_module": "@jupyter-widgets/base",
            "_model_module_version": "1.5.0",
            "_view_count": null,
            "_view_module_version": "1.2.0",
            "bar_color": null,
            "_model_module": "@jupyter-widgets/controls"
          }
        },
        "db57316d008c40349ed9e06eaa11acf2": {
          "model_module": "@jupyter-widgets/base",
          "model_name": "LayoutModel",
          "state": {
            "_view_name": "LayoutView",
            "grid_template_rows": null,
            "right": null,
            "justify_content": null,
            "_view_module": "@jupyter-widgets/base",
            "overflow": null,
            "_model_module_version": "1.2.0",
            "_view_count": null,
            "flex_flow": null,
            "width": null,
            "min_width": null,
            "border": null,
            "align_items": null,
            "bottom": null,
            "_model_module": "@jupyter-widgets/base",
            "top": null,
            "grid_column": null,
            "overflow_y": null,
            "overflow_x": null,
            "grid_auto_flow": null,
            "grid_area": null,
            "grid_template_columns": null,
            "flex": null,
            "_model_name": "LayoutModel",
            "justify_items": null,
            "grid_row": null,
            "max_height": null,
            "align_content": null,
            "visibility": null,
            "align_self": null,
            "height": null,
            "min_height": null,
            "padding": null,
            "grid_auto_rows": null,
            "grid_gap": null,
            "max_width": null,
            "order": null,
            "_view_module_version": "1.2.0",
            "grid_template_areas": null,
            "object_position": null,
            "object_fit": null,
            "grid_auto_columns": null,
            "margin": null,
            "display": null,
            "left": null
          }
        },
        "a4bd4c10183c4842a8536d2c0c174157": {
          "model_module": "@jupyter-widgets/controls",
          "model_name": "DescriptionStyleModel",
          "state": {
            "_view_name": "StyleView",
            "_model_name": "DescriptionStyleModel",
            "description_width": "",
            "_view_module": "@jupyter-widgets/base",
            "_model_module_version": "1.5.0",
            "_view_count": null,
            "_view_module_version": "1.2.0",
            "_model_module": "@jupyter-widgets/controls"
          }
        },
        "a77ff005ddde4be0aee024ff82ea0919": {
          "model_module": "@jupyter-widgets/base",
          "model_name": "LayoutModel",
          "state": {
            "_view_name": "LayoutView",
            "grid_template_rows": null,
            "right": null,
            "justify_content": null,
            "_view_module": "@jupyter-widgets/base",
            "overflow": null,
            "_model_module_version": "1.2.0",
            "_view_count": null,
            "flex_flow": null,
            "width": null,
            "min_width": null,
            "border": null,
            "align_items": null,
            "bottom": null,
            "_model_module": "@jupyter-widgets/base",
            "top": null,
            "grid_column": null,
            "overflow_y": null,
            "overflow_x": null,
            "grid_auto_flow": null,
            "grid_area": null,
            "grid_template_columns": null,
            "flex": null,
            "_model_name": "LayoutModel",
            "justify_items": null,
            "grid_row": null,
            "max_height": null,
            "align_content": null,
            "visibility": null,
            "align_self": null,
            "height": null,
            "min_height": null,
            "padding": null,
            "grid_auto_rows": null,
            "grid_gap": null,
            "max_width": null,
            "order": null,
            "_view_module_version": "1.2.0",
            "grid_template_areas": null,
            "object_position": null,
            "object_fit": null,
            "grid_auto_columns": null,
            "margin": null,
            "display": null,
            "left": null
          }
        },
        "09a02e20c07b4199b2dd87b59d308c5c": {
          "model_module": "@jupyter-widgets/controls",
          "model_name": "HBoxModel",
          "state": {
            "_view_name": "HBoxView",
            "_dom_classes": [],
            "_model_name": "HBoxModel",
            "_view_module": "@jupyter-widgets/controls",
            "_model_module_version": "1.5.0",
            "_view_count": null,
            "_view_module_version": "1.5.0",
            "box_style": "",
            "layout": "IPY_MODEL_4b6db69a021c4c62ba2371ee1e24bf8f",
            "_model_module": "@jupyter-widgets/controls",
            "children": [
              "IPY_MODEL_d6df1fd826804b37988627daeed62706",
              "IPY_MODEL_75c7247419e84d759e6d545ecd93c337"
            ]
          }
        },
        "4b6db69a021c4c62ba2371ee1e24bf8f": {
          "model_module": "@jupyter-widgets/base",
          "model_name": "LayoutModel",
          "state": {
            "_view_name": "LayoutView",
            "grid_template_rows": null,
            "right": null,
            "justify_content": null,
            "_view_module": "@jupyter-widgets/base",
            "overflow": null,
            "_model_module_version": "1.2.0",
            "_view_count": null,
            "flex_flow": null,
            "width": null,
            "min_width": null,
            "border": null,
            "align_items": null,
            "bottom": null,
            "_model_module": "@jupyter-widgets/base",
            "top": null,
            "grid_column": null,
            "overflow_y": null,
            "overflow_x": null,
            "grid_auto_flow": null,
            "grid_area": null,
            "grid_template_columns": null,
            "flex": null,
            "_model_name": "LayoutModel",
            "justify_items": null,
            "grid_row": null,
            "max_height": null,
            "align_content": null,
            "visibility": null,
            "align_self": null,
            "height": null,
            "min_height": null,
            "padding": null,
            "grid_auto_rows": null,
            "grid_gap": null,
            "max_width": null,
            "order": null,
            "_view_module_version": "1.2.0",
            "grid_template_areas": null,
            "object_position": null,
            "object_fit": null,
            "grid_auto_columns": null,
            "margin": null,
            "display": null,
            "left": null
          }
        },
        "d6df1fd826804b37988627daeed62706": {
          "model_module": "@jupyter-widgets/controls",
          "model_name": "FloatProgressModel",
          "state": {
            "_view_name": "ProgressView",
            "style": "IPY_MODEL_4ab27dc8fdfe4ba3ac65838c9ddcf0e5",
            "_dom_classes": [],
            "description": "Epoch 3: 100%",
            "_model_name": "FloatProgressModel",
            "bar_style": "",
            "max": 1400,
            "_view_module": "@jupyter-widgets/controls",
            "_model_module_version": "1.5.0",
            "value": 1400,
            "_view_count": null,
            "_view_module_version": "1.5.0",
            "orientation": "horizontal",
            "min": 0,
            "description_tooltip": null,
            "_model_module": "@jupyter-widgets/controls",
            "layout": "IPY_MODEL_b30352116f90425298be6593cc777c2b"
          }
        },
        "75c7247419e84d759e6d545ecd93c337": {
          "model_module": "@jupyter-widgets/controls",
          "model_name": "HTMLModel",
          "state": {
            "_view_name": "HTMLView",
            "style": "IPY_MODEL_2aec558e7a654948acb05b00768ba391",
            "_dom_classes": [],
            "description": "",
            "_model_name": "HTMLModel",
            "placeholder": "​",
            "_view_module": "@jupyter-widgets/controls",
            "_model_module_version": "1.5.0",
            "value": " 1400/1400 [25:59&lt;00:00,  1.13it/s, training_loss=0.002]",
            "_view_count": null,
            "_view_module_version": "1.5.0",
            "description_tooltip": null,
            "_model_module": "@jupyter-widgets/controls",
            "layout": "IPY_MODEL_f6e1d401130d41bbb4c8812780a28fb6"
          }
        },
        "4ab27dc8fdfe4ba3ac65838c9ddcf0e5": {
          "model_module": "@jupyter-widgets/controls",
          "model_name": "ProgressStyleModel",
          "state": {
            "_view_name": "StyleView",
            "_model_name": "ProgressStyleModel",
            "description_width": "initial",
            "_view_module": "@jupyter-widgets/base",
            "_model_module_version": "1.5.0",
            "_view_count": null,
            "_view_module_version": "1.2.0",
            "bar_color": null,
            "_model_module": "@jupyter-widgets/controls"
          }
        },
        "b30352116f90425298be6593cc777c2b": {
          "model_module": "@jupyter-widgets/base",
          "model_name": "LayoutModel",
          "state": {
            "_view_name": "LayoutView",
            "grid_template_rows": null,
            "right": null,
            "justify_content": null,
            "_view_module": "@jupyter-widgets/base",
            "overflow": null,
            "_model_module_version": "1.2.0",
            "_view_count": null,
            "flex_flow": null,
            "width": null,
            "min_width": null,
            "border": null,
            "align_items": null,
            "bottom": null,
            "_model_module": "@jupyter-widgets/base",
            "top": null,
            "grid_column": null,
            "overflow_y": null,
            "overflow_x": null,
            "grid_auto_flow": null,
            "grid_area": null,
            "grid_template_columns": null,
            "flex": null,
            "_model_name": "LayoutModel",
            "justify_items": null,
            "grid_row": null,
            "max_height": null,
            "align_content": null,
            "visibility": null,
            "align_self": null,
            "height": null,
            "min_height": null,
            "padding": null,
            "grid_auto_rows": null,
            "grid_gap": null,
            "max_width": null,
            "order": null,
            "_view_module_version": "1.2.0",
            "grid_template_areas": null,
            "object_position": null,
            "object_fit": null,
            "grid_auto_columns": null,
            "margin": null,
            "display": null,
            "left": null
          }
        },
        "2aec558e7a654948acb05b00768ba391": {
          "model_module": "@jupyter-widgets/controls",
          "model_name": "DescriptionStyleModel",
          "state": {
            "_view_name": "StyleView",
            "_model_name": "DescriptionStyleModel",
            "description_width": "",
            "_view_module": "@jupyter-widgets/base",
            "_model_module_version": "1.5.0",
            "_view_count": null,
            "_view_module_version": "1.2.0",
            "_model_module": "@jupyter-widgets/controls"
          }
        },
        "f6e1d401130d41bbb4c8812780a28fb6": {
          "model_module": "@jupyter-widgets/base",
          "model_name": "LayoutModel",
          "state": {
            "_view_name": "LayoutView",
            "grid_template_rows": null,
            "right": null,
            "justify_content": null,
            "_view_module": "@jupyter-widgets/base",
            "overflow": null,
            "_model_module_version": "1.2.0",
            "_view_count": null,
            "flex_flow": null,
            "width": null,
            "min_width": null,
            "border": null,
            "align_items": null,
            "bottom": null,
            "_model_module": "@jupyter-widgets/base",
            "top": null,
            "grid_column": null,
            "overflow_y": null,
            "overflow_x": null,
            "grid_auto_flow": null,
            "grid_area": null,
            "grid_template_columns": null,
            "flex": null,
            "_model_name": "LayoutModel",
            "justify_items": null,
            "grid_row": null,
            "max_height": null,
            "align_content": null,
            "visibility": null,
            "align_self": null,
            "height": null,
            "min_height": null,
            "padding": null,
            "grid_auto_rows": null,
            "grid_gap": null,
            "max_width": null,
            "order": null,
            "_view_module_version": "1.2.0",
            "grid_template_areas": null,
            "object_position": null,
            "object_fit": null,
            "grid_auto_columns": null,
            "margin": null,
            "display": null,
            "left": null
          }
        },
        "5043f23c34d74a64bf516e8ebe5964d4": {
          "model_module": "@jupyter-widgets/controls",
          "model_name": "HBoxModel",
          "state": {
            "_view_name": "HBoxView",
            "_dom_classes": [],
            "_model_name": "HBoxModel",
            "_view_module": "@jupyter-widgets/controls",
            "_model_module_version": "1.5.0",
            "_view_count": null,
            "_view_module_version": "1.5.0",
            "box_style": "",
            "layout": "IPY_MODEL_414a7675ab6e4f0d9d2d198d37dc97d0",
            "_model_module": "@jupyter-widgets/controls",
            "children": [
              "IPY_MODEL_d56c15f974e24c8fa6c56531d79c83de",
              "IPY_MODEL_870f65af40bc4e95adb34e49f0a66949"
            ]
          }
        },
        "414a7675ab6e4f0d9d2d198d37dc97d0": {
          "model_module": "@jupyter-widgets/base",
          "model_name": "LayoutModel",
          "state": {
            "_view_name": "LayoutView",
            "grid_template_rows": null,
            "right": null,
            "justify_content": null,
            "_view_module": "@jupyter-widgets/base",
            "overflow": null,
            "_model_module_version": "1.2.0",
            "_view_count": null,
            "flex_flow": null,
            "width": null,
            "min_width": null,
            "border": null,
            "align_items": null,
            "bottom": null,
            "_model_module": "@jupyter-widgets/base",
            "top": null,
            "grid_column": null,
            "overflow_y": null,
            "overflow_x": null,
            "grid_auto_flow": null,
            "grid_area": null,
            "grid_template_columns": null,
            "flex": null,
            "_model_name": "LayoutModel",
            "justify_items": null,
            "grid_row": null,
            "max_height": null,
            "align_content": null,
            "visibility": null,
            "align_self": null,
            "height": null,
            "min_height": null,
            "padding": null,
            "grid_auto_rows": null,
            "grid_gap": null,
            "max_width": null,
            "order": null,
            "_view_module_version": "1.2.0",
            "grid_template_areas": null,
            "object_position": null,
            "object_fit": null,
            "grid_auto_columns": null,
            "margin": null,
            "display": null,
            "left": null
          }
        },
        "d56c15f974e24c8fa6c56531d79c83de": {
          "model_module": "@jupyter-widgets/controls",
          "model_name": "FloatProgressModel",
          "state": {
            "_view_name": "ProgressView",
            "style": "IPY_MODEL_a81b9d8f39dc403c89fa0aa8129219f2",
            "_dom_classes": [],
            "description": "Epoch 4: 100%",
            "_model_name": "FloatProgressModel",
            "bar_style": "",
            "max": 1400,
            "_view_module": "@jupyter-widgets/controls",
            "_model_module_version": "1.5.0",
            "value": 1400,
            "_view_count": null,
            "_view_module_version": "1.5.0",
            "orientation": "horizontal",
            "min": 0,
            "description_tooltip": null,
            "_model_module": "@jupyter-widgets/controls",
            "layout": "IPY_MODEL_2f464f2c8fa44701b008ae857a7f2180"
          }
        },
        "870f65af40bc4e95adb34e49f0a66949": {
          "model_module": "@jupyter-widgets/controls",
          "model_name": "HTMLModel",
          "state": {
            "_view_name": "HTMLView",
            "style": "IPY_MODEL_6929b263ce104f04817a0c68354e6f53",
            "_dom_classes": [],
            "description": "",
            "_model_name": "HTMLModel",
            "placeholder": "​",
            "_view_module": "@jupyter-widgets/controls",
            "_model_module_version": "1.5.0",
            "value": " 1400/1400 [25:57&lt;00:00,  1.12it/s, training_loss=0.001]",
            "_view_count": null,
            "_view_module_version": "1.5.0",
            "description_tooltip": null,
            "_model_module": "@jupyter-widgets/controls",
            "layout": "IPY_MODEL_4c076ceb5c77486c81ab0b32eaf59850"
          }
        },
        "a81b9d8f39dc403c89fa0aa8129219f2": {
          "model_module": "@jupyter-widgets/controls",
          "model_name": "ProgressStyleModel",
          "state": {
            "_view_name": "StyleView",
            "_model_name": "ProgressStyleModel",
            "description_width": "initial",
            "_view_module": "@jupyter-widgets/base",
            "_model_module_version": "1.5.0",
            "_view_count": null,
            "_view_module_version": "1.2.0",
            "bar_color": null,
            "_model_module": "@jupyter-widgets/controls"
          }
        },
        "2f464f2c8fa44701b008ae857a7f2180": {
          "model_module": "@jupyter-widgets/base",
          "model_name": "LayoutModel",
          "state": {
            "_view_name": "LayoutView",
            "grid_template_rows": null,
            "right": null,
            "justify_content": null,
            "_view_module": "@jupyter-widgets/base",
            "overflow": null,
            "_model_module_version": "1.2.0",
            "_view_count": null,
            "flex_flow": null,
            "width": null,
            "min_width": null,
            "border": null,
            "align_items": null,
            "bottom": null,
            "_model_module": "@jupyter-widgets/base",
            "top": null,
            "grid_column": null,
            "overflow_y": null,
            "overflow_x": null,
            "grid_auto_flow": null,
            "grid_area": null,
            "grid_template_columns": null,
            "flex": null,
            "_model_name": "LayoutModel",
            "justify_items": null,
            "grid_row": null,
            "max_height": null,
            "align_content": null,
            "visibility": null,
            "align_self": null,
            "height": null,
            "min_height": null,
            "padding": null,
            "grid_auto_rows": null,
            "grid_gap": null,
            "max_width": null,
            "order": null,
            "_view_module_version": "1.2.0",
            "grid_template_areas": null,
            "object_position": null,
            "object_fit": null,
            "grid_auto_columns": null,
            "margin": null,
            "display": null,
            "left": null
          }
        },
        "6929b263ce104f04817a0c68354e6f53": {
          "model_module": "@jupyter-widgets/controls",
          "model_name": "DescriptionStyleModel",
          "state": {
            "_view_name": "StyleView",
            "_model_name": "DescriptionStyleModel",
            "description_width": "",
            "_view_module": "@jupyter-widgets/base",
            "_model_module_version": "1.5.0",
            "_view_count": null,
            "_view_module_version": "1.2.0",
            "_model_module": "@jupyter-widgets/controls"
          }
        },
        "4c076ceb5c77486c81ab0b32eaf59850": {
          "model_module": "@jupyter-widgets/base",
          "model_name": "LayoutModel",
          "state": {
            "_view_name": "LayoutView",
            "grid_template_rows": null,
            "right": null,
            "justify_content": null,
            "_view_module": "@jupyter-widgets/base",
            "overflow": null,
            "_model_module_version": "1.2.0",
            "_view_count": null,
            "flex_flow": null,
            "width": null,
            "min_width": null,
            "border": null,
            "align_items": null,
            "bottom": null,
            "_model_module": "@jupyter-widgets/base",
            "top": null,
            "grid_column": null,
            "overflow_y": null,
            "overflow_x": null,
            "grid_auto_flow": null,
            "grid_area": null,
            "grid_template_columns": null,
            "flex": null,
            "_model_name": "LayoutModel",
            "justify_items": null,
            "grid_row": null,
            "max_height": null,
            "align_content": null,
            "visibility": null,
            "align_self": null,
            "height": null,
            "min_height": null,
            "padding": null,
            "grid_auto_rows": null,
            "grid_gap": null,
            "max_width": null,
            "order": null,
            "_view_module_version": "1.2.0",
            "grid_template_areas": null,
            "object_position": null,
            "object_fit": null,
            "grid_auto_columns": null,
            "margin": null,
            "display": null,
            "left": null
          }
        },
        "504e4b7d56c84db4bc1bef533708aef2": {
          "model_module": "@jupyter-widgets/controls",
          "model_name": "HBoxModel",
          "state": {
            "_view_name": "HBoxView",
            "_dom_classes": [],
            "_model_name": "HBoxModel",
            "_view_module": "@jupyter-widgets/controls",
            "_model_module_version": "1.5.0",
            "_view_count": null,
            "_view_module_version": "1.5.0",
            "box_style": "",
            "layout": "IPY_MODEL_a3c08318a40a4f2ab9020d87fb969d8d",
            "_model_module": "@jupyter-widgets/controls",
            "children": [
              "IPY_MODEL_bb5baf90be5146fd8ef21f15a680d113",
              "IPY_MODEL_861b01cee5ae4875b3cd7ba341e885f2"
            ]
          }
        },
        "a3c08318a40a4f2ab9020d87fb969d8d": {
          "model_module": "@jupyter-widgets/base",
          "model_name": "LayoutModel",
          "state": {
            "_view_name": "LayoutView",
            "grid_template_rows": null,
            "right": null,
            "justify_content": null,
            "_view_module": "@jupyter-widgets/base",
            "overflow": null,
            "_model_module_version": "1.2.0",
            "_view_count": null,
            "flex_flow": null,
            "width": null,
            "min_width": null,
            "border": null,
            "align_items": null,
            "bottom": null,
            "_model_module": "@jupyter-widgets/base",
            "top": null,
            "grid_column": null,
            "overflow_y": null,
            "overflow_x": null,
            "grid_auto_flow": null,
            "grid_area": null,
            "grid_template_columns": null,
            "flex": null,
            "_model_name": "LayoutModel",
            "justify_items": null,
            "grid_row": null,
            "max_height": null,
            "align_content": null,
            "visibility": null,
            "align_self": null,
            "height": null,
            "min_height": null,
            "padding": null,
            "grid_auto_rows": null,
            "grid_gap": null,
            "max_width": null,
            "order": null,
            "_view_module_version": "1.2.0",
            "grid_template_areas": null,
            "object_position": null,
            "object_fit": null,
            "grid_auto_columns": null,
            "margin": null,
            "display": null,
            "left": null
          }
        },
        "bb5baf90be5146fd8ef21f15a680d113": {
          "model_module": "@jupyter-widgets/controls",
          "model_name": "FloatProgressModel",
          "state": {
            "_view_name": "ProgressView",
            "style": "IPY_MODEL_86f7f3aa027244d3a99e7f1d1572559e",
            "_dom_classes": [],
            "description": "Epoch 5: 100%",
            "_model_name": "FloatProgressModel",
            "bar_style": "",
            "max": 1400,
            "_view_module": "@jupyter-widgets/controls",
            "_model_module_version": "1.5.0",
            "value": 1400,
            "_view_count": null,
            "_view_module_version": "1.5.0",
            "orientation": "horizontal",
            "min": 0,
            "description_tooltip": null,
            "_model_module": "@jupyter-widgets/controls",
            "layout": "IPY_MODEL_8bf7daf4b1a343418a17e655b880fa57"
          }
        },
        "861b01cee5ae4875b3cd7ba341e885f2": {
          "model_module": "@jupyter-widgets/controls",
          "model_name": "HTMLModel",
          "state": {
            "_view_name": "HTMLView",
            "style": "IPY_MODEL_6dd4708ecb83415b8f79cf193c32e886",
            "_dom_classes": [],
            "description": "",
            "_model_name": "HTMLModel",
            "placeholder": "​",
            "_view_module": "@jupyter-widgets/controls",
            "_model_module_version": "1.5.0",
            "value": " 1400/1400 [25:55&lt;00:00,  1.12it/s, training_loss=0.001]",
            "_view_count": null,
            "_view_module_version": "1.5.0",
            "description_tooltip": null,
            "_model_module": "@jupyter-widgets/controls",
            "layout": "IPY_MODEL_51234cddf14c4e9b91c39d2ccc70553a"
          }
        },
        "86f7f3aa027244d3a99e7f1d1572559e": {
          "model_module": "@jupyter-widgets/controls",
          "model_name": "ProgressStyleModel",
          "state": {
            "_view_name": "StyleView",
            "_model_name": "ProgressStyleModel",
            "description_width": "initial",
            "_view_module": "@jupyter-widgets/base",
            "_model_module_version": "1.5.0",
            "_view_count": null,
            "_view_module_version": "1.2.0",
            "bar_color": null,
            "_model_module": "@jupyter-widgets/controls"
          }
        },
        "8bf7daf4b1a343418a17e655b880fa57": {
          "model_module": "@jupyter-widgets/base",
          "model_name": "LayoutModel",
          "state": {
            "_view_name": "LayoutView",
            "grid_template_rows": null,
            "right": null,
            "justify_content": null,
            "_view_module": "@jupyter-widgets/base",
            "overflow": null,
            "_model_module_version": "1.2.0",
            "_view_count": null,
            "flex_flow": null,
            "width": null,
            "min_width": null,
            "border": null,
            "align_items": null,
            "bottom": null,
            "_model_module": "@jupyter-widgets/base",
            "top": null,
            "grid_column": null,
            "overflow_y": null,
            "overflow_x": null,
            "grid_auto_flow": null,
            "grid_area": null,
            "grid_template_columns": null,
            "flex": null,
            "_model_name": "LayoutModel",
            "justify_items": null,
            "grid_row": null,
            "max_height": null,
            "align_content": null,
            "visibility": null,
            "align_self": null,
            "height": null,
            "min_height": null,
            "padding": null,
            "grid_auto_rows": null,
            "grid_gap": null,
            "max_width": null,
            "order": null,
            "_view_module_version": "1.2.0",
            "grid_template_areas": null,
            "object_position": null,
            "object_fit": null,
            "grid_auto_columns": null,
            "margin": null,
            "display": null,
            "left": null
          }
        },
        "6dd4708ecb83415b8f79cf193c32e886": {
          "model_module": "@jupyter-widgets/controls",
          "model_name": "DescriptionStyleModel",
          "state": {
            "_view_name": "StyleView",
            "_model_name": "DescriptionStyleModel",
            "description_width": "",
            "_view_module": "@jupyter-widgets/base",
            "_model_module_version": "1.5.0",
            "_view_count": null,
            "_view_module_version": "1.2.0",
            "_model_module": "@jupyter-widgets/controls"
          }
        },
        "51234cddf14c4e9b91c39d2ccc70553a": {
          "model_module": "@jupyter-widgets/base",
          "model_name": "LayoutModel",
          "state": {
            "_view_name": "LayoutView",
            "grid_template_rows": null,
            "right": null,
            "justify_content": null,
            "_view_module": "@jupyter-widgets/base",
            "overflow": null,
            "_model_module_version": "1.2.0",
            "_view_count": null,
            "flex_flow": null,
            "width": null,
            "min_width": null,
            "border": null,
            "align_items": null,
            "bottom": null,
            "_model_module": "@jupyter-widgets/base",
            "top": null,
            "grid_column": null,
            "overflow_y": null,
            "overflow_x": null,
            "grid_auto_flow": null,
            "grid_area": null,
            "grid_template_columns": null,
            "flex": null,
            "_model_name": "LayoutModel",
            "justify_items": null,
            "grid_row": null,
            "max_height": null,
            "align_content": null,
            "visibility": null,
            "align_self": null,
            "height": null,
            "min_height": null,
            "padding": null,
            "grid_auto_rows": null,
            "grid_gap": null,
            "max_width": null,
            "order": null,
            "_view_module_version": "1.2.0",
            "grid_template_areas": null,
            "object_position": null,
            "object_fit": null,
            "grid_auto_columns": null,
            "margin": null,
            "display": null,
            "left": null
          }
        }
      }
    }
  },
  "cells": [
    {
      "cell_type": "markdown",
      "metadata": {
        "id": "view-in-github",
        "colab_type": "text"
      },
      "source": [
        "<a href=\"https://colab.research.google.com/github/sugampath/BERT-result/blob/master/Bertcleandata92%25.ipynb\" target=\"_parent\"><img src=\"https://colab.research.google.com/assets/colab-badge.svg\" alt=\"Open In Colab\"/></a>"
      ]
    },
    {
      "cell_type": "code",
      "metadata": {
        "colab": {
          "base_uri": "https://localhost:8080/"
        },
        "id": "v7FeV2zUERCs",
        "outputId": "0c158c89-9680-46ca-9c08-781600fcbaf6"
      },
      "source": [
        "from google.colab import drive\n",
        "drive.mount('/content/drive')"
      ],
      "execution_count": 61,
      "outputs": [
        {
          "output_type": "stream",
          "text": [
            "Drive already mounted at /content/drive; to attempt to forcibly remount, call drive.mount(\"/content/drive\", force_remount=True).\n"
          ],
          "name": "stdout"
        }
      ]
    },
    {
      "cell_type": "code",
      "metadata": {
        "colab": {
          "base_uri": "https://localhost:8080/"
        },
        "id": "2S6A_2HP1BNX",
        "outputId": "1dae9248-248d-4dea-f4d3-6181ed67d417"
      },
      "source": [
        "pip install transformers"
      ],
      "execution_count": 62,
      "outputs": [
        {
          "output_type": "stream",
          "text": [
            "Requirement already satisfied: transformers in /usr/local/lib/python3.7/dist-packages (4.4.2)\n",
            "Requirement already satisfied: sacremoses in /usr/local/lib/python3.7/dist-packages (from transformers) (0.0.43)\n",
            "Requirement already satisfied: requests in /usr/local/lib/python3.7/dist-packages (from transformers) (2.23.0)\n",
            "Requirement already satisfied: regex!=2019.12.17 in /usr/local/lib/python3.7/dist-packages (from transformers) (2019.12.20)\n",
            "Requirement already satisfied: numpy>=1.17 in /usr/local/lib/python3.7/dist-packages (from transformers) (1.19.5)\n",
            "Requirement already satisfied: importlib-metadata; python_version < \"3.8\" in /usr/local/lib/python3.7/dist-packages (from transformers) (3.8.1)\n",
            "Requirement already satisfied: filelock in /usr/local/lib/python3.7/dist-packages (from transformers) (3.0.12)\n",
            "Requirement already satisfied: packaging in /usr/local/lib/python3.7/dist-packages (from transformers) (20.9)\n",
            "Requirement already satisfied: tqdm>=4.27 in /usr/local/lib/python3.7/dist-packages (from transformers) (4.41.1)\n",
            "Requirement already satisfied: tokenizers<0.11,>=0.10.1 in /usr/local/lib/python3.7/dist-packages (from transformers) (0.10.1)\n",
            "Requirement already satisfied: joblib in /usr/local/lib/python3.7/dist-packages (from sacremoses->transformers) (1.0.1)\n",
            "Requirement already satisfied: click in /usr/local/lib/python3.7/dist-packages (from sacremoses->transformers) (7.1.2)\n",
            "Requirement already satisfied: six in /usr/local/lib/python3.7/dist-packages (from sacremoses->transformers) (1.15.0)\n",
            "Requirement already satisfied: certifi>=2017.4.17 in /usr/local/lib/python3.7/dist-packages (from requests->transformers) (2020.12.5)\n",
            "Requirement already satisfied: idna<3,>=2.5 in /usr/local/lib/python3.7/dist-packages (from requests->transformers) (2.10)\n",
            "Requirement already satisfied: urllib3!=1.25.0,!=1.25.1,<1.26,>=1.21.1 in /usr/local/lib/python3.7/dist-packages (from requests->transformers) (1.24.3)\n",
            "Requirement already satisfied: chardet<4,>=3.0.2 in /usr/local/lib/python3.7/dist-packages (from requests->transformers) (3.0.4)\n",
            "Requirement already satisfied: typing-extensions>=3.6.4; python_version < \"3.8\" in /usr/local/lib/python3.7/dist-packages (from importlib-metadata; python_version < \"3.8\"->transformers) (3.7.4.3)\n",
            "Requirement already satisfied: zipp>=0.5 in /usr/local/lib/python3.7/dist-packages (from importlib-metadata; python_version < \"3.8\"->transformers) (3.4.1)\n",
            "Requirement already satisfied: pyparsing>=2.0.2 in /usr/local/lib/python3.7/dist-packages (from packaging->transformers) (2.4.7)\n"
          ],
          "name": "stdout"
        }
      ]
    },
    {
      "cell_type": "code",
      "metadata": {
        "id": "MaCHiWY_NA9F"
      },
      "source": [
        "import pandas as pd\n",
        "import numpy as np\n",
        "import re\n",
        "import torch\n",
        "from tqdm.notebook import tqdm\n",
        "from transformers import BertTokenizer\n",
        "from torch.utils.data import TensorDataset\n",
        "from transformers import BertForSequenceClassification\n",
        "from torch.utils.data import DataLoader, RandomSampler, SequentialSampler,TensorDataset\n",
        "from transformers import AdamW, get_linear_schedule_with_warmup\n",
        "import nltk\n",
        "from nltk.corpus import stopwords\n",
        "from sklearn.model_selection import train_test_split\n",
        "import seaborn as sns"
      ],
      "execution_count": 63,
      "outputs": []
    },
    {
      "cell_type": "code",
      "metadata": {
        "id": "f5HKaJMdGSAI"
      },
      "source": [
        "data=pd.read_csv(\"/content/drive/MyDrive/Thesis/dataset.csv\")"
      ],
      "execution_count": 64,
      "outputs": []
    },
    {
      "cell_type": "code",
      "metadata": {
        "id": "_D5NLCqMM4CN"
      },
      "source": [
        "data.rename(columns = {\"label\":\"category\"}, inplace = True)"
      ],
      "execution_count": 65,
      "outputs": []
    },
    {
      "cell_type": "code",
      "metadata": {
        "colab": {
          "base_uri": "https://localhost:8080/",
          "height": 359
        },
        "id": "ZfRqmOBZMNC7",
        "outputId": "b6c231d2-ae6d-4c8a-c2ae-364f59cb8e8c"
      },
      "source": [
        "data.head(10)"
      ],
      "execution_count": 66,
      "outputs": [
        {
          "output_type": "execute_result",
          "data": {
            "text/html": [
              "<div>\n",
              "<style scoped>\n",
              "    .dataframe tbody tr th:only-of-type {\n",
              "        vertical-align: middle;\n",
              "    }\n",
              "\n",
              "    .dataframe tbody tr th {\n",
              "        vertical-align: top;\n",
              "    }\n",
              "\n",
              "    .dataframe thead th {\n",
              "        text-align: right;\n",
              "    }\n",
              "</style>\n",
              "<table border=\"1\" class=\"dataframe\">\n",
              "  <thead>\n",
              "    <tr style=\"text-align: right;\">\n",
              "      <th></th>\n",
              "      <th>feature</th>\n",
              "      <th>category</th>\n",
              "    </tr>\n",
              "  </thead>\n",
              "  <tbody>\n",
              "    <tr>\n",
              "      <th>0</th>\n",
              "      <td>सुदूरपश्चिम समाज कतारको दोस्रो साधारणसभा सम्पन...</td>\n",
              "      <td>diaspora</td>\n",
              "    </tr>\n",
              "    <tr>\n",
              "      <th>1</th>\n",
              "      <td>अमेरिकाबाट गायिका थापाको देशभक्ति गीत (भिडियो ...</td>\n",
              "      <td>diaspora</td>\n",
              "    </tr>\n",
              "    <tr>\n",
              "      <th>2</th>\n",
              "      <td>आदिवासी जनजाति मञ्च अष्ट्रेलियामा नयाँ कार्यसम...</td>\n",
              "      <td>diaspora</td>\n",
              "    </tr>\n",
              "    <tr>\n",
              "      <th>3</th>\n",
              "      <td>नेपाल फेस्टिवल मेलवर्नः नेपालका पर्यटनमन्त्री ...</td>\n",
              "      <td>diaspora</td>\n",
              "    </tr>\n",
              "    <tr>\n",
              "      <th>4</th>\n",
              "      <td>नेपाल फेष्टिबलको धन्यवाद ज्ञापन सम्पन्न\\n\\n१२ ...</td>\n",
              "      <td>diaspora</td>\n",
              "    </tr>\n",
              "    <tr>\n",
              "      <th>5</th>\n",
              "      <td>आगलागी पीडित थापालाई भेटे एनआरएन अध्यक्षले\\n\\n...</td>\n",
              "      <td>diaspora</td>\n",
              "    </tr>\n",
              "    <tr>\n",
              "      <th>6</th>\n",
              "      <td>फिजीका नेपालीलाई नेपाली भाषा पढाइने\\nभीमसेन सा...</td>\n",
              "      <td>diaspora</td>\n",
              "    </tr>\n",
              "    <tr>\n",
              "      <th>7</th>\n",
              "      <td>अष्ट्रेलियामा नेपालीको पहिलो संस्थाले पायो नया...</td>\n",
              "      <td>diaspora</td>\n",
              "    </tr>\n",
              "    <tr>\n",
              "      <th>8</th>\n",
              "      <td>कराते खेलाडी ठकुरी ‘अमेरिका गट ट्यालेन्ट’मा जा...</td>\n",
              "      <td>diaspora</td>\n",
              "    </tr>\n",
              "    <tr>\n",
              "      <th>9</th>\n",
              "      <td>ईयूका लागि नेपाली राजदूत नियुक्त भएपछि थापाले ...</td>\n",
              "      <td>diaspora</td>\n",
              "    </tr>\n",
              "  </tbody>\n",
              "</table>\n",
              "</div>"
            ],
            "text/plain": [
              "                                             feature  category\n",
              "0  सुदूरपश्चिम समाज कतारको दोस्रो साधारणसभा सम्पन...  diaspora\n",
              "1  अमेरिकाबाट गायिका थापाको देशभक्ति गीत (भिडियो ...  diaspora\n",
              "2  आदिवासी जनजाति मञ्च अष्ट्रेलियामा नयाँ कार्यसम...  diaspora\n",
              "3  नेपाल फेस्टिवल मेलवर्नः नेपालका पर्यटनमन्त्री ...  diaspora\n",
              "4  नेपाल फेष्टिबलको धन्यवाद ज्ञापन सम्पन्न\\n\\n१२ ...  diaspora\n",
              "5  आगलागी पीडित थापालाई भेटे एनआरएन अध्यक्षले\\n\\n...  diaspora\n",
              "6  फिजीका नेपालीलाई नेपाली भाषा पढाइने\\nभीमसेन सा...  diaspora\n",
              "7  अष्ट्रेलियामा नेपालीको पहिलो संस्थाले पायो नया...  diaspora\n",
              "8  कराते खेलाडी ठकुरी ‘अमेरिका गट ट्यालेन्ट’मा जा...  diaspora\n",
              "9  ईयूका लागि नेपाली राजदूत नियुक्त भएपछि थापाले ...  diaspora"
            ]
          },
          "metadata": {
            "tags": []
          },
          "execution_count": 66
        }
      ]
    },
    {
      "cell_type": "code",
      "metadata": {
        "colab": {
          "base_uri": "https://localhost:8080/",
          "height": 120
        },
        "id": "O2E98cVcN0c3",
        "outputId": "942ca028-5081-4490-ab89-887656870720"
      },
      "source": [
        "data[\"feature\"][200]"
      ],
      "execution_count": 67,
      "outputs": [
        {
          "output_type": "execute_result",
          "data": {
            "application/vnd.google.colaboratory.intrinsic+json": {
              "type": "string"
            },
            "text/plain": [
              "'साउदी अरबको जेद्दामा मनाइयो ल्होछार\\nजेद्दा । आफ्नो मौलिक धर्म, संस्कृति र परम्परालाई जगेर्ना गर्दै निरन्तर उत्थान, सम्बर्द्धन एवं प्रबर्द्धन गर्न साउदी अरबको जेद्धा आसपासमा रहेका तामाङ श्रमिकहरूले बृहत रूपमा सोनाम ल्होछार मनाएका छन् । ज्या ल्हो अर्थात चरा बर्गको नयाँ वर्ष २८५३ को आगमनलाई हर्षोउल्लासका साथ मनाइयो ।\\nनेपाल तामाङ घेदुङ प्रवास शाखा साउदी अरबका अध्यक्ष विगेन्द्रसिंह वाइवाको सभापतित्वमा सम्पन्न उक्त कार्यक्रमलाई घेदुङका महासचिव नवराज घिसिङले संचालन गरेका थिए ।\\nमहावाणीज्य दूतावासका कार्यवाहक महावाणीज्यदूत रेवती रमण पौडेलको प्रमुख आतिथ्यता भएको कार्यक्रममा अन्य अतिथिहरू वाणीज्यदूत मनहरी दंगाल, श्रम सहचारी भोजराज घिमिरे, आदिबासी जनजाति महासंघ साउदी अरबका केन्द्रिय उपाध्यक्ष बालकुमार राई, आदिबासी जनजाति महासंघ क्षेत्रीय समन्वय समिति जेद्धाका अध्यक्ष ङिमा साङगे शेर्पा लगायतको उपस्थिति थियो ।\\nकार्यक्रममा गैरआवासीय नेपाली संघ साउदी अरबका उपाध्यक्ष ध्रुब रिजाल, तमु धी जेद्धाका अध्यक्ष वुद्धीलाल गुरूङ, नेपाली युवा क्लब जेद्धाका अध्यक्ष कृष्ण भट्टराई, गैर आवासीय नेपाली संघ क्षेत्रीय समिति जेद्धाका अध्यक्ष भिम गुरूङ, समाजसेवी तथा कलाकार धनबहादुर गुरुङ, बरिष्ठ समाजसेवी बेद कुमार गुरुङ, समाजसेवी तथा बुद्धिजीवीहरु पूर्ण कार्की, दुर्गा बिक, दिनेश क्षेत्री पनि उपस्थित थिए ।\\nकार्यक्रमलाई घेदुङका सचिव आशिम दोर्जे तामाङले स्वागत गरेका थिए । \\xa0रेवती रमण पौडेलले सोनाम ल्होछार एक धर्म, समुदायको मात्र नभई सिङ्गो नेपालीको साझा राष्ट्रिय पर्व भएको र यस कुरालाई राज्य पक्षबाट पनि सकारात्मक पहल कदम गरिरहेको जानकारी गराए साथै उनले प्रवासी भुमिमा पनि यस किसिमको सांस्कृतिक महत्त्व बोकेको पर्वहरु मनाउने गर्नु र यस्ता कार्यक्रमहरुमा आफू सहभागी हुन पाउदा गौरवान्वित महसुस भएको वताए ।\\nप्रथम चरणको कार्यक्रमलाई समापन गर्दै सभापति बिगेन्द्र सिंह तामाङले सुरुमा आफूहरुले नेपाल आदिबासी जनजाति महासंघ क्षेत्रीय समन्वय समितिको सहकार्यमा आयोजना गरी मनाएको सोनाम ल्होछार कार्यक्रम अहिले आएर समुदायको उल्लेख्य सहभागितामा धुमधामका साथ मनाउन सफल भएकोमा सिङ्गो साउदी घेदुङ परिवारको गर्वको विषय भएको जानकारी गराउँदै कार्यक्रम सफल वनाउनका निमित्त अहम भूमिका खेल्नुहुने सवैप्रति कृतज्ञता व्यक्त गरे ।\\nऔपचारिक कार्यक्रमलगत्तै सामाजिक अभियन्त अञ्जन पोखरेलले ूनेपालका सांसदहरुलाई प्रवासी श्रमिकहरूको चिठीू भन्ने शीर्षकको श्रमिक हकहितको लगि प्रवासी कामदार तथा पत्रकारको समुहद्वारा तयार गरिएको अनलाइन फारम भर्न सबैलाई आग्रह गर्दै फारम कसरी भर्ने भन्ने सम्बन्धमा प्रिजेन्टेशन गराएका थिए ।\\nफारम आगामी मार्च १५ तारीक सम्म भर्न सकिने छ । उक्त अभियानमा तामाङ घेदुङ साउदी अरबले श्रमिक सम्वद्ध गतिविधिलाई अत्यन्त महत्वकासाथ स्थान दिएकोमा कार्यक्रममा सहभागि सबैले खुलेर प्रशंसा गरे ।\\nकृष्ण तामाङको संयोजकमा दोश्रो चरणको सांस्कृतिक कार्यक्रमलाई तामाङ घेदुङ साउदीका कार्यसमिति महिला सदस्य शान्ति थिङ तामाङले संचालन गरेकी थिइन् । खाडीको गर्मी ठाँउमा एक्कासी मध्यान्ह परेको बर्षाले केही चिस्याएको जेद्धा शहर स्थानीय चर्चित कलाकारहरुको बेजोड प्रस्तुतिले तताएको थियो ।\\nचर्चित कलाकारहरुले पनि आआफ्नो प्रस्तुति पस्किदै उपस्थित सबैलाई भरपुर मनोरञ्जन दिलाए । साउदी घेदुङका अध्यक्ष बिगेन्द्र सिंह तामाङले समेत ल्हाप्साङकर्पो क्षेत्रको चर्चित गीत गादे ग्योना सेर्का दाङ्जीू भन्ने गीत गायका थिए । त्यसैगरि कलाकारहरु शान्त लामा मखमली, धन बहादुर तमु , सिमरन पुन मगर, रजन तामाङ, प्रेम पुन, मिसार घा, खिम तमु, पुजा सरगम लगायत अन्य कलाकारहरुले विभिन्न गायन तथा नृत्यको मध्यमबाट आफ्नो बेजोड प्रस्तुति देखाएको थिए ।\\nकार्यक्रमको उत्तरार्धमा दोलखा जिल्ला भुसाफिदा- ४ का मृगौलापीडित पाल्देन लामाको उपचारार्थ सहयोग रकम समेत संकलन गरिएको थियो। पाल्देन बचाउ अभियान साउदीका प्रतिनिधि ज्योज्यो पाराङ दोल्खाली निमा घिसिङको अनुरोधमा नेपाल तामाङ घेदुङ साउदी अरबको पहलमा नेपाली रुपैयाँ ५५ हजार संकलन गरिएको थियो ।\\n\\n'"
            ]
          },
          "metadata": {
            "tags": []
          },
          "execution_count": 67
        }
      ]
    },
    {
      "cell_type": "code",
      "metadata": {
        "colab": {
          "base_uri": "https://localhost:8080/"
        },
        "id": "iFkVbKfB1fnu",
        "outputId": "0c41bc85-ea3f-4330-f2c1-dc4803a2dc89"
      },
      "source": [
        "nltk.download('stopwords')"
      ],
      "execution_count": 68,
      "outputs": [
        {
          "output_type": "stream",
          "text": [
            "[nltk_data] Downloading package stopwords to /root/nltk_data...\n",
            "[nltk_data]   Package stopwords is already up-to-date!\n"
          ],
          "name": "stdout"
        },
        {
          "output_type": "execute_result",
          "data": {
            "text/plain": [
              "True"
            ]
          },
          "metadata": {
            "tags": []
          },
          "execution_count": 68
        }
      ]
    },
    {
      "cell_type": "code",
      "metadata": {
        "id": "JlWdX_q4tXKN"
      },
      "source": [
        "stop_words = stopwords.words(\"nepali\")\n",
        "data[\"feature\"] = data[\"feature\"].apply(lambda x: re.sub('[।(),०-९<<?!,—,–,/,’,‘,:,\\u200d,\\n,\\xa0]', '', x))\n",
        "data[\"feature\"] = data[\"feature\"].apply(lambda x: \" \".join([i for i in x.split()if i not in (stop_words)]))"
      ],
      "execution_count": 69,
      "outputs": []
    },
    {
      "cell_type": "code",
      "metadata": {
        "id": "LJCi9Wuzuca4",
        "colab": {
          "base_uri": "https://localhost:8080/",
          "height": 120
        },
        "outputId": "333221ba-3a79-4836-c099-dd0b66c36169"
      },
      "source": [
        "data[\"feature\"][200]"
      ],
      "execution_count": 70,
      "outputs": [
        {
          "output_type": "execute_result",
          "data": {
            "application/vnd.google.colaboratory.intrinsic+json": {
              "type": "string"
            },
            "text/plain": [
              "'साउदी अरबको जेद्दामा मनाइयो ल्होछारजेद्दा मौलिक धर्म संस्कृति परम्परालाई जगेर्ना निरन्तर उत्थान सम्बर्द्धन एवं प्रबर्द्धन साउदी अरबको जेद्धा आसपासमा तामाङ श्रमिकहरूले बृहत रूपमा सोनाम ल्होछार मनाएका ज्या ल्हो चरा बर्गको वर्ष आगमनलाई हर्षोउल्लासका मनाइयो नेपाल तामाङ घेदुङ प्रवास शाखा साउदी अरबका अध्यक्ष विगेन्द्रसिंह वाइवाको सभापतित्वमा सम्पन्न उक्त कार्यक्रमलाई घेदुङका महासचिव नवराज घिसिङले संचालन महावाणीज्य दूतावासका कार्यवाहक महावाणीज्यदूत रेवती रमण पौडेलको प्रमुख आतिथ्यता कार्यक्रममा अतिथिहरू वाणीज्यदूत मनहरी दंगाल श्रम सहचारी भोजराज घिमिरे आदिबासी जनजाति महासंघ साउदी अरबका केन्द्रिय उपाध्यक्ष बालकुमार राई आदिबासी जनजाति महासंघ क्षेत्रीय समन्वय समिति जेद्धाका अध्यक्ष ङिमा साङगे शेर्पा लगायतको उपस्थिति कार्यक्रममा गैरआवासीय नेपाली संघ साउदी अरबका उपाध्यक्ष ध्रुब रिजाल तमु धी जेद्धाका अध्यक्ष वुद्धीलाल गुरूङ नेपाली युवा क्लब जेद्धाका अध्यक्ष कृष्ण भट्टराई आवासीय नेपाली संघ क्षेत्रीय समिति जेद्धाका अध्यक्ष भिम गुरूङ समाजसेवी कलाकार धनबहादुर गुरुङ बरिष्ठ समाजसेवी बेद कुमार गुरुङ समाजसेवी बुद्धिजीवीहरु पूर्ण कार्की दुर्गा बिक दिनेश क्षेत्री उपस्थित कार्यक्रमलाई घेदुङका सचिव आशिम दोर्जे तामाङले स्वागत रेवती रमण पौडेलले सोनाम ल्होछार धर्म समुदायको नभई सिङ्गो नेपालीको साझा राष्ट्रिय पर्व कुरालाई राज्य पक्षबाट सकारात्मक पहल कदम गरिरहेको जानकारी गराए प्रवासी भुमिमा किसिमको सांस्कृतिक महत्त्व बोकेको पर्वहरु मनाउने यस्ता कार्यक्रमहरुमा सहभागी पाउदा गौरवान्वित महसुस वताए प्रथम चरणको कार्यक्रमलाई समापन सभापति बिगेन्द्र सिंह तामाङले सुरुमा आफूहरुले नेपाल आदिबासी जनजाति महासंघ क्षेत्रीय समन्वय समितिको सहकार्यमा आयोजना मनाएको सोनाम ल्होछार कार्यक्रम अहिले आएर समुदायको उल्लेख्य सहभागितामा धुमधामका मनाउन सफल भएकोमा सिङ्गो साउदी घेदुङ परिवारको गर्वको विषय जानकारी गराउँदै कार्यक्रम सफल वनाउनका निमित्त अहम भूमिका खेल्नुहुने सवैप्रति कृतज्ञता व्यक्त गरे औपचारिक कार्यक्रमलगत्तै सामाजिक अभियन्त अञ्जन पोखरेलले ूनेपालका सांसदहरुलाई प्रवासी श्रमिकहरूको चिठीू शीर्षकको श्रमिक हकहितको लगि प्रवासी कामदार पत्रकारको समुहद्वारा तयार गरिएको अनलाइन फारम भर्न आग्रह फारम भर्ने सम्बन्धमा प्रिजेन्टेशन गराएका फारम आगामी मार्च तारीक भर्न सकिने उक्त अभियानमा तामाङ घेदुङ साउदी अरबले श्रमिक सम्वद्ध गतिविधिलाई अत्यन्त महत्वकासाथ स्थान दिएकोमा कार्यक्रममा सहभागि सबैले खुलेर प्रशंसा गरे कृष्ण तामाङको संयोजकमा दोश्रो चरणको सांस्कृतिक कार्यक्रमलाई तामाङ घेदुङ साउदीका कार्यसमिति महिला सदस्य शान्ति थिङ तामाङले संचालन गरेकी थिइन् खाडीको गर्मी ठाँउमा एक्कासी मध्यान्ह परेको बर्षाले चिस्याएको जेद्धा शहर स्थानीय चर्चित कलाकारहरुको बेजोड प्रस्तुतिले तताएको चर्चित कलाकारहरुले आआफ्नो प्रस्तुति पस्किदै उपस्थित भरपुर मनोरञ्जन दिलाए साउदी घेदुङका अध्यक्ष बिगेन्द्र सिंह तामाङले समेत ल्हाप्साङकर्पो क्षेत्रको चर्चित गीत गादे ग्योना सेर्का दाङ्जीू गीत गायका त्यसैगरि कलाकारहरु शान्त लामा मखमली धन बहादुर तमु सिमरन पुन मगर रजन तामाङ प्रेम पुन मिसार घा खिम तमु पुजा सरगम लगायत कलाकारहरुले विभिन्न गायन नृत्यको मध्यमबाट बेजोड प्रस्तुति देखाएको कार्यक्रमको उत्तरार्धमा दोलखा जिल्ला भुसाफिदा- मृगौलापीडित पाल्देन लामाको उपचारार्थ सहयोग रकम समेत संकलन गरिएको पाल्देन बचाउ अभियान साउदीका प्रतिनिधि ज्योज्यो पाराङ दोल्खाली निमा घिसिङको अनुरोधमा नेपाल तामाङ घेदुङ साउदी अरबको पहलमा नेपाली रुपैयाँ हजार संकलन गरिएको'"
            ]
          },
          "metadata": {
            "tags": []
          },
          "execution_count": 70
        }
      ]
    },
    {
      "cell_type": "code",
      "metadata": {
        "colab": {
          "base_uri": "https://localhost:8080/"
        },
        "id": "1e86_7Vf7cXD",
        "outputId": "31bc8112-f456-4bf3-f592-c77c0434c2b2"
      },
      "source": [
        "data.shape"
      ],
      "execution_count": 71,
      "outputs": [
        {
          "output_type": "execute_result",
          "data": {
            "text/plain": [
              "(19990, 2)"
            ]
          },
          "metadata": {
            "tags": []
          },
          "execution_count": 71
        }
      ]
    },
    {
      "cell_type": "code",
      "metadata": {
        "colab": {
          "base_uri": "https://localhost:8080/"
        },
        "id": "AtUBZMzXN75h",
        "outputId": "8f80dc2c-4221-4ad2-d020-10468f99d59f"
      },
      "source": [
        "data[\"category\"].value_counts()"
      ],
      "execution_count": 72,
      "outputs": [
        {
          "output_type": "execute_result",
          "data": {
            "text/plain": [
              "diaspora         2000\n",
              "sports           2000\n",
              "society          2000\n",
              "technology       2000\n",
              "economy          2000\n",
              "health           2000\n",
              "politics         2000\n",
              "opinion          2000\n",
              "entertainment    2000\n",
              "international    1990\n",
              "Name: category, dtype: int64"
            ]
          },
          "metadata": {
            "tags": []
          },
          "execution_count": 72
        }
      ]
    },
    {
      "cell_type": "code",
      "metadata": {
        "colab": {
          "base_uri": "https://localhost:8080/"
        },
        "id": "HGWDTNdrNFFB",
        "outputId": "d5d40ec3-9aab-4536-bd1d-f66606c8c211"
      },
      "source": [
        "possible_labels = data.category.unique()\n",
        "\n",
        "label_dict = {}\n",
        "for index, possible_label in enumerate(possible_labels):\n",
        "    label_dict[possible_label] = index\n",
        "label_dict"
      ],
      "execution_count": 73,
      "outputs": [
        {
          "output_type": "execute_result",
          "data": {
            "text/plain": [
              "{'diaspora': 0,\n",
              " 'economy': 1,\n",
              " 'entertainment': 2,\n",
              " 'health': 3,\n",
              " 'international': 4,\n",
              " 'opinion': 5,\n",
              " 'politics': 6,\n",
              " 'society': 7,\n",
              " 'sports': 8,\n",
              " 'technology': 9}"
            ]
          },
          "metadata": {
            "tags": []
          },
          "execution_count": 73
        }
      ]
    },
    {
      "cell_type": "code",
      "metadata": {
        "colab": {
          "base_uri": "https://localhost:8080/"
        },
        "id": "NEVLj2b-Vnaf",
        "outputId": "ea60336f-0574-48a9-eb48-cb493e2d047d"
      },
      "source": [
        "possible_labels"
      ],
      "execution_count": 74,
      "outputs": [
        {
          "output_type": "execute_result",
          "data": {
            "text/plain": [
              "array(['diaspora', 'economy', 'entertainment', 'health', 'international',\n",
              "       'opinion', 'politics', 'society', 'sports', 'technology'],\n",
              "      dtype=object)"
            ]
          },
          "metadata": {
            "tags": []
          },
          "execution_count": 74
        }
      ]
    },
    {
      "cell_type": "code",
      "metadata": {
        "id": "8rB5wAihP_uJ"
      },
      "source": [
        "data[\"label\"]=data.category.replace(label_dict)"
      ],
      "execution_count": 75,
      "outputs": []
    },
    {
      "cell_type": "code",
      "metadata": {
        "id": "XfRRy-kYOQEU"
      },
      "source": [
        "from sklearn.model_selection import train_test_split"
      ],
      "execution_count": 76,
      "outputs": []
    },
    {
      "cell_type": "code",
      "metadata": {
        "id": "Lpqut5YxOTOT"
      },
      "source": [
        "X_train, X_val, y_train, y_val = train_test_split(data.index.values, \n",
        "                                                  data.label.values, \n",
        "                                                  test_size=0.3, \n",
        "                                                  random_state=42, \n",
        "                                                  stratify=data.label.values)"
      ],
      "execution_count": 77,
      "outputs": []
    },
    {
      "cell_type": "code",
      "metadata": {
        "colab": {
          "base_uri": "https://localhost:8080/"
        },
        "id": "lxxxfI81oq9X",
        "outputId": "a117f530-3e0e-47ba-ad6a-55968d86f5fb"
      },
      "source": [
        "X_train,X_val\n",
        "print(X_train.shape)\n",
        "print(X_val.shape)"
      ],
      "execution_count": 78,
      "outputs": [
        {
          "output_type": "stream",
          "text": [
            "(13993,)\n",
            "(5997,)\n"
          ],
          "name": "stdout"
        }
      ]
    },
    {
      "cell_type": "code",
      "metadata": {
        "id": "y_KhbDUYOXki"
      },
      "source": [
        "data[\"data_type\"]=[\"not_set\"]*data.shape[0]\n",
        "data.loc[X_train,\"data_type\"]=\"train\"\n",
        "data.loc[X_val,\"data_type\"]=\"Val\""
      ],
      "execution_count": 79,
      "outputs": []
    },
    {
      "cell_type": "code",
      "metadata": {
        "id": "PthmXrm9OaiA",
        "colab": {
          "base_uri": "https://localhost:8080/",
          "height": 700
        },
        "outputId": "f6d22f12-ebd5-4a33-edbc-ea6908c2227d"
      },
      "source": [
        "data.groupby([\"category\",\"label\",\"data_type\"]).count()"
      ],
      "execution_count": 80,
      "outputs": [
        {
          "output_type": "execute_result",
          "data": {
            "text/html": [
              "<div>\n",
              "<style scoped>\n",
              "    .dataframe tbody tr th:only-of-type {\n",
              "        vertical-align: middle;\n",
              "    }\n",
              "\n",
              "    .dataframe tbody tr th {\n",
              "        vertical-align: top;\n",
              "    }\n",
              "\n",
              "    .dataframe thead th {\n",
              "        text-align: right;\n",
              "    }\n",
              "</style>\n",
              "<table border=\"1\" class=\"dataframe\">\n",
              "  <thead>\n",
              "    <tr style=\"text-align: right;\">\n",
              "      <th></th>\n",
              "      <th></th>\n",
              "      <th></th>\n",
              "      <th>feature</th>\n",
              "    </tr>\n",
              "    <tr>\n",
              "      <th>category</th>\n",
              "      <th>label</th>\n",
              "      <th>data_type</th>\n",
              "      <th></th>\n",
              "    </tr>\n",
              "  </thead>\n",
              "  <tbody>\n",
              "    <tr>\n",
              "      <th rowspan=\"2\" valign=\"top\">diaspora</th>\n",
              "      <th rowspan=\"2\" valign=\"top\">0</th>\n",
              "      <th>Val</th>\n",
              "      <td>600</td>\n",
              "    </tr>\n",
              "    <tr>\n",
              "      <th>train</th>\n",
              "      <td>1400</td>\n",
              "    </tr>\n",
              "    <tr>\n",
              "      <th rowspan=\"2\" valign=\"top\">economy</th>\n",
              "      <th rowspan=\"2\" valign=\"top\">1</th>\n",
              "      <th>Val</th>\n",
              "      <td>600</td>\n",
              "    </tr>\n",
              "    <tr>\n",
              "      <th>train</th>\n",
              "      <td>1400</td>\n",
              "    </tr>\n",
              "    <tr>\n",
              "      <th rowspan=\"2\" valign=\"top\">entertainment</th>\n",
              "      <th rowspan=\"2\" valign=\"top\">2</th>\n",
              "      <th>Val</th>\n",
              "      <td>600</td>\n",
              "    </tr>\n",
              "    <tr>\n",
              "      <th>train</th>\n",
              "      <td>1400</td>\n",
              "    </tr>\n",
              "    <tr>\n",
              "      <th rowspan=\"2\" valign=\"top\">health</th>\n",
              "      <th rowspan=\"2\" valign=\"top\">3</th>\n",
              "      <th>Val</th>\n",
              "      <td>600</td>\n",
              "    </tr>\n",
              "    <tr>\n",
              "      <th>train</th>\n",
              "      <td>1400</td>\n",
              "    </tr>\n",
              "    <tr>\n",
              "      <th rowspan=\"2\" valign=\"top\">international</th>\n",
              "      <th rowspan=\"2\" valign=\"top\">4</th>\n",
              "      <th>Val</th>\n",
              "      <td>597</td>\n",
              "    </tr>\n",
              "    <tr>\n",
              "      <th>train</th>\n",
              "      <td>1393</td>\n",
              "    </tr>\n",
              "    <tr>\n",
              "      <th rowspan=\"2\" valign=\"top\">opinion</th>\n",
              "      <th rowspan=\"2\" valign=\"top\">5</th>\n",
              "      <th>Val</th>\n",
              "      <td>600</td>\n",
              "    </tr>\n",
              "    <tr>\n",
              "      <th>train</th>\n",
              "      <td>1400</td>\n",
              "    </tr>\n",
              "    <tr>\n",
              "      <th rowspan=\"2\" valign=\"top\">politics</th>\n",
              "      <th rowspan=\"2\" valign=\"top\">6</th>\n",
              "      <th>Val</th>\n",
              "      <td>600</td>\n",
              "    </tr>\n",
              "    <tr>\n",
              "      <th>train</th>\n",
              "      <td>1400</td>\n",
              "    </tr>\n",
              "    <tr>\n",
              "      <th rowspan=\"2\" valign=\"top\">society</th>\n",
              "      <th rowspan=\"2\" valign=\"top\">7</th>\n",
              "      <th>Val</th>\n",
              "      <td>600</td>\n",
              "    </tr>\n",
              "    <tr>\n",
              "      <th>train</th>\n",
              "      <td>1400</td>\n",
              "    </tr>\n",
              "    <tr>\n",
              "      <th rowspan=\"2\" valign=\"top\">sports</th>\n",
              "      <th rowspan=\"2\" valign=\"top\">8</th>\n",
              "      <th>Val</th>\n",
              "      <td>600</td>\n",
              "    </tr>\n",
              "    <tr>\n",
              "      <th>train</th>\n",
              "      <td>1400</td>\n",
              "    </tr>\n",
              "    <tr>\n",
              "      <th rowspan=\"2\" valign=\"top\">technology</th>\n",
              "      <th rowspan=\"2\" valign=\"top\">9</th>\n",
              "      <th>Val</th>\n",
              "      <td>600</td>\n",
              "    </tr>\n",
              "    <tr>\n",
              "      <th>train</th>\n",
              "      <td>1400</td>\n",
              "    </tr>\n",
              "  </tbody>\n",
              "</table>\n",
              "</div>"
            ],
            "text/plain": [
              "                               feature\n",
              "category      label data_type         \n",
              "diaspora      0     Val            600\n",
              "                    train         1400\n",
              "economy       1     Val            600\n",
              "                    train         1400\n",
              "entertainment 2     Val            600\n",
              "                    train         1400\n",
              "health        3     Val            600\n",
              "                    train         1400\n",
              "international 4     Val            597\n",
              "                    train         1393\n",
              "opinion       5     Val            600\n",
              "                    train         1400\n",
              "politics      6     Val            600\n",
              "                    train         1400\n",
              "society       7     Val            600\n",
              "                    train         1400\n",
              "sports        8     Val            600\n",
              "                    train         1400\n",
              "technology    9     Val            600\n",
              "                    train         1400"
            ]
          },
          "metadata": {
            "tags": []
          },
          "execution_count": 80
        }
      ]
    },
    {
      "cell_type": "code",
      "metadata": {
        "id": "WKum1ud-Om_H"
      },
      "source": [
        "tokenizer = BertTokenizer.from_pretrained('bert-base-multilingual-cased',truncation= True)"
      ],
      "execution_count": 81,
      "outputs": []
    },
    {
      "cell_type": "code",
      "metadata": {
        "colab": {
          "base_uri": "https://localhost:8080/"
        },
        "id": "kLk9CDzTxGTS",
        "outputId": "c467bbe3-1869-402f-8224-fa5889a48b10"
      },
      "source": [
        "token_lens = []\n",
        "for txt in data.feature:\n",
        "  tokens = tokenizer.encode(txt, max_length=None)\n",
        "  token_lens.append(len(tokens))"
      ],
      "execution_count": 82,
      "outputs": [
        {
          "output_type": "stream",
          "text": [
            "Token indices sequence length is longer than the specified maximum sequence length for this model (836 > 512). Running this sequence through the model will result in indexing errors\n"
          ],
          "name": "stderr"
        }
      ]
    },
    {
      "cell_type": "code",
      "metadata": {
        "id": "jQU-ecfUzYcR",
        "colab": {
          "base_uri": "https://localhost:8080/"
        },
        "outputId": "74759d1f-dea9-473a-a74e-bad3c84017a0"
      },
      "source": [
        "print(token_lens)\n",
        "print (max(token_lens))\n",
        "print(len(token_lens))"
      ],
      "execution_count": 83,
      "outputs": [
        {
          "output_type": "stream",
          "text": [
            "[466, 285, 492, 439, 836, 800, 379, 618, 622, 321, 509, 962, 457, 624, 754, 2135, 1152, 447, 1099, 1146, 566, 842, 292, 1112, 656, 406, 1435, 1470, 558, 421, 744, 571, 545, 702, 623, 471, 280, 388, 290, 1943, 1010, 329, 388, 388, 422, 687, 735, 301, 1114, 571, 359, 736, 298, 1388, 785, 1081, 123, 342, 984, 764, 275, 289, 808, 516, 663, 601, 202, 686, 1326, 517, 536, 579, 517, 303, 540, 809, 600, 797, 1830, 583, 576, 342, 670, 643, 660, 237, 1662, 586, 1658, 748, 397, 792, 569, 711, 740, 548, 339, 354, 515, 451, 594, 825, 485, 2351, 460, 300, 281, 403, 1026, 402, 663, 510, 345, 322, 326, 591, 452, 806, 451, 302, 814, 443, 983, 436, 674, 341, 565, 296, 442, 475, 1883, 402, 314, 1018, 395, 610, 2766, 666, 820, 312, 375, 487, 1698, 409, 330, 941, 586, 494, 273, 312, 243, 400, 540, 345, 614, 584, 718, 142, 402, 499, 585, 4009, 683, 512, 201, 332, 317, 1363, 432, 421, 2301, 333, 497, 408, 224, 458, 1044, 311, 508, 288, 575, 166, 593, 887, 670, 299, 377, 326, 322, 365, 554, 865, 384, 466, 482, 651, 591, 536, 370, 317, 1399, 555, 956, 270, 427, 474, 381, 134, 392, 451, 424, 392, 1724, 219, 568, 875, 260, 403, 610, 413, 576, 368, 654, 848, 754, 590, 1764, 322, 567, 625, 654, 347, 533, 489, 655, 528, 222, 374, 193, 1201, 615, 547, 529, 793, 1420, 391, 842, 723, 1570, 585, 1689, 251, 714, 816, 887, 406, 431, 2813, 849, 474, 1549, 1097, 636, 858, 670, 617, 611, 1097, 628, 426, 924, 915, 589, 453, 755, 329, 653, 284, 1120, 516, 1126, 504, 621, 398, 426, 300, 491, 1268, 697, 600, 287, 245, 670, 221, 2524, 1520, 228, 1023, 554, 594, 509, 545, 495, 1969, 309, 759, 353, 835, 346, 785, 2147, 330, 641, 1143, 602, 388, 786, 544, 1050, 642, 222, 401, 376, 215, 361, 369, 322, 783, 740, 1019, 728, 1557, 542, 340, 269, 222, 436, 789, 385, 1219, 434, 1157, 1022, 510, 1091, 631, 256, 592, 1179, 432, 390, 383, 349, 1956, 1966, 291, 728, 1240, 205, 401, 189, 785, 855, 733, 554, 800, 765, 289, 603, 950, 341, 511, 303, 1255, 414, 341, 460, 518, 1517, 322, 587, 670, 545, 572, 248, 613, 441, 422, 587, 478, 579, 578, 734, 2379, 847, 868, 1148, 246, 509, 955, 538, 818, 743, 629, 646, 431, 926, 480, 449, 876, 322, 306, 381, 1866, 622, 314, 658, 226, 458, 1406, 761, 667, 506, 511, 291, 596, 826, 556, 338, 1103, 335, 132, 389, 394, 359, 250, 427, 819, 667, 256, 395, 339, 481, 497, 543, 301, 221, 1162, 194, 670, 202, 1873, 780, 399, 381, 1034, 474, 522, 237, 205, 382, 420, 318, 319, 695, 200, 959, 465, 507, 941, 583, 532, 681, 586, 634, 5612, 283, 334, 318, 1194, 492, 431, 380, 248, 362, 1625, 486, 1154, 441, 437, 519, 245, 309, 597, 579, 600, 804, 342, 550, 511, 207, 674, 727, 518, 1518, 415, 345, 1358, 840, 504, 320, 389, 703, 505, 875, 391, 802, 327, 1001, 307, 672, 366, 272, 1012, 434, 1097, 657, 601, 200, 457, 1188, 336, 886, 470, 169, 255, 327, 255, 634, 391, 324, 407, 1221, 412, 392, 822, 484, 577, 767, 368, 631, 442, 291, 580, 491, 1370, 292, 343, 410, 1116, 907, 456, 663, 1697, 499, 400, 129, 785, 1064, 453, 333, 685, 325, 905, 815, 676, 501, 221, 381, 333, 355, 196, 502, 778, 491, 343, 594, 740, 443, 1199, 514, 827, 437, 364, 220, 283, 674, 807, 682, 204, 928, 574, 382, 211, 280, 686, 245, 648, 724, 1254, 316, 416, 282, 587, 910, 424, 468, 559, 527, 629, 702, 625, 375, 777, 702, 645, 617, 531, 452, 366, 602, 545, 448, 587, 1571, 1205, 711, 328, 752, 873, 346, 666, 423, 387, 609, 982, 2536, 497, 736, 454, 459, 881, 379, 426, 397, 797, 1161, 683, 1501, 295, 263, 225, 761, 1424, 810, 728, 395, 827, 382, 463, 318, 570, 748, 326, 294, 909, 1502, 346, 615, 524, 411, 566, 970, 538, 634, 596, 595, 1019, 721, 467, 481, 792, 403, 636, 1272, 573, 745, 360, 628, 1091, 483, 290, 259, 425, 1067, 777, 2143, 1859, 519, 282, 382, 672, 601, 439, 276, 1381, 264, 485, 541, 721, 972, 450, 1357, 653, 746, 728, 502, 1258, 461, 1115, 476, 484, 765, 1034, 625, 1361, 662, 569, 204, 951, 622, 876, 931, 656, 2272, 599, 270, 667, 516, 458, 408, 1552, 307, 1107, 606, 668, 2110, 535, 712, 568, 928, 664, 294, 411, 496, 565, 872, 611, 261, 731, 1688, 441, 686, 234, 2251, 374, 627, 476, 409, 453, 206, 580, 210, 1301, 165, 704, 600, 406, 306, 554, 1596, 503, 1572, 614, 755, 492, 458, 341, 193, 822, 578, 240, 544, 428, 1783, 403, 585, 1430, 2348, 543, 1026, 775, 154, 379, 293, 1116, 1102, 488, 867, 283, 1142, 822, 564, 971, 486, 420, 615, 589, 353, 868, 857, 631, 1107, 533, 405, 482, 650, 675, 653, 223, 935, 465, 894, 597, 679, 1315, 381, 922, 343, 710, 1145, 886, 636, 268, 409, 445, 575, 635, 7127, 317, 330, 368, 622, 638, 1912, 457, 766, 365, 413, 643, 1173, 252, 284, 608, 317, 331, 347, 1608, 533, 172, 244, 237, 1456, 481, 2146, 308, 829, 1581, 428, 283, 570, 433, 595, 441, 347, 400, 534, 714, 229, 347, 589, 243, 218, 310, 821, 624, 1061, 603, 321, 483, 420, 555, 475, 759, 623, 344, 1016, 739, 977, 565, 311, 352, 649, 359, 357, 318, 1881, 821, 241, 573, 205, 466, 814, 743, 860, 861, 639, 1089, 264, 1112, 1006, 918, 519, 417, 829, 780, 2200, 819, 343, 301, 1027, 616, 1478, 452, 612, 287, 612, 525, 903, 394, 526, 713, 609, 1217, 686, 638, 451, 857, 463, 347, 229, 723, 528, 419, 305, 1744, 286, 480, 194, 365, 413, 387, 735, 1495, 476, 297, 925, 420, 318, 457, 455, 1040, 675, 702, 393, 475, 522, 708, 476, 677, 366, 676, 750, 466, 333, 1337, 360, 332, 661, 1462, 607, 460, 794, 872, 412, 217, 566, 356, 188, 204, 292, 507, 617, 4475, 491, 281, 212, 2130, 144, 429, 503, 875, 637, 651, 497, 594, 380, 329, 281, 1564, 567, 687, 656, 1260, 1076, 362, 466, 957, 635, 1657, 777, 349, 846, 399, 995, 218, 208, 784, 278, 1155, 1165, 2242, 578, 592, 738, 353, 368, 436, 607, 252, 893, 409, 570, 826, 646, 754, 2055, 480, 417, 769, 341, 370, 612, 597, 516, 719, 1436, 573, 937, 445, 470, 417, 2892, 311, 1263, 388, 325, 556, 1069, 1113, 595, 358, 304, 2134, 685, 980, 1505, 848, 959, 817, 328, 628, 286, 475, 608, 859, 351, 545, 388, 1383, 360, 671, 594, 825, 904, 429, 1014, 514, 1561, 620, 1261, 255, 848, 2517, 572, 631, 892, 763, 909, 487, 1529, 993, 757, 1145, 848, 503, 459, 656, 584, 428, 250, 491, 743, 523, 381, 797, 784, 154, 1725, 253, 707, 1638, 744, 755, 1200, 2392, 1062, 625, 972, 894, 538, 1498, 576, 720, 804, 942, 397, 978, 1111, 1883, 431, 679, 409, 608, 378, 476, 479, 805, 2382, 514, 289, 455, 594, 296, 2219, 507, 736, 570, 1918, 201, 2815, 605, 711, 723, 675, 1015, 557, 324, 798, 423, 472, 499, 614, 870, 604, 663, 472, 443, 485, 215, 959, 381, 605, 664, 1017, 320, 797, 253, 502, 1202, 231, 934, 716, 1423, 732, 634, 486, 226, 471, 460, 729, 1049, 677, 375, 398, 290, 360, 1169, 1254, 331, 296, 341, 971, 1053, 722, 546, 212, 406, 2897, 322, 1428, 327, 424, 692, 145, 525, 553, 415, 434, 805, 527, 355, 838, 488, 606, 585, 525, 185, 476, 524, 669, 2119, 1393, 3085, 402, 303, 248, 469, 838, 197, 209, 1841, 254, 696, 738, 1505, 661, 371, 552, 507, 683, 1514, 875, 466, 586, 612, 243, 505, 538, 615, 648, 448, 272, 391, 248, 816, 712, 677, 511, 358, 1006, 1132, 436, 366, 2035, 356, 587, 592, 1074, 183, 665, 205, 568, 454, 497, 416, 301, 304, 406, 1272, 440, 1472, 438, 676, 1087, 580, 532, 506, 1714, 604, 490, 760, 789, 668, 896, 668, 2293, 467, 1146, 429, 1003, 692, 577, 582, 584, 1098, 647, 338, 570, 642, 498, 676, 768, 727, 371, 629, 289, 278, 390, 1431, 3394, 1163, 594, 689, 685, 656, 323, 1873, 1255, 2388, 978, 1464, 651, 327, 468, 566, 855, 1829, 584, 629, 282, 359, 1076, 637, 293, 536, 778, 1286, 1940, 2149, 333, 1432, 408, 379, 414, 290, 800, 1955, 1214, 591, 306, 222, 1765, 243, 646, 632, 345, 753, 284, 254, 1338, 362, 523, 277, 322, 347, 714, 753, 564, 355, 1985, 534, 468, 356, 635, 515, 498, 1011, 396, 489, 356, 1985, 749, 828, 1827, 1788, 477, 283, 1712, 1554, 485, 791, 515, 711, 2233, 694, 338, 353, 629, 1216, 787, 484, 322, 444, 236, 282, 538, 1224, 521, 227, 622, 351, 284, 936, 347, 336, 493, 1143, 343, 265, 526, 625, 339, 893, 1023, 209, 191, 293, 421, 352, 425, 277, 181, 684, 290, 204, 704, 594, 769, 813, 266, 473, 532, 518, 416, 295, 455, 253, 458, 456, 430, 277, 216, 296, 431, 269, 563, 264, 582, 543, 730, 274, 328, 375, 294, 386, 354, 232, 675, 176, 428, 367, 262, 634, 366, 457, 362, 489, 185, 1158, 391, 345, 207, 581, 543, 244, 379, 378, 593, 778, 393, 536, 457, 522, 294, 522, 676, 812, 324, 428, 583, 381, 218, 239, 367, 722, 574, 665, 338, 309, 724, 393, 353, 548, 288, 348, 243, 445, 455, 311, 389, 597, 873, 234, 730, 825, 340, 425, 333, 509, 247, 460, 413, 361, 1445, 409, 364, 605, 290, 414, 564, 506, 396, 528, 591, 465, 446, 370, 573, 294, 305, 424, 525, 206, 463, 306, 214, 242, 293, 337, 340, 392, 279, 589, 704, 413, 417, 286, 402, 680, 433, 386, 343, 271, 608, 985, 500, 415, 369, 329, 187, 280, 332, 224, 779, 794, 843, 145, 666, 471, 396, 686, 584, 494, 274, 595, 239, 403, 874, 890, 347, 950, 387, 1491, 541, 327, 190, 452, 285, 304, 315, 330, 582, 558, 663, 395, 237, 751, 610, 588, 233, 389, 467, 411, 534, 602, 384, 782, 328, 562, 344, 433, 377, 235, 410, 416, 394, 328, 419, 247, 262, 461, 278, 529, 538, 553, 688, 354, 620, 683, 235, 611, 596, 382, 948, 396, 830, 242, 1037, 610, 739, 833, 381, 324, 305, 229, 605, 311, 1970, 172, 303, 724, 492, 826, 476, 371, 211, 441, 506, 441, 209, 546, 234, 474, 449, 506, 508, 349, 363, 798, 412, 363, 365, 604, 230, 227, 458, 320, 540, 2273, 338, 506, 286, 258, 134, 552, 592, 528, 646, 400, 252, 540, 254, 314, 527, 243, 198, 1627, 462, 348, 465, 356, 539, 773, 601, 443, 578, 1698, 478, 326, 411, 397, 359, 305, 394, 330, 479, 336, 639, 480, 393, 317, 420, 729, 221, 612, 289, 394, 674, 496, 292, 2794, 219, 652, 308, 255, 308, 309, 399, 602, 462, 539, 416, 272, 343, 472, 275, 246, 450, 246, 377, 447, 284, 318, 240, 2833, 708, 1177, 360, 254, 424, 340, 499, 413, 449, 285, 367, 325, 1669, 780, 551, 238, 403, 652, 258, 427, 194, 176, 540, 469, 2837, 447, 2075, 262, 987, 1192, 391, 415, 712, 250, 607, 1077, 235, 488, 507, 263, 303, 408, 357, 463, 319, 204, 533, 435, 1261, 1893, 210, 263, 346, 277, 328, 252, 697, 946, 443, 335, 277, 402, 2487, 422, 480, 529, 481, 911, 638, 267, 445, 296, 261, 463, 467, 207, 887, 190, 1084, 330, 406, 1116, 493, 253, 645, 218, 702, 576, 607, 955, 605, 361, 901, 270, 431, 871, 474, 472, 626, 1794, 436, 678, 252, 302, 291, 380, 535, 475, 243, 592, 924, 371, 588, 199, 247, 293, 385, 429, 416, 306, 438, 374, 273, 277, 323, 505, 589, 331, 416, 383, 666, 690, 147, 362, 643, 705, 277, 300, 136, 503, 438, 359, 231, 439, 521, 155, 1584, 612, 831, 851, 524, 867, 984, 199, 740, 556, 876, 623, 313, 243, 327, 555, 658, 338, 406, 338, 495, 404, 300, 571, 303, 1570, 346, 798, 735, 427, 458, 563, 322, 528, 922, 305, 357, 250, 466, 428, 492, 399, 416, 245, 1638, 550, 662, 1039, 265, 301, 735, 494, 342, 1018, 441, 410, 490, 651, 912, 632, 724, 627, 321, 654, 455, 287, 774, 1643, 330, 1329, 551, 435, 456, 683, 210, 799, 952, 1828, 300, 223, 200, 607, 298, 424, 616, 285, 585, 1020, 503, 1368, 692, 175, 595, 449, 2232, 242, 241, 424, 508, 2893, 365, 570, 240, 1497, 280, 364, 447, 199, 265, 254, 340, 1541, 1108, 364, 513, 225, 351, 623, 1232, 399, 686, 257, 471, 513, 587, 288, 690, 663, 385, 316, 659, 134, 690, 820, 351, 586, 373, 867, 729, 506, 498, 307, 1202, 817, 295, 855, 366, 178, 380, 175, 519, 266, 511, 502, 97, 124, 226, 472, 749, 235, 374, 305, 110, 404, 516, 373, 1441, 251, 1145, 398, 499, 137, 537, 247, 1160, 422, 193, 468, 228, 513, 436, 701, 323, 268, 498, 959, 363, 183, 312, 365, 472, 550, 327, 329, 389, 361, 432, 3917, 404, 2399, 298, 336, 492, 120, 349, 644, 1162, 790, 1176, 757, 214, 475, 254, 839, 142, 513, 315, 747, 181, 224, 621, 1270, 427, 267, 359, 288, 447, 140, 384, 392, 438, 189, 437, 813, 389, 149, 542, 404, 132, 1455, 571, 193, 416, 293, 333, 260, 156, 149, 522, 687, 763, 302, 475, 261, 225, 274, 189, 305, 325, 153, 162, 687, 536, 154, 431, 374, 394, 232, 320, 443, 991, 191, 167, 478, 411, 470, 1979, 613, 437, 268, 488, 575, 785, 399, 674, 605, 323, 387, 130, 153, 1153, 401, 332, 496, 236, 396, 856, 813, 240, 148, 293, 156, 153, 343, 205, 765, 1253, 527, 1250, 787, 275, 305, 380, 1240, 519, 601, 461, 153, 216, 246, 382, 338, 321, 404, 459, 295, 413, 629, 153, 534, 504, 105, 584, 2381, 477, 381, 232, 281, 511, 582, 893, 153, 127, 468, 907, 615, 464, 326, 341, 894, 234, 773, 1146, 280, 317, 232, 482, 313, 514, 200, 153, 148, 375, 357, 362, 401, 495, 688, 261, 298, 311, 496, 788, 640, 332, 153, 130, 952, 385, 1838, 1083, 150, 566, 584, 1076, 383, 707, 305, 249, 642, 909, 153, 140, 417, 825, 331, 328, 450, 1496, 514, 793, 297, 781, 1151, 310, 362, 246, 95, 268, 668, 332, 757, 770, 315, 608, 210, 323, 109, 153, 508, 385, 296, 826, 151, 335, 1055, 116, 153, 1673, 461, 192, 671, 397, 207, 1249, 510, 1024, 375, 328, 304, 153, 105, 291, 372, 310, 419, 332, 412, 151, 123, 283, 1129, 463, 801, 382, 785, 1555, 318, 178, 593, 324, 521, 1287, 610, 529, 325, 174, 434, 312, 601, 354, 329, 500, 635, 372, 388, 205, 1652, 1148, 421, 491, 365, 499, 447, 274, 664, 370, 342, 189, 771, 867, 719, 151, 1405, 437, 525, 301, 941, 625, 659, 535, 399, 337, 430, 240, 493, 384, 318, 404, 609, 547, 560, 150, 767, 144, 648, 284, 341, 411, 589, 448, 1189, 228, 151, 105, 883, 286, 657, 1667, 311, 165, 298, 329, 1241, 796, 1014, 853, 455, 411, 151, 370, 220, 149, 282, 227, 264, 556, 334, 467, 511, 456, 553, 418, 235, 151, 596, 373, 720, 727, 544, 431, 1243, 396, 429, 152, 696, 467, 679, 77, 99, 792, 416, 529, 520, 353, 344, 275, 955, 1736, 555, 404, 151, 93, 265, 498, 504, 1049, 324, 1072, 514, 283, 462, 492, 383, 873, 448, 269, 151, 120, 1326, 433, 735, 513, 453, 372, 360, 425, 305, 151, 93, 331, 345, 321, 474, 466, 975, 478, 1217, 382, 397, 514, 719, 460, 423, 150, 107, 1112, 1307, 308, 270, 388, 1167, 343, 944, 911, 492, 312, 229, 1324, 1599, 302, 885, 994, 77, 115, 740, 306, 421, 585, 1096, 619, 523, 1296, 393, 664, 477, 393, 348, 124, 271, 382, 248, 435, 1449, 519, 147, 881, 176, 389, 148, 709, 334, 852, 1505, 858, 1026, 301, 323, 183, 1002, 342, 285, 594, 503, 255, 151, 130, 665, 244, 1245, 659, 536, 247, 554, 597, 314, 370, 556, 238, 352, 380, 570, 376, 604, 389, 603, 143, 136, 293, 766, 824, 765, 307, 313, 1330, 473, 839, 612, 216, 943, 1226, 397, 1574, 661, 384, 414, 323, 650, 1116, 274, 389, 312, 462, 1557, 618, 133, 151, 642, 230, 1406, 228, 599, 428, 1196, 208, 733, 595, 108, 151, 342, 306, 954, 344, 558, 654, 307, 610, 299, 483, 252, 183, 218, 116, 905, 987, 593, 520, 434, 939, 628, 618, 431, 339, 675, 499, 416, 1113, 651, 805, 418, 483, 695, 349, 508, 629, 694, 676, 697, 535, 914, 148, 182, 394, 246, 308, 525, 699, 993, 634, 211, 467, 321, 289, 413, 359, 547, 783, 508, 371, 791, 1432, 172, 501, 359, 921, 396, 479, 463, 333, 419, 1330, 334, 239, 357, 241, 476, 288, 1442, 279, 182, 352, 713, 2113, 363, 319, 299, 1543, 871, 1114, 239, 571, 793, 683, 653, 222, 317, 146, 439, 440, 428, 1288, 680, 1079, 515, 1529, 182, 139, 650, 1472, 745, 2663, 1167, 450, 1188, 517, 258, 190, 509, 418, 675, 388, 415, 253, 294, 375, 182, 140, 970, 1409, 276, 343, 1331, 502, 249, 527, 443, 182, 126, 333, 622, 299, 1099, 310, 1263, 1283, 316, 662, 275, 878, 328, 478, 243, 989, 228, 1513, 506, 482, 710, 1414, 930, 1299, 432, 395, 976, 153, 176, 484, 320, 380, 612, 830, 1184, 635, 1261, 462, 197, 796, 255, 719, 255, 287, 1046, 1121, 548, 901, 1684, 491, 515, 525, 1203, 1453, 414, 492, 482, 675, 539, 547, 1495, 925, 1170, 233, 1083, 302, 442, 854, 247, 1155, 233, 403, 240, 306, 397, 537, 198, 329, 503, 1252, 357, 333, 950, 972, 896, 950, 603, 1065, 339, 840, 535, 876, 938, 1636, 1624, 770, 540, 595, 649, 363, 239, 1106, 185, 178, 303, 724, 512, 186, 241, 1678, 1448, 378, 555, 741, 460, 101, 381, 408, 519, 764, 316, 691, 228, 694, 470, 278, 539, 605, 416, 365, 240, 1041, 570, 547, 441, 679, 273, 1630, 360, 1426, 280, 290, 247, 182, 1763, 338, 307, 861, 483, 568, 344, 209, 560, 373, 473, 274, 266, 441, 1534, 726, 1202, 1076, 425, 887, 1013, 1468, 368, 550, 241, 123, 326, 186, 1204, 842, 387, 1034, 356, 245, 535, 414, 193, 175, 556, 478, 382, 1170, 477, 774, 286, 677, 1372, 391, 179, 140, 215, 615, 966, 575, 322, 1551, 468, 276, 358, 288, 385, 1713, 641, 193, 441, 609, 191, 384, 1228, 1223, 492, 650, 182, 120, 279, 174, 1591, 1303, 328, 726, 291, 254, 649, 436, 1180, 759, 1027, 1422, 1278, 1223, 380, 1438, 1258, 417, 906, 2148, 628, 1009, 233, 996, 395, 740, 410, 1044, 294, 447, 302, 521, 536, 290, 666, 305, 641, 565, 537, 179, 298, 549, 910, 628, 496, 906, 467, 340, 1909, 579, 422, 544, 397, 556, 443, 491, 283, 226, 404, 961, 516, 514, 1921, 406, 279, 193, 121, 307, 782, 1463, 472, 404, 878, 1460, 440, 257, 283, 264, 590, 882, 211, 1395, 467, 442, 857, 582, 436, 1380, 1195, 242, 230, 1432, 442, 477, 659, 672, 223, 585, 274, 498, 854, 893, 849, 471, 1455, 529, 469, 332, 474, 422, 451, 1442, 603, 181, 140, 491, 1596, 933, 787, 182, 200, 447, 445, 691, 413, 223, 1525, 383, 281, 585, 430, 479, 361, 153, 918, 224, 286, 182, 477, 1148, 1550, 288, 1229, 564, 988, 318, 428, 816, 1272, 889, 296, 1575, 472, 1642, 812, 144, 528, 850, 145, 182, 428, 202, 796, 793, 369, 304, 645, 767, 467, 397, 1468, 672, 626, 1875, 646, 736, 203, 504, 763, 522, 332, 353, 292, 413, 368, 883, 154, 404, 413, 561, 316, 419, 411, 259, 266, 307, 785, 1228, 965, 706, 441, 364, 973, 420, 788, 276, 476, 417, 365, 301, 325, 1837, 766, 606, 571, 480, 502, 694, 134, 432, 456, 261, 651, 1530, 319, 606, 1167, 350, 2853, 403, 230, 178, 521, 427, 355, 821, 817, 277, 712, 261, 827, 1335, 1823, 779, 551, 508, 633, 468, 133, 182, 423, 251, 299, 305, 286, 558, 1659, 148, 856, 726, 437, 650, 213, 572, 666, 544, 487, 274, 382, 1942, 293, 461, 618, 944, 476, 367, 1312, 805, 600, 262, 335, 222, 632, 800, 362, 686, 499, 290, 463, 575, 474, 334, 255, 178, 309, 401, 1788, 518, 270, 253, 462, 958, 449, 472, 566, 396, 446, 221, 292, 449, 590, 1439, 887, 569, 578, 1311, 876, 517, 669, 1061, 219, 466, 621, 1642, 469, 592, 736, 313, 136, 140, 385, 271, 298, 316, 349, 181, 373, 182, 109, 364, 158, 427, 1226, 177, 233, 285, 557, 396, 601, 655, 504, 399, 1079, 353, 224, 683, 281, 341, 1226, 261, 453, 159, 279, 1101, 176, 109, 179, 548, 341, 281, 427, 1465, 532, 573, 356, 864, 475, 455, 548, 673, 1917, 320, 321, 295, 418, 442, 517, 759, 289, 276, 496, 266, 348, 1399, 580, 535, 204, 1066, 668, 1168, 555, 450, 1335, 1122, 456, 121, 182, 954, 348, 291, 201, 284, 782, 1055, 902, 511, 316, 521, 269, 358, 380, 348, 559, 708, 792, 233, 329, 502, 487, 438, 327, 1157, 692, 185, 401, 449, 132, 417, 821, 670, 1168, 661, 485, 811, 355, 351, 429, 979, 351, 550, 684, 669, 472, 423, 178, 184, 237, 801, 561, 649, 442, 493, 449, 416, 662, 543, 551, 300, 666, 642, 1010, 190, 255, 383, 359, 506, 647, 1278, 392, 279, 363, 458, 319, 240, 181, 144, 355, 592, 389, 327, 290, 348, 292, 396, 176, 531, 179, 269, 330, 284, 1715, 162, 332, 337, 1114, 496, 828, 229, 506, 886, 192, 507, 185, 165, 493, 275, 625, 427, 596, 684, 544, 857, 302, 614, 750, 435, 243, 399, 596, 504, 873, 459, 287, 539, 1276, 617, 296, 462, 336, 153, 190, 562, 332, 210, 578, 825, 380, 1483, 201, 281, 557, 512, 583, 670, 950, 572, 261, 240, 614, 346, 285, 272, 187, 383, 471, 828, 440, 330, 743, 293, 813, 515, 272, 420, 194, 1321, 152, 201, 321, 335, 308, 368, 816, 580, 416, 422, 171, 166, 183, 580, 2311, 465, 294, 355, 407, 914, 396, 462, 1597, 538, 628, 407, 475, 495, 1273, 306, 292, 781, 282, 370, 209, 1260, 273, 175, 345, 377, 551, 314, 644, 437, 763, 283, 178, 245, 759, 732, 288, 371, 1075, 303, 402, 716, 591, 648, 394, 236, 574, 258, 1872, 309, 1342, 483, 636, 1074, 674, 784, 348, 424, 396, 186, 1062, 630, 1498, 1202, 412, 296, 446, 115, 177, 842, 223, 303, 767, 1035, 535, 343, 802, 396, 947, 267, 537, 3301, 198, 162, 182, 554, 1241, 623, 1417, 1170, 843, 822, 268, 458, 397, 535, 531, 441, 884, 179, 662, 182, 366, 495, 325, 653, 300, 1345, 227, 334, 258, 403, 393, 364, 562, 671, 433, 1113, 886, 277, 472, 494, 300, 305, 398, 350, 624, 488, 283, 324, 161, 323, 334, 251, 635, 780, 677, 333, 401, 269, 754, 267, 302, 463, 321, 143, 343, 431, 622, 352, 669, 517, 162, 132, 438, 551, 289, 752, 702, 765, 396, 882, 276, 267, 1249, 212, 585, 1626, 244, 1167, 303, 521, 491, 1388, 392, 644, 291, 854, 620, 689, 197, 457, 283, 867, 541, 326, 214, 931, 284, 717, 835, 1310, 328, 527, 493, 306, 387, 1378, 262, 2860, 479, 231, 453, 431, 293, 356, 241, 400, 119, 407, 409, 253, 1112, 781, 369, 1269, 828, 455, 349, 413, 865, 520, 337, 297, 558, 189, 338, 436, 350, 244, 951, 299, 1756, 215, 305, 322, 230, 312, 246, 367, 883, 730, 407, 386, 685, 440, 348, 2562, 512, 806, 244, 423, 483, 531, 329, 664, 633, 477, 470, 1470, 379, 210, 479, 175, 200, 246, 642, 641, 1011, 1148, 257, 520, 232, 388, 474, 344, 631, 246, 412, 222, 145, 537, 795, 282, 724, 357, 403, 268, 392, 250, 174, 325, 1669, 780, 551, 238, 403, 652, 258, 427, 194, 176, 540, 469, 2837, 447, 262, 987, 1192, 391, 415, 665, 250, 1636, 2284, 327, 574, 1615, 763, 334, 494, 264, 563, 312, 1423, 256, 555, 455, 1504, 1536, 499, 1155, 388, 693, 392, 825, 646, 320, 516, 328, 412, 455, 654, 414, 566, 552, 244, 356, 168, 474, 925, 391, 1164, 363, 2680, 1367, 385, 283, 343, 635, 232, 633, 398, 668, 424, 1375, 219, 359, 533, 160, 518, 381, 324, 603, 2058, 667, 921, 110, 1433, 2422, 150, 1300, 101, 403, 236, 735, 191, 400, 1001, 599, 422, 251, 943, 609, 1144, 426, 269, 490, 976, 321, 1005, 424, 464, 432, 941, 803, 2291, 396, 381, 1425, 323, 349, 286, 233, 310, 807, 393, 347, 286, 332, 534, 272, 340, 182, 188, 946, 849, 293, 332, 305, 1294, 803, 444, 312, 503, 258, 1032, 305, 335, 380, 383, 507, 842, 357, 295, 480, 208, 290, 994, 308, 343, 206, 1675, 324, 216, 1381, 2561, 346, 347, 506, 265, 215, 375, 1786, 262, 385, 556, 341, 315, 468, 298, 950, 268, 993, 365, 319, 359, 684, 273, 251, 301, 310, 425, 214, 1179, 438, 245, 280, 215, 353, 390, 350, 1127, 497, 709, 310, 330, 596, 347, 433, 351, 346, 203, 374, 280, 784, 251, 287, 312, 234, 398, 390, 327, 289, 485, 217, 263, 248, 435, 1638, 543, 633, 2024, 380, 450, 259, 422, 549, 574, 322, 356, 982, 317, 285, 311, 279, 240, 238, 536, 397, 185, 413, 360, 442, 447, 559, 402, 240, 181, 464, 203, 293, 466, 342, 737, 261, 265, 386, 651, 425, 261, 341, 180, 470, 320, 229, 423, 301, 334, 727, 449, 418, 431, 379, 384, 206, 319, 247, 520, 392, 489, 344, 290, 223, 1053, 251, 501, 319, 356, 652, 410, 377, 428, 357, 1587, 1506, 334, 232, 268, 325, 1118, 657, 333, 406, 273, 453, 2173, 1249, 220, 297, 234, 279, 352, 1303, 559, 444, 1031, 152, 235, 339, 229, 1074, 736, 1740, 310, 242, 237, 553, 1448, 337, 564, 406, 203, 1797, 384, 1285, 2385, 351, 275, 374, 1039, 325, 288, 290, 385, 406, 663, 305, 234, 339, 310, 174, 286, 350, 1046, 1167, 281, 428, 491, 552, 234, 115, 1256, 693, 335, 759, 807, 803, 876, 1091, 1608, 203, 657, 968, 590, 714, 286, 242, 656, 313, 783, 510, 1133, 337, 325, 293, 1028, 443, 286, 1479, 285, 1223, 367, 575, 445, 906, 464, 270, 679, 565, 834, 495, 957, 259, 329, 437, 391, 583, 1396, 460, 366, 365, 246, 335, 327, 332, 222, 343, 157, 345, 221, 1052, 344, 720, 561, 390, 129, 294, 517, 1043, 384, 1134, 348, 1028, 1945, 508, 407, 889, 543, 389, 728, 683, 1597, 1589, 972, 435, 572, 425, 420, 272, 586, 1304, 296, 525, 600, 377, 351, 616, 298, 323, 375, 365, 1608, 209, 185, 916, 437, 954, 402, 456, 432, 1856, 441, 292, 258, 344, 422, 723, 2559, 427, 327, 270, 207, 476, 912, 264, 1084, 1627, 380, 325, 310, 733, 558, 1003, 763, 851, 240, 431, 422, 214, 320, 297, 596, 539, 442, 824, 379, 875, 1140, 459, 1118, 736, 322, 469, 1111, 335, 803, 739, 986, 547, 320, 821, 2092, 670, 665, 392, 266, 275, 514, 3061, 490, 1049, 408, 235, 428, 348, 260, 2311, 771, 649, 508, 777, 398, 468, 2378, 715, 780, 530, 320, 549, 206, 337, 388, 285, 488, 455, 610, 723, 337, 987, 1150, 488, 273, 378, 675, 544, 313, 365, 228, 1787, 484, 348, 453, 809, 489, 819, 1048, 309, 338, 744, 468, 741, 386, 266, 310, 345, 1265, 362, 490, 727, 282, 704, 916, 410, 318, 365, 305, 367, 1240, 458, 145, 253, 803, 2126, 367, 397, 201, 197, 488, 485, 700, 1067, 461, 1419, 1505, 425, 238, 572, 1531, 617, 418, 136, 430, 397, 567, 1372, 502, 2321, 558, 266, 385, 560, 332, 1435, 395, 490, 506, 645, 223, 253, 349, 285, 421, 376, 3099, 372, 544, 309, 311, 296, 657, 273, 371, 336, 479, 432, 439, 794, 395, 910, 847, 479, 277, 537, 755, 637, 152, 255, 472, 493, 1178, 507, 435, 203, 575, 2355, 3371, 664, 505, 299, 2052, 683, 1128, 191, 275, 706, 380, 239, 448, 746, 575, 338, 317, 809, 322, 224, 656, 407, 404, 568, 174, 1262, 3032, 434, 788, 268, 375, 883, 877, 436, 1270, 321, 269, 374, 418, 370, 371, 474, 153, 561, 862, 1565, 182, 416, 269, 251, 495, 826, 494, 442, 779, 312, 308, 1950, 698, 471, 1012, 330, 1275, 1452, 256, 909, 371, 1097, 456, 2644, 422, 1997, 2064, 634, 273, 490, 1740, 167, 1192, 635, 369, 282, 575, 590, 786, 437, 1097, 1873, 396, 719, 838, 664, 327, 523, 2352, 366, 671, 495, 278, 569, 357, 1361, 979, 413, 345, 567, 454, 722, 260, 458, 1586, 425, 361, 1186, 170, 265, 137, 590, 419, 396, 528, 4778, 331, 499, 324, 577, 992, 523, 266, 3528, 1291, 580, 234, 173, 1971, 525, 725, 202, 1096, 409, 802, 396, 561, 247, 161, 245, 308, 399, 500, 417, 607, 2876, 543, 271, 380, 348, 211, 397, 1813, 928, 995, 759, 344, 581, 616, 298, 390, 180, 248, 1913, 349, 1073, 1242, 771, 644, 169, 2269, 2200, 1132, 801, 666, 1523, 448, 260, 366, 1032, 742, 887, 308, 1345, 320, 311, 320, 211, 460, 370, 224, 1042, 177, 489, 492, 1164, 607, 511, 551, 333, 461, 814, 320, 197, 302, 1778, 292, 235, 861, 572, 637, 290, 493, 164, 1213, 584, 898, 302, 4809, 831, 251, 381, 222, 1308, 366, 496, 390, 542, 919, 347, 603, 325, 392, 339, 198, 253, 191, 270, 470, 867, 279, 689, 765, 895, 550, 230, 1212, 352, 483, 781, 1071, 933, 180, 212, 326, 666, 370, 370, 283, 2496, 295, 1424, 388, 410, 322, 691, 213, 2221, 488, 839, 300, 790, 116, 358, 474, 1349, 310, 588, 532, 799, 438, 258, 496, 379, 799, 1492, 1722, 934, 520, 1047, 2034, 205, 2280, 214, 1320, 205, 274, 325, 997, 440, 370, 239, 2478, 820, 230, 244, 509, 2700, 1505, 2893, 236, 286, 484, 321, 552, 505, 241, 380, 1252, 1044, 1580, 994, 393, 331, 422, 341, 538, 292, 165, 368, 278, 523, 355, 234, 847, 364, 216, 137, 291, 302, 286, 199, 581, 1090, 156, 371, 824, 494, 581, 233, 679, 477, 599, 2477, 214, 332, 1521, 2200, 463, 1041, 406, 140, 476, 584, 507, 876, 280, 537, 375, 193, 833, 277, 523, 261, 335, 465, 1338, 636, 277, 682, 422, 342, 2322, 388, 2267, 1321, 361, 966, 296, 420, 2828, 318, 552, 334, 783, 2315, 433, 1019, 249, 212, 544, 1822, 303, 471, 745, 478, 370, 697, 355, 327, 402, 2715, 474, 533, 274, 1114, 413, 128, 813, 791, 320, 611, 538, 1016, 1093, 115, 353, 324, 304, 525, 740, 299, 535, 879, 2272, 340, 611, 469, 595, 1797, 1995, 865, 447, 245, 171, 611, 324, 1355, 269, 1293, 1800, 283, 168, 347, 230, 718, 465, 585, 237, 239, 1925, 668, 436, 1380, 228, 334, 632, 531, 1054, 1183, 717, 1370, 467, 483, 422, 964, 630, 1025, 1253, 307, 1953, 424, 1136, 296, 376, 469, 335, 233, 187, 244, 2899, 168, 918, 413, 1106, 492, 182, 825, 237, 503, 254, 297, 364, 505, 341, 818, 205, 238, 736, 299, 281, 645, 201, 334, 416, 1979, 445, 3212, 405, 938, 1104, 1782, 257, 290, 457, 532, 570, 372, 354, 1425, 1281, 628, 1980, 694, 3200, 835, 208, 518, 367, 388, 1349, 461, 434, 1249, 558, 199, 492, 1186, 251, 380, 524, 625, 321, 523, 266, 255, 719, 325, 622, 322, 1422, 1310, 618, 1723, 729, 231, 681, 259, 777, 672, 349, 895, 491, 498, 2522, 271, 415, 588, 714, 224, 411, 531, 1005, 356, 280, 525, 589, 274, 398, 172, 602, 595, 1048, 951, 491, 347, 1390, 2416, 636, 609, 501, 424, 297, 378, 376, 402, 698, 345, 660, 1088, 249, 455, 529, 231, 451, 523, 283, 342, 347, 375, 195, 288, 778, 196, 214, 480, 421, 989, 760, 350, 221, 194, 821, 812, 586, 1125, 558, 351, 494, 333, 1474, 1009, 334, 659, 165, 1917, 77, 504, 1709, 589, 346, 484, 191, 1018, 3413, 258, 297, 934, 490, 211, 409, 253, 779, 877, 1696, 208, 996, 371, 1032, 388, 650, 327, 1190, 491, 422, 735, 288, 658, 325, 293, 250, 591, 1175, 880, 276, 700, 185, 617, 787, 541, 210, 542, 347, 705, 303, 317, 2508, 229, 404, 518, 683, 311, 1775, 290, 329, 652, 113, 424, 527, 341, 592, 283, 2101, 883, 446, 1455, 454, 2367, 343, 319, 342, 595, 303, 1396, 285, 260, 333, 197, 419, 246, 1562, 347, 138, 643, 377, 742, 2774, 325, 888, 606, 952, 1655, 506, 291, 289, 217, 1080, 583, 1917, 537, 360, 632, 447, 374, 499, 452, 306, 1365, 562, 1675, 299, 393, 380, 605, 453, 1145, 1319, 332, 510, 757, 368, 1156, 565, 176, 463, 1765, 197, 365, 1203, 197, 1667, 1569, 641, 1851, 531, 824, 475, 409, 329, 245, 367, 588, 302, 1010, 513, 1460, 460, 293, 682, 429, 302, 212, 612, 529, 385, 142, 527, 696, 343, 203, 151, 619, 961, 1153, 569, 1141, 582, 198, 290, 508, 281, 2571, 1278, 525, 941, 405, 272, 1434, 378, 1162, 1284, 198, 373, 567, 298, 479, 850, 3452, 653, 305, 189, 2525, 840, 297, 784, 556, 585, 269, 242, 301, 313, 372, 491, 1661, 588, 756, 476, 763, 237, 533, 531, 444, 648, 323, 171, 581, 255, 1077, 690, 480, 265, 680, 710, 636, 245, 250, 553, 367, 1631, 302, 457, 289, 324, 752, 252, 2371, 1504, 364, 1217, 181, 287, 540, 347, 610, 168, 559, 402, 1290, 318, 213, 1401, 433, 489, 912, 1477, 934, 450, 275, 350, 388, 584, 305, 148, 246, 266, 303, 290, 463, 576, 1038, 2543, 3710, 146, 737, 1607, 646, 623, 309, 1582, 417, 4549, 193, 151, 700, 275, 836, 590, 452, 301, 398, 1792, 404, 235, 143, 1865, 1363, 2330, 457, 248, 742, 440, 2708, 184, 3377, 314, 359, 443, 794, 539, 2048, 3665, 1916, 1362, 3813, 403, 2150, 591, 853, 397, 291, 721, 2981, 286, 279, 8071, 491, 181, 729, 3454, 1726, 678, 358, 361, 10348, 204, 207, 3172, 381, 787, 434, 737, 2035, 422, 2583, 874, 5424, 2929, 349, 496, 5937, 786, 226, 4769, 2265, 3288, 1388, 1907, 2411, 237, 236, 533, 355, 741, 208, 138, 5779, 816, 914, 481, 523, 3302, 247, 198, 1924, 171, 670, 169, 2418, 811, 464, 995, 453, 426, 222, 290, 2051, 989, 390, 2315, 460, 2298, 570, 735, 165, 2460, 668, 202, 318, 699, 142, 2444, 218, 555, 484, 923, 481, 2622, 407, 2560, 811, 207, 155, 179, 724, 197, 812, 235, 295, 534, 3475, 917, 540, 805, 269, 219, 183, 920, 3121, 451, 676, 2210, 2160, 395, 215, 721, 630, 1550, 3214, 508, 320, 650, 685, 498, 800, 2394, 271, 178, 375, 952, 561, 201, 2694, 219, 611, 258, 377, 471, 877, 487, 363, 307, 259, 285, 604, 672, 188, 2987, 3008, 4343, 311, 278, 559, 280, 2839, 313, 168, 2647, 194, 325, 2748, 421, 257, 466, 2165, 173, 443, 513, 236, 188, 803, 728, 2487, 767, 1004, 520, 588, 3492, 3030, 2125, 218, 875, 168, 3321, 683, 3025, 260, 136, 1049, 296, 186, 477, 538, 169, 3995, 579, 172, 406, 352, 621, 284, 380, 158, 306, 4464, 3136, 509, 1968, 343, 684, 273, 280, 586, 2096, 372, 524, 352, 463, 196, 135, 159, 286, 345, 877, 2374, 698, 612, 202, 441, 499, 3171, 141, 563, 601, 189, 229, 598, 897, 709, 384, 444, 610, 160, 3994, 202, 719, 5488, 1032, 199, 179, 2087, 193, 2117, 161, 2878, 2517, 325, 1669, 448, 780, 551, 238, 403, 652, 258, 427, 194, 176, 540, 469, 2837, 447, 262, 987, 1192, 391, 415, 3064, 261, 1997, 356, 2226, 3122, 482, 459, 306, 286, 224, 497, 397, 488, 494, 390, 199, 218, 212, 271, 264, 301, 2820, 170, 450, 346, 161, 354, 176, 2742, 238, 2186, 361, 802, 238, 3322, 202, 194, 187, 336, 521, 2529, 259, 687, 535, 347, 274, 204, 480, 2555, 168, 2449, 2344, 662, 498, 251, 3195, 706, 289, 540, 1129, 4237, 102, 194, 295, 3791, 1969, 398, 489, 1531, 184, 255, 195, 1133, 401, 294, 133, 1224, 3916, 401, 642, 252, 594, 309, 1593, 797, 740, 824, 883, 548, 566, 640, 445, 473, 1833, 774, 1541, 781, 1045, 851, 889, 977, 686, 706, 305, 383, 425, 259, 466, 460, 695, 502, 709, 593, 879, 882, 901, 827, 476, 1143, 986, 919, 1140, 769, 686, 1072, 981, 665, 794, 716, 796, 477, 394, 649, 393, 544, 875, 894, 862, 400, 283, 215, 562, 810, 826, 966, 375, 378, 698, 512, 297, 224, 226, 650, 656, 293, 477, 865, 796, 889, 989, 516, 594, 644, 618, 365, 705, 198, 373, 371, 1722, 360, 507, 1410, 667, 441, 611, 347, 251, 469, 880, 669, 665, 1176, 896, 964, 546, 1001, 720, 862, 384, 271, 455, 284, 816, 1104, 358, 349, 363, 472, 417, 279, 310, 403, 345, 451, 662, 422, 650, 885, 753, 1419, 1467, 381, 560, 468, 401, 366, 1286, 748, 469, 1079, 278, 276, 647, 333, 422, 188, 312, 657, 392, 507, 350, 121, 360, 315, 486, 471, 468, 975, 472, 349, 574, 675, 174, 234, 547, 318, 467, 657, 432, 478, 280, 358, 315, 309, 164, 353, 717, 403, 156, 324, 915, 413, 599, 939, 900, 299, 315, 534, 237, 429, 264, 253, 362, 264, 631, 431, 534, 143, 346, 229, 896, 367, 481, 1026, 599, 1101, 408, 429, 945, 695, 1512, 970, 1328, 886, 761, 502, 1300, 810, 215, 1228, 1070, 571, 564, 622, 559, 1272, 435, 844, 565, 660, 518, 637, 605, 782, 489, 475, 233, 1257, 568, 796, 709, 520, 739, 1446, 654, 446, 664, 312, 568, 1325, 547, 534, 706, 831, 1000, 701, 489, 1142, 829, 807, 1141, 435, 4758, 631, 683, 1125, 852, 641, 770, 927, 761, 518, 1431, 948, 863, 594, 898, 908, 543, 535, 1241, 920, 436, 920, 639, 1055, 751, 593, 342, 918, 759, 918, 1293, 866, 975, 793, 873, 898, 675, 1334, 517, 347, 502, 480, 331, 1191, 1809, 776, 546, 1204, 596, 358, 684, 541, 226, 130, 436, 543, 646, 1379, 427, 1740, 1191, 1951, 1238, 435, 582, 1141, 756, 762, 951, 1185, 554, 1793, 1683, 637, 451, 688, 400, 1330, 1540, 1136, 533, 1009, 1155, 628, 638, 760, 906, 937, 922, 1971, 1988, 650, 821, 2004, 4969, 1580, 2142, 1669, 1239, 1107, 1019, 1643, 873, 1136, 1144, 886, 1203, 967, 518, 495, 1473, 900, 631, 1065, 421, 787, 804, 844, 1189, 1540, 1185, 732, 1318, 998, 1510, 915, 3295, 1478, 629, 686, 2869, 559, 2030, 314, 955, 1725, 2071, 984, 1234, 742, 714, 1394, 534, 1006, 1119, 1094, 1328, 1314, 736, 784, 1158, 2600, 1301, 1355, 2062, 622, 973, 1758, 1517, 993, 644, 1206, 1132, 950, 479, 866, 553, 3354, 1608, 1040, 403, 3285, 4125, 1133, 1181, 821, 2460, 641, 736, 399, 339, 701, 781, 1133, 3687, 818, 1168, 1094, 1156, 782, 4220, 1266, 865, 591, 1369, 1023, 2321, 1457, 670, 1185, 746, 959, 1187, 4197, 1051, 947, 1192, 838, 956, 2434, 980, 1167, 699, 1472, 838, 1500, 859, 1322, 1376, 1892, 1360, 815, 1185, 498, 186, 732, 283, 672, 1010, 605, 894, 350, 274, 617, 1263, 1300, 576, 990, 2000, 978, 2530, 3326, 1333, 566, 618, 924, 1151, 995, 1131, 467, 1828, 909, 1399, 1098, 1570, 1395, 2599, 1991, 1043, 286, 1006, 286, 767, 998, 1231, 827, 641, 783, 2523, 990, 961, 1286, 1286, 711, 1904, 405, 898, 712, 1749, 684, 1107, 418, 1319, 693, 953, 1045, 861, 760, 876, 863, 1031, 999, 1003, 1140, 524, 408, 1025, 1277, 1677, 1234, 798, 613, 1008, 1374, 1139, 466, 977, 1182, 804, 1017, 959, 1056, 1069, 2087, 965, 1007, 1672, 1391, 4490, 2025, 963, 825, 1415, 943, 1974, 935, 760, 1204, 1034, 2015, 652, 1454, 1682, 1120, 670, 1029, 961, 910, 949, 1433, 1708, 1293, 898, 1294, 803, 465, 977, 1157, 1085, 434, 1179, 973, 1603, 1288, 843, 1040, 3319, 916, 1096, 1437, 488, 982, 1026, 811, 431, 518, 895, 1147, 957, 1014, 1204, 934, 1525, 823, 988, 826, 928, 1091, 909, 1410, 926, 777, 2420, 347, 501, 1601, 1062, 577, 632, 1209, 756, 912, 1090, 576, 981, 1373, 776, 517, 1898, 907, 1728, 630, 1221, 594, 421, 1152, 2093, 944, 1393, 1453, 981, 463, 727, 2317, 752, 712, 1027, 1142, 921, 892, 940, 1349, 677, 198, 1024, 1017, 1024, 1761, 914, 903, 843, 706, 349, 364, 1084, 723, 896, 1082, 881, 1865, 811, 1110, 391, 2229, 1125, 1366, 1367, 1018, 961, 1365, 1031, 698, 1034, 1548, 992, 1121, 693, 1255, 1206, 936, 612, 937, 1039, 1204, 1317, 748, 1004, 1490, 463, 280, 1410, 1037, 1397, 702, 811, 1247, 1081, 1724, 1020, 1097, 613, 154, 710, 796, 359, 203, 381, 434, 768, 277, 398, 150, 388, 270, 571, 401, 804, 899, 338, 93, 461, 940, 494, 1166, 399, 317, 148, 378, 449, 149, 132, 361, 157, 408, 830, 342, 393, 875, 232, 212, 326, 801, 289, 670, 705, 222, 388, 342, 561, 155, 512, 780, 830, 421, 1115, 786, 611, 253, 291, 484, 1084, 471, 884, 486, 435, 749, 369, 293, 727, 296, 903, 342, 802, 461, 301, 1011, 763, 196, 438, 817, 1208, 479, 506, 294, 265, 210, 225, 850, 933, 687, 185, 149, 61, 219, 919, 647, 668, 364, 583, 334, 667, 897, 104, 618, 598, 296, 883, 431, 331, 478, 310, 1522, 607, 207, 1013, 809, 305, 596, 277, 171, 419, 195, 1113, 208, 530, 843, 228, 672, 198, 706, 402, 265, 643, 369, 1108, 247, 542, 180, 406, 331, 292, 559, 465, 533, 644, 221, 449, 668, 718, 384, 725, 211, 353, 1020, 82, 1659, 643, 252, 266, 456, 577, 162, 665, 222, 697, 919, 445, 337, 460, 272, 1479, 1171, 791, 274, 124, 958, 211, 341, 180, 283, 272, 474, 308, 1208, 242, 220, 394, 880, 202, 316, 665, 398, 457, 296, 455, 288, 349, 261, 302, 847, 292, 252, 290, 718, 326, 187, 137, 680, 735, 415, 385, 608, 429, 933, 261, 255, 463, 268, 834, 413, 678, 560, 231, 477, 322, 419, 413, 534, 509, 299, 555, 2803, 427, 324, 185, 852, 312, 1486, 326, 94, 1031, 144, 1327, 398, 247, 227, 324, 677, 484, 269, 405, 898, 499, 408, 716, 613, 406, 705, 776, 304, 330, 457, 147, 467, 638, 694, 396, 743, 170, 145, 714, 309, 342, 923, 368, 351, 460, 419, 1630, 823, 986, 295, 269, 233, 341, 316, 275, 528, 645, 149, 667, 380, 288, 570, 564, 417, 255, 232, 1483, 435, 216, 362, 838, 243, 596, 923, 272, 392, 633, 807, 118, 169, 311, 2310, 512, 233, 589, 284, 723, 635, 316, 729, 398, 245, 360, 98, 607, 788, 211, 278, 671, 181, 355, 809, 247, 464, 267, 248, 540, 360, 345, 131, 193, 159, 509, 279, 949, 737, 643, 228, 912, 676, 295, 815, 406, 222, 1009, 102, 392, 504, 280, 726, 532, 252, 413, 174, 218, 381, 290, 1390, 387, 549, 688, 424, 812, 332, 589, 263, 171, 580, 1010, 375, 748, 219, 459, 382, 356, 336, 432, 652, 266, 750, 325, 470, 1467, 240, 246, 674, 289, 207, 1062, 334, 485, 618, 1218, 105, 798, 508, 346, 1362, 397, 423, 360, 298, 165, 171, 543, 355, 143, 1126, 638, 190, 476, 683, 919, 187, 490, 292, 447, 1248, 214, 1341, 795, 555, 348, 345, 116, 267, 444, 349, 566, 1893, 346, 895, 777, 293, 757, 736, 224, 492, 482, 406, 280, 361, 225, 703, 311, 888, 371, 224, 666, 344, 171, 298, 900, 1069, 788, 527, 217, 442, 382, 1298, 254, 1072, 309, 1101, 156, 170, 548, 670, 1291, 228, 418, 181, 400, 492, 157, 225, 744, 362, 326, 442, 599, 782, 538, 261, 296, 149, 447, 228, 203, 750, 463, 742, 2445, 2316, 457, 443, 1244, 526, 354, 1036, 235, 555, 2407, 742, 1727, 2327, 697, 821, 595, 388, 512, 639, 466, 288, 491, 672, 570, 852, 970, 413, 2256, 675, 2515, 582, 2369, 2347, 2310, 2282, 450, 641, 595, 2426, 1202, 356, 2280, 608, 616, 459, 2318, 544, 2427, 923, 563, 2363, 576, 889, 2199, 2389, 684, 2308, 658, 2327, 2392, 718, 725, 492, 378, 2398, 925, 707, 2559, 1154, 2576, 2529, 1002, 2498, 1172, 2436, 898, 2474, 728, 381, 552, 1067, 2482, 724, 1460, 1359, 2666, 497, 744, 2463, 2982, 2475, 514, 937, 2416, 801, 2391, 729, 939, 476, 886, 1105, 2522, 553, 2514, 1122, 2329, 2337, 2420, 2445, 2286, 2555, 902, 1291, 818, 2369, 2506, 1853, 2348, 2328, 1181, 2414, 560, 767, 2407, 1678, 372, 2376, 1047, 2495, 621, 749, 804, 792, 2476, 210, 367, 984, 2334, 763, 454, 2368, 512, 1503, 887, 690, 2408, 1277, 2353, 2432, 720, 2350, 1426, 2702, 291, 2485, 2111, 2597, 2324, 2460, 2399, 961, 558, 2306, 650, 2262, 278, 404, 2353, 693, 942, 2387, 864, 2424, 2355, 421, 489, 1152, 719, 483, 399, 2443, 1195, 2452, 1007, 2505, 809, 2479, 554, 2441, 2467, 417, 426, 2608, 652, 680, 839, 347, 644, 797, 466, 1660, 916, 583, 1032, 617, 2654, 263, 2437, 2415, 2439, 267, 2519, 802, 2303, 2541, 1083, 1052, 323, 2308, 632, 2411, 2484, 701, 2337, 2543, 2380, 2580, 2391, 1114, 2359, 993, 2427, 2468, 526, 821, 2629, 2347, 2542, 2544, 637, 546, 1126, 2473, 483, 2593, 309, 737, 2545, 2368, 533, 2574, 2479, 616, 675, 577, 2451, 2332, 2359, 768, 2537, 2442, 2469, 2327, 873, 2348, 2365, 1234, 807, 437, 723, 665, 1111, 598, 779, 927, 671, 924, 423, 642, 485, 700, 674, 444, 1176, 899, 2431, 634, 759, 2619, 2560, 726, 2462, 2401, 518, 2333, 673, 652, 604, 2335, 546, 602, 917, 781, 1027, 2420, 1338, 2419, 471, 556, 830, 500, 2463, 2545, 1128, 1451, 2543, 2436, 778, 2352, 624, 449, 502, 1340, 603, 2454, 1390, 2502, 1091, 792, 410, 488, 2396, 373, 1350, 2435, 2492, 700, 2539, 374, 382, 557, 637, 577, 2383, 552, 643, 1021, 403, 540, 2315, 2296, 842, 1129, 600, 905, 542, 674, 2399, 2383, 2475, 2476, 941, 1041, 966, 972, 1697, 464, 2496, 837, 896, 1110, 2269, 2467, 2088, 708, 1214, 2252, 658, 2487, 602, 1282, 702, 984, 2437, 2561, 770, 1340, 2452, 1451, 692, 698, 746, 595, 2438, 2487, 1645, 2465, 1286, 2376, 2462, 1349, 2622, 643, 423, 1527, 483, 1285, 2390, 2358, 2493, 1267, 2571, 1282, 879, 2981, 2480, 1768, 2481, 889, 1400, 816, 430, 1114, 548, 807, 981, 2662, 2529, 2050, 407, 947, 773, 1110, 2615, 1454, 2568, 560, 701, 1566, 1080, 596, 2613, 1349, 517, 782, 2469, 2694, 667, 2576, 1552, 2537, 413, 455, 410, 1150, 2668, 1958, 2537, 2790, 1547, 495, 1263, 2022, 666, 2510, 2291, 1241, 2559, 2625, 254, 1053, 1182, 2544, 554, 516, 533, 2592, 2556, 863, 2484, 2544, 1996, 2516, 856, 1128, 2672, 939, 220, 1302, 841, 1294, 490, 2672, 1041, 596, 303, 795, 816, 626, 303, 2572, 1629, 1055, 2627, 342, 2679, 2530, 1616, 2569, 818, 1609, 559, 358, 861, 1607, 2567, 989, 599, 2625, 2591, 666, 592, 2444, 743, 2656, 952, 938, 2391, 771, 2547, 520, 1598, 762, 647, 2526, 1445, 2532, 698, 1288, 445, 487, 2512, 2624, 1884, 2566, 629, 2641, 2530, 2625, 1087, 308, 655, 2636, 997, 355, 627, 1650, 560, 2504, 1332, 2464, 790, 1387, 1065, 1215, 536, 674, 2542, 2600, 726, 2198, 2648, 768, 542, 1044, 1283, 1368, 2586, 1655, 607, 355, 2663, 443, 2717, 2585, 2488, 560, 821, 837, 502, 364, 2583, 1445, 2512, 288, 563, 830, 2555, 433, 448, 834, 2607, 1574, 701, 556, 2572, 689, 662, 1370, 1500, 325, 784, 1669, 780, 551, 238, 403, 652, 2632, 258, 427, 194, 176, 540, 469, 2837, 597, 447, 487, 262, 987, 1192, 391, 415, 553, 2511, 659, 831, 737, 517, 448, 540, 796, 404, 466, 824, 566, 552, 689, 962, 164, 594, 939, 979, 694, 658, 699, 501, 422, 254, 711, 906, 345, 555, 651, 624, 611, 2056, 760, 540, 639, 687, 260, 1548, 462, 147, 1253, 500, 1069, 1070, 716, 455, 617, 1348, 552, 496, 602, 281, 646, 366, 488, 547, 735, 853, 992, 513, 962, 625, 1052, 728, 806, 1097, 465, 1530, 602, 376, 339, 553, 2391, 569, 1017, 596, 1156, 2446, 1201, 2182, 1134, 2391, 1199, 736, 415, 2437, 509, 2433, 394, 600, 571, 474, 737, 581, 802, 216, 248, 465, 703, 833, 833, 936, 728, 482, 2456, 560, 518, 2496, 2555, 2482, 492, 2470, 2250, 2638, 2266, 2329, 624, 800, 221, 337, 233, 222, 256, 385, 676, 308, 356, 411, 170, 201, 221, 582, 267, 169, 232, 535, 232, 290, 199, 308, 215, 475, 235, 254, 507, 212, 476, 188, 212, 271, 252, 310, 224, 422, 292, 244, 323, 106, 515, 360, 302, 267, 381, 258, 281, 380, 556, 298, 350, 217, 179, 2310, 282, 324, 258, 345, 212, 342, 373, 372, 340, 217, 374, 195, 339, 436, 267, 165, 348, 258, 389, 374, 257, 852, 400, 153, 331, 345, 164, 113, 492, 395, 422, 314, 255, 326, 345, 500, 483, 283, 191, 255, 338, 368, 209, 362, 265, 439, 304, 236, 363, 209, 181, 205, 200, 262, 370, 467, 180, 142, 323, 327, 230, 427, 446, 259, 175, 185, 325, 234, 203, 287, 293, 398, 356, 393, 319, 214, 253, 284, 254, 270, 235, 339, 300, 437, 221, 334, 152, 284, 252, 359, 6438, 211, 401, 519, 206, 272, 340, 152, 257, 244, 231, 232, 410, 245, 588, 276, 489, 220, 933, 180, 231, 259, 265, 340, 219, 236, 262, 307, 192, 221, 183, 283, 445, 331, 295, 647, 481, 239, 489, 206, 349, 187, 133, 383, 399, 372, 407, 151, 257, 344, 167, 194, 362, 191, 1252, 213, 185, 477, 375, 307, 200, 350, 182, 178, 277, 274, 200, 318, 217, 426, 308, 330, 302, 155, 306, 271, 511, 270, 340, 536, 367, 331, 243, 335, 334, 242, 235, 229, 347, 277, 492, 770, 139, 316, 219, 185, 282, 329, 360, 236, 257, 555, 406, 843, 286, 275, 238, 134, 313, 362, 264, 320, 206, 330, 254, 267, 209, 279, 169, 188, 470, 228, 188, 356, 369, 959, 1001, 315, 227, 139, 405, 186, 329, 124, 225, 390, 541, 666, 308, 505, 198, 501, 460, 519, 226, 326, 291, 292, 410, 286, 449, 326, 278, 223, 468, 308, 225, 724, 327, 281, 341, 479, 403, 247, 249, 192, 254, 370, 405, 215, 391, 298, 653, 415, 231, 490, 343, 574, 880, 237, 265, 276, 263, 415, 325, 210, 393, 611, 460, 305, 754, 238, 273, 253, 345, 422, 384, 358, 332, 309, 285, 239, 312, 350, 228, 454, 309, 176, 191, 291, 352, 406, 335, 352, 403, 401, 180, 172, 549, 240, 231, 252, 422, 277, 177, 473, 567, 323, 202, 397, 451, 333, 588, 239, 354, 322, 94, 360, 448, 888, 410, 321, 198, 135, 426, 309, 289, 167, 210, 626, 332, 200, 236, 315, 236, 426, 376, 415, 633, 245, 560, 325, 327, 135, 358, 373, 221, 208, 350, 300, 245, 379, 456, 228, 233, 529, 255, 441, 294, 371, 325, 318, 445, 269, 502, 273, 299, 906, 432, 297, 535, 316, 237, 277, 349, 261, 300, 246, 377, 560, 398, 292, 1089, 336, 448, 262, 410, 282, 144, 299, 742, 491, 253, 291, 405, 395, 232, 253, 328, 411, 329, 543, 254, 254, 337, 333, 296, 327, 363, 237, 349, 259, 231, 326, 529, 280, 367, 259, 481, 348, 742, 798, 2133, 395, 327, 214, 251, 219, 342, 412, 336, 207, 237, 380, 332, 658, 169, 357, 156, 258, 432, 366, 429, 765, 216, 368, 487, 154, 275, 308, 287, 217, 564, 368, 430, 322, 365, 277, 592, 327, 385, 566, 560, 161, 665, 278, 234, 862, 947, 522, 160, 369, 338, 329, 422, 230, 259, 222, 333, 221, 231, 354, 260, 334, 385, 312, 368, 374, 833, 339, 284, 286, 609, 353, 186, 292, 282, 481, 283, 269, 387, 329, 166, 614, 185, 539, 287, 534, 477, 285, 747, 270, 241, 194, 463, 150, 243, 223, 235, 436, 347, 303, 240, 313, 265, 340, 348, 330, 319, 435, 344, 302, 324, 153, 190, 653, 377, 355, 181, 448, 412, 234, 297, 577, 302, 301, 189, 411, 150, 276, 272, 347, 231, 231, 287, 136, 388, 228, 300, 149, 317, 345, 214, 447, 448, 180, 241, 518, 271, 281, 292, 342, 609, 562, 651, 934, 285, 359, 259, 400, 134, 428, 238, 386, 294, 300, 289, 218, 244, 222, 325, 314, 238, 284, 254, 497, 375, 428, 232, 144, 273, 384, 447, 215, 1146, 408, 376, 158, 350, 733, 345, 290, 321, 335, 334, 325, 216, 345, 364, 346, 261, 322, 283, 191, 718, 295, 340, 313, 380, 155, 391, 267, 578, 308, 271, 562, 403, 231, 749, 257, 223, 334, 131, 325, 652, 294, 236, 257, 288, 404, 302, 312, 246, 280, 350, 176, 285, 294, 231, 337, 679, 377, 174, 382, 734, 554, 207, 419, 602, 287, 748, 481, 428, 605, 875, 308, 351, 377, 391, 569, 299, 366, 894, 764, 283, 426, 486, 2343, 373, 599, 381, 552, 294, 617, 229, 214, 413, 218, 223, 629, 367, 170, 578, 419, 978, 283, 296, 364, 494, 185, 317, 485, 261, 350, 192, 243, 190, 479, 180, 216, 581, 263, 531, 585, 107, 238, 555, 250, 471, 357, 275, 823, 2055, 363, 362, 788, 1391, 451, 315, 127, 545, 487, 333, 439, 382, 303, 724, 557, 232, 596, 296, 498, 2250, 367, 722, 196, 493, 1402, 141, 379, 670, 742, 502, 927, 498, 2275, 287, 367, 459, 404, 431, 355, 338, 421, 1866, 567, 715, 873, 1593, 474, 212, 262, 450, 531, 638, 174, 266, 317, 464, 344, 986, 428, 698, 1194, 320, 320, 756, 477, 512, 1316, 561, 222, 242, 301, 505, 867, 570, 523, 901, 267, 509, 312, 403, 198, 483, 412, 532, 442, 227, 232, 313, 520, 272, 568, 349, 418, 240, 579, 240, 605, 443, 427, 631, 584, 261, 286, 311, 192, 307, 810, 564, 395, 3127, 495, 307, 559, 312, 301, 198, 555, 549, 390, 552, 241, 327, 1227, 154, 314, 401, 318, 310, 450, 288, 446, 596, 414, 303, 532, 269, 557, 235, 329, 447, 855, 332, 589, 457, 5774, 1189, 305, 309, 205, 210, 1020, 1275, 297, 505, 310, 268, 552, 756, 424, 811, 475, 299, 322, 205, 473, 237, 335, 294, 299, 322, 296, 480, 222, 688, 620, 417, 486, 691, 351, 810, 363, 2531, 433, 343, 259, 237, 349, 387, 452, 639, 555, 309, 549, 350, 392, 821, 319, 787, 986, 654, 207, 318, 565, 409, 731, 609, 511, 346, 595, 424, 962, 1400, 2508, 570, 348, 254, 1013, 265, 663, 625, 602, 736, 377, 296, 1105, 2589, 392, 244, 370, 540, 158, 1088, 272, 1369, 458, 293, 309, 397, 560, 518, 253, 191, 282, 745, 388, 479, 287, 473, 218, 2104, 373, 321, 311, 369, 291, 529, 372, 496, 449, 909, 490, 352, 347, 488, 2172, 361, 322, 312, 521, 325, 769, 488, 720, 562, 390, 712, 878, 384, 737, 631, 379, 309, 621, 261, 427, 746, 591, 374, 396, 465, 159, 466, 351, 135, 471, 964, 418, 306, 425, 619, 241, 421, 315, 242, 735, 786, 335, 777, 1099, 1507, 461, 840, 822, 415, 458, 841, 533, 381, 430, 491, 706, 337, 885, 711, 356, 424, 630, 311, 408, 381, 576, 314, 445, 332, 180, 572, 445, 380, 2048, 736, 1099, 2142, 363, 264, 391, 829, 654, 494, 369, 278, 280, 552, 678, 229, 444, 299, 284, 776, 230, 1186, 290, 629, 403, 1917, 592, 3285, 442, 370, 1797, 398, 390, 214, 262, 691, 3363, 284, 301, 362, 471, 3275, 2964, 371, 4468, 616, 525, 2268, 391, 555, 280, 347, 294, 980, 433, 367, 491, 2222, 305, 749, 378, 320, 598, 371, 735, 412, 165, 260, 1648, 288, 570, 231, 382, 395, 513, 749, 416, 480, 746, 234, 264, 1009, 473, 277, 319, 1301, 388, 584, 338, 171, 494, 931, 628, 413, 522, 638, 351, 381, 458, 352, 520, 481, 327, 222, 589, 535, 277, 423, 280, 829, 312, 344, 291, 246, 547, 811, 2317, 363, 246, 1149, 286, 517, 699, 557, 711, 851, 432, 462, 233, 340, 494, 612, 287, 197, 316, 370, 472, 2780, 434, 152, 1382, 314, 1232, 302, 380, 502, 307, 523, 928, 1017, 455, 198, 1102, 356, 524, 392, 293, 1360, 332, 980, 3027, 2954, 418, 1573, 395, 267, 646, 739, 325, 254, 534, 908, 290, 530, 697, 305, 948, 1702, 699, 1066, 569, 3825, 786, 2118, 363, 459, 313, 624, 211, 1568, 838, 246, 252, 718, 1479, 492, 287, 268, 504, 452, 509, 506, 1165, 3211, 1735, 1879, 565, 535, 251, 2516, 286, 346, 3211, 534, 358, 2153, 1129, 685, 283, 612, 707, 186, 1709, 326, 2647, 1300, 690, 555, 387, 3413, 1493, 2063, 501, 725, 301, 781, 2789, 352, 339, 325, 1194, 1428, 251, 1868, 488, 802, 349, 842, 2287, 1505, 396, 3184, 1228, 848, 186, 305, 548, 212, 656, 263, 652, 287, 228, 666, 1260, 750, 359, 2166, 414, 385, 382, 284, 199, 688, 1058, 810, 1993, 685, 535, 349, 261, 597, 155, 801, 316, 350, 220, 2996, 1340, 626, 760, 414, 1770, 1277, 369, 343, 442, 539, 427, 350, 361, 1480, 463, 276, 399, 286, 248, 1113, 456, 1267, 626, 576, 431, 324, 233, 2021, 341, 768, 342, 228, 453, 274, 324, 279, 216, 383, 447, 968, 550, 1714, 125, 695, 337, 1824, 893, 910, 606, 1744, 944, 391, 592, 957, 302, 260, 1151, 2542, 581, 363, 356, 1479, 338, 792, 557, 427, 468, 1442, 468, 490, 252, 1216, 180, 325, 541, 332, 523, 502, 4447, 352, 967, 992, 740, 536, 788, 343, 2758, 519, 637, 720, 447, 784, 1051, 1641, 511, 494, 249, 1032, 365, 886, 474, 742, 334, 1255, 270, 1023, 305, 1641, 607, 569, 443, 433, 476, 594, 823, 6653, 464, 951, 379, 783, 1101, 1058, 184, 252, 334, 1246, 957, 1144, 560, 756, 670, 601, 455, 454, 814, 351, 367, 2091, 669, 1055, 418, 2124, 652, 664, 576, 849, 408, 289, 512, 271, 506, 397, 2031, 1083, 245, 628, 413, 1008, 316, 1132, 766, 462, 1229, 1450, 1204, 923, 302, 519, 186, 444, 293, 305, 1232, 655, 796, 529, 484, 1232, 511, 620, 865, 265, 1163, 615, 643, 553, 1074, 642, 3056, 705, 314, 1043, 313, 452, 492, 314, 274, 1779, 1397, 300, 655, 1405, 302, 503, 184, 302, 558, 802, 2750, 252, 794, 433, 305, 215, 473, 1432, 1589, 270, 328, 403, 223, 519, 376, 925, 259, 292, 2428, 2374, 2057, 658, 1929, 499, 673, 754, 645, 379, 481, 2042, 146, 525, 493, 312, 633, 1004, 253, 261, 456, 339, 1853, 357, 318, 314, 568, 489, 781, 667, 1166, 670, 715, 809, 355, 285, 772, 239, 268, 651, 2369, 670, 695, 380, 871, 660, 253, 590, 780, 591, 2560, 629, 1083, 1828, 547, 775, 1053, 541, 352, 511, 424, 235, 1749, 566, 430, 648, 342, 455, 460, 325, 614, 282, 1669, 780, 551, 549, 238, 403, 652, 409, 1414, 258, 427, 194, 176, 157, 540, 469, 2837, 988, 447, 729, 262, 987, 1192, 718, 391, 415, 1547, 347, 248, 357, 879, 611, 692, 847, 888, 368, 570, 192, 325, 379, 268, 817, 346, 473, 303, 436, 376, 381, 1792, 171, 550, 349, 351, 625, 2155, 572, 658, 354, 747, 266, 965, 250, 402, 401, 677, 548, 488, 478, 1085, 1626, 684, 215, 325, 126, 172, 462, 746, 559, 1323, 985, 280, 331, 263, 268, 721, 260, 328, 651, 367, 295, 869, 650, 654, 1699, 730, 724, 428, 236, 271, 402, 1035, 680, 1439, 340, 396, 1185, 599, 1234, 372, 893, 419, 156, 181, 1513, 216, 316, 1400, 473, 500, 193, 413, 435, 182, 329, 331, 945, 287, 426, 203, 155, 330, 331, 972, 671, 365, 332, 337, 580, 228, 579, 372, 180, 1431, 2166, 658, 778, 436, 496, 471, 322, 214, 706, 745, 814, 369, 401, 738, 1538, 482, 1430, 298, 248, 356, 641, 588, 500, 2486, 523, 495, 560, 289, 990, 469, 387, 562, 704, 199, 515, 441, 482, 166, 272, 313, 547, 684, 966, 694, 643, 313, 1144, 478, 522, 484, 444, 246, 220, 333, 274, 511, 477, 982, 266, 219, 1020, 357, 537, 492, 590, 701, 356, 358, 411, 390, 315, 466, 381, 357, 1546, 431, 721, 612, 296, 779, 404, 474, 304, 436, 177, 1098, 699, 2409, 1226, 839, 216, 510, 241, 496, 360, 673, 560, 407, 2095, 755, 569, 316, 402, 505, 645, 1538, 762, 175, 1048, 938, 272, 370, 367, 342, 421, 336, 557, 643, 335, 199, 286, 2425, 290, 327, 305, 550, 3006, 2305, 3638, 3005, 1631, 2919, 3814, 2661, 4048, 4432, 2071, 2955, 1913, 1551, 1912, 5615, 3695, 8648, 1488, 2235, 4052, 3472, 2034, 1400, 3053, 2411, 2050, 2047, 2166, 1311, 2255, 1011, 2058, 1749, 3960, 4040, 2890, 1198, 2913, 1366, 2193, 2203, 2351, 3940, 3347, 4382, 2776, 1037, 2594, 2103, 2617, 3543, 3537, 3946, 2105, 3189, 1942, 4494, 2467, 2610, 2282, 2503, 1563, 3836, 3021, 3135, 1151, 4643, 3871, 2406, 1899, 5703, 2844, 2187, 5262, 2341, 1844, 1700, 3946, 1692, 1824, 2795, 2195, 2810, 1847, 2355, 3776, 2403, 5592, 2391, 3498, 3145, 1747, 1685, 2101, 3560, 1896, 3880, 2006, 2316, 2481, 1881, 2931, 2967, 2454, 2255, 1461, 1611, 1561, 2264, 1753, 3668, 1662, 3551, 3002, 2708, 4414, 2201, 2525, 5356, 1991, 1739, 2498, 1749, 2999, 1174, 2190, 2846, 14419, 3270, 4861, 2876, 1847, 4218, 2660, 2999, 2795, 3256, 2060, 2030, 2595, 3892, 2229, 3898, 2753, 2995, 5154, 1652, 4230, 1653, 2922, 962, 1859, 4250, 2559, 3356, 2648, 2264, 8117, 2815, 2568, 3585, 2152, 2574, 1569, 2459, 3762, 6215, 2314, 2079, 2624, 3618, 4477, 2726, 3658, 3393, 1726, 7392, 3665, 2590, 1185, 1798, 3259, 4827, 5689, 2983, 3172, 2887, 1460, 1886, 2301, 3305, 2068, 2612, 1694, 4226, 3066, 3715, 716, 1322, 13179, 888, 3124, 1152, 1593, 1899, 1582, 3816, 2161, 2802, 2772, 3540, 2594, 2350, 2486, 2615, 2122, 966, 1546, 2259, 2369, 15656, 2503, 2771, 5020, 3789, 2956, 2508, 2560, 2304, 3654, 3278, 2849, 2683, 2633, 3735, 4784, 1671, 1952, 4724, 3066, 1407, 3661, 2439, 2665, 3399, 3188, 3460, 2603, 2738, 1311, 1927, 6455, 3084, 1264, 1121, 2815, 1946, 3723, 4405, 1735, 2306, 1080, 3178, 2482, 2664, 1796, 1984, 3826, 5334, 3061, 2578, 2861, 3150, 3419, 1724, 2205, 3123, 2773, 3501, 10242, 1264, 1321, 2237, 2962, 4128, 2526, 3662, 3104, 2931, 1882, 4064, 2618, 3077, 2751, 1932, 1916, 2184, 1541, 3048, 1312, 1916, 2149, 3062, 1817, 1105, 2748, 3133, 9789, 756, 1451, 2649, 2272, 1135, 4065, 3402, 1865, 2024, 2432, 1516, 2965, 2854, 1513, 853, 2267, 2709, 2987, 2387, 6411, 3094, 2200, 2643, 1911, 1895, 2161, 2413, 3176, 2700, 2309, 2382, 3467, 3602, 3663, 1966, 816, 2630, 3077, 636, 2238, 2703, 3631, 2971, 2854, 2258, 2541, 3514, 1639, 2097, 2834, 4080, 2243, 2278, 3321, 2734, 1824, 1541, 3286, 3774, 1571, 2973, 1565, 5554, 2490, 1396, 5596, 1837, 1947, 4109, 1412, 4941, 4627, 3543, 2005, 2861, 1486, 2231, 2199, 3653, 2776, 1933, 3049, 1386, 1530, 2845, 2382, 2081, 1508, 3742, 4788, 2470, 1225, 2340, 2602, 7799, 2346, 1695, 1389, 3832, 1887, 21402, 3017, 2808, 2374, 2129, 4846, 3173, 2569, 2176, 5027, 1189, 4583, 3798, 4613, 3251, 2781, 2998, 1678, 1727, 3323, 3386, 2894, 3461, 1284, 3187, 2012, 1814, 4238, 1899, 2064, 1582, 2264, 3434, 1752, 1374, 1191, 3690, 2263, 2730, 4132, 2896, 2719, 3320, 1451, 1923, 2592, 2001, 3937, 1685, 2145, 4374, 1917, 3120, 4401, 1059, 2981, 2149, 2230, 4965, 1579, 5456, 1098, 3272, 1650, 1205, 2836, 2067, 3489, 1758, 2930, 3242, 1906, 4001, 2261, 2545, 3637, 2990, 2325, 7034, 1798, 4936, 4075, 2453, 2999, 2404, 2405, 2452, 2369, 2784, 1762, 3045, 5030, 2693, 1766, 2956, 2971, 2346, 2330, 2596, 2016, 2694, 2780, 3168, 4170, 2196, 2976, 3084, 1941, 3274, 2237, 3187, 2499, 1126, 4086, 2239, 2977, 1820, 3049, 1690, 2276, 2292, 3553, 1446, 2545, 1810, 2331, 3098, 1934, 3249, 2374, 1454, 4018, 4329, 1878, 3488, 817, 3518, 3200, 2418, 2331, 3677, 2389, 913, 2612, 2271, 1369, 1733, 2048, 1557, 1701, 1387, 3062, 2447, 2612, 1821, 2480, 2768, 3190, 5552, 2360, 3332, 2563, 2512, 2959, 2478, 3235, 3032, 2837, 2453, 3534, 5106, 3033, 1258, 2764, 2453, 3438, 1924, 2213, 4394, 3861, 3146, 1903, 4177, 3452, 2142, 3176, 1666, 2275, 1474, 2253, 2301, 2473, 2803, 2343, 3773, 3023, 2441, 1525, 1961, 5720, 2152, 2162, 2920, 2635, 2768, 2694, 2486, 1880, 2943, 2297, 5041, 1005, 4168, 2198, 2537, 2302, 4347, 2444, 3548, 3495, 3205, 2884, 2496, 3388, 3360, 2024, 3631, 3168, 3460, 1733, 3273, 2149, 3260, 3077, 2264, 1916, 1639, 2188, 4387, 3752, 4290, 2688, 2608, 1415, 2140, 1400, 3149, 2331, 3978, 3611, 2177, 4274, 3512, 1577, 5111, 1618, 1475, 2339, 2701, 2291, 3205, 4263, 3570, 2613, 5108, 2775, 2307, 3093, 3437, 1932, 2334, 1174, 3758, 2101, 1428, 2342, 3383, 2134, 3292, 2100, 3363, 3130, 2130, 2660, 4429, 501, 2071, 3806, 2378, 1296, 2135, 2358, 2033, 3091, 3664, 1650, 3660, 2887, 3279, 3038, 3031, 2149, 1505, 2964, 2041, 3115, 4883, 1844, 3043, 3266, 2520, 1608, 2214, 1338, 3033, 2311, 3306, 3262, 3247, 1773, 3180, 2378, 3674, 2476, 2643, 2922, 1940, 2265, 2855, 2929, 4181, 2383, 5675, 2208, 2448, 3377, 1672, 2288, 1803, 6198, 3234, 2492, 2231, 1979, 1581, 1645, 2760, 3201, 1961, 3175, 1305, 2374, 1800, 1800, 4107, 2886, 6960, 1818, 1808, 2369, 2620, 2138, 3162, 1533, 1536, 3725, 4339, 4127, 4342, 2043, 3991, 3339, 6739, 1901, 1810, 2045, 1316, 1422, 2320, 3057, 2144, 4235, 2362, 1369, 2052, 2048, 3501, 2047, 3156, 3198, 4001, 4795, 2528, 4831, 1607, 7010, 2249, 8534, 3568, 2576, 4541, 2452, 3378, 2372, 3305, 1518, 3347, 4028, 1509, 4322, 3197, 2018, 4041, 3880, 6555, 2651, 2924, 4013, 2275, 4003, 6226, 2648, 2807, 5852, 3593, 4821, 930, 3222, 5338, 2009, 1343, 2220, 3916, 2111, 2540, 3008, 2818, 5579, 3281, 2407, 3883, 1539, 2617, 5314, 4885, 2517, 2290, 4295, 4171, 1991, 2034, 2788, 2493, 3143, 1708, 4303, 2272, 2253, 2392, 3039, 1618, 3955, 4188, 3956, 1902, 3532, 1079, 2931, 1367, 2348, 5046, 2728, 2010, 1858, 2623, 2569, 2696, 1884, 2410, 3655, 1395, 2275, 2064, 2680, 2605, 2944, 2224, 3350, 4244, 1858, 2740, 1526, 2085, 2349, 1779, 2442, 2535, 2980, 2337, 2131, 909, 2214, 3921, 2337, 1900, 1917, 4714, 2402, 1294, 1892, 4515, 2397, 1697, 2317, 5239, 2619, 1406, 2758, 3223, 3411, 1214, 3099, 6648, 5069, 2372, 4414, 2899, 2945, 2924, 2076, 2161, 2558, 1732, 2227, 2923, 2194, 2855, 6548, 3050, 3919, 2582, 3518, 2500, 4380, 2147, 2642, 1437, 1688, 1413, 4142, 1650, 4517, 2446, 1727, 2721, 4531, 1655, 3166, 2254, 2964, 3309, 3515, 3430, 2562, 3194, 3169, 1848, 3705, 8191, 3800, 2607, 7852, 5079, 2504, 2748, 4257, 4485, 2728, 1758, 1263, 1855, 3952, 1390, 1446, 2479, 3214, 2372, 1973, 1681, 4085, 3748, 4706, 3486, 3499, 3192, 3073, 1773, 1487, 5626, 2545, 2038, 3518, 6611, 3355, 1843, 3952, 2507, 1866, 2580, 3610, 1030, 3077, 4878, 3824, 1405, 1909, 3094, 3856, 3689, 3939, 1786, 1891, 3237, 2496, 2432, 3271, 5617, 4053, 3699, 2148, 3378, 2682, 3892, 1662, 1167, 2184, 2754, 5995, 1476, 1993, 3247, 4573, 1809, 1793, 4103, 2977, 3584, 2514, 1914, 2146, 2170, 1852, 1891, 1226, 2849, 1351, 2555, 1646, 2145, 3003, 3213, 3791, 1744, 4312, 4442, 6631, 6352, 2210, 2132, 3100, 2704, 2873, 1590, 3047, 3669, 2301, 3010, 2673, 3643, 3965, 2664, 2690, 2297, 2224, 1967, 4404, 2298, 3611, 2519, 1477, 1788, 2333, 2127, 1472, 2709, 1800, 3599, 4223, 1630, 4251, 2944, 4067, 1510, 3079, 3168, 4670, 4797, 1691, 1929, 2991, 2553, 1644, 2812, 2622, 3454, 2286, 2139, 4515, 2313, 2194, 5271, 1686, 4436, 2640, 2186, 1662, 2896, 1584, 2613, 3155, 2973, 1152, 2856, 4021, 2643, 1588, 3119, 1525, 1304, 4688, 1487, 3081, 614, 1155, 1731, 1740, 2013, 2802, 4446, 3095, 3416, 3684, 2880, 3185, 1805, 1398, 4723, 7598, 4521, 3034, 2732, 3617, 2849, 2723, 2858, 4147, 3533, 2455, 1114, 1897, 1630, 1282, 3406, 6361, 2191, 6658, 2350, 5230, 2629, 2687, 2589, 1840, 1857, 2655, 6482, 3866, 3454, 3302, 2625, 3806, 2533, 1459, 3166, 1840, 1113, 692, 2864, 1874, 880, 2785, 4072, 1938, 3410, 1482, 2745, 3440, 3285, 1518, 4407, 7035, 4029, 3987, 3594, 2376, 5712, 5376, 2770, 6477, 3217, 2317, 2781, 3407, 3359, 2323, 3408, 3555, 1120, 4790, 1910, 1911, 3255, 4141, 3421, 2534, 4894, 2676, 2087, 2078, 1851, 4345, 2417, 2947, 2445, 2775, 4122, 2065, 1342, 1305, 5730, 1751, 4662, 3412, 1546, 1982, 2016, 1816, 1795, 3551, 2120, 2483, 2593, 8794, 2727, 1849, 1943, 4536, 2332, 5347, 1441, 3968, 4729, 2245, 2075, 2460, 3628, 3366, 3861, 2882, 2194, 4185, 4977, 6411, 3380, 5878, 1763, 1989, 3837, 2705, 3593, 1424, 3651, 3262, 2859, 3142, 2237, 2208, 2854, 2979, 1696, 1983, 1672, 2226, 3350, 3281, 2675, 4279, 2467, 1687, 2027, 2109, 2694, 4964, 4932, 1337, 2873, 2957, 2164, 2741, 2863, 3710, 4421, 2843, 2344, 3484, 2533, 1102, 3098, 5776, 2379, 2928, 2233, 3487, 2314, 4566, 713, 2828, 3096, 2709, 3537, 3217, 2432, 3492, 4502, 5478, 2732, 4158, 2531, 2343, 1667, 2288, 1893, 2937, 2961, 4275, 1803, 2392, 5177, 2762, 2662, 2456, 2048, 2729, 6165, 1871, 1573, 2030, 2819, 1870, 1484, 2483, 2228, 1761, 2210, 3728, 4459, 4176, 2775, 2573, 3770, 7161, 925, 2083, 1625, 2881, 3153, 1714, 2745, 2753, 2683, 3311, 3361, 3626, 1643, 1778, 3269, 2518, 3737, 2669, 4388, 1529, 2918, 5214, 2094, 3360, 2689, 3268, 1857, 2489, 2876, 3199, 2795, 3886, 3099, 2584, 2694, 2475, 2437, 2373, 3579, 4692, 1455, 4560, 1478, 2066, 1429, 1207, 1661, 3591, 2460, 3546, 2273, 2121, 3947, 3451, 3916, 4015, 2825, 1244, 1859, 1672, 2542, 1413, 3990, 4789, 2927, 1849, 1729, 3671, 2994, 4359, 27, 2083, 3172, 2172, 2287, 2082, 3702, 2727, 3692, 2280, 1976, 4709, 2762, 1849, 2071, 2937, 2282, 3007, 2003, 6127, 4381, 1892, 3056, 2415, 3682, 2035, 1316, 2653, 2560, 2636, 5710, 2746, 2511, 2504, 3201, 2349, 2168, 4087, 5480, 2681, 4125, 3303, 2521, 4333, 3334, 2166, 2857, 4600, 1280, 3084, 4220, 2906, 2117, 4361, 1649, 5601, 3215, 2455, 2082, 3654, 2525, 5474, 2384, 2657, 7379, 4908, 3112, 3511, 3196, 3940, 2791, 3588, 3405, 1277, 1780, 3514, 3151, 4184, 2065, 1244, 2844, 2287, 2819, 3580, 1263, 5150, 3081, 2817, 2519, 6894, 2199, 4490, 1549, 2384, 3918, 5990, 3823, 3923, 3906, 2762, 5682, 2439, 2209, 2830, 1290, 1440, 1962, 2916, 2666, 4993, 4201, 2299, 2692, 1103, 4054, 1943, 5250, 2563, 3094, 3511, 6812, 1853, 5260, 2367, 4460, 4941, 2503, 2624, 3238, 2670, 3698, 2643, 2234, 4438, 3571, 5821, 1675, 3696, 3290, 3054, 2150, 4864, 8636, 1116, 3450, 3625, 1553, 3746, 2487, 1727, 2557, 2718, 2546, 4898, 3310, 2220, 3686, 3248, 2482, 2502, 3936, 2615, 3076, 1925, 1910, 3812, 2295, 13136, 2521, 3317, 2740, 2779, 3484, 2753, 2891, 4455, 2524, 3260, 2765, 3383, 1418, 2075, 2423, 3363, 1253, 4459, 2388, 4656, 2253, 3946, 2977, 2722, 1999, 1593, 2125, 2502, 3054, 3169, 1749, 2682, 1772, 2938, 2226, 2167, 2325, 4133, 2956, 2410, 2035, 2188, 3270, 3050, 2123, 2563, 1416, 2778, 3795, 1118, 1511, 4952, 2849, 3250, 3724, 3973, 3143, 2651, 2789, 2773, 3073, 3191, 3673, 2243, 6222, 3599, 2897, 2398, 1541, 2790, 3193, 3758, 3178, 2710, 2270, 1517, 1842, 2604, 2489, 2745, 3066, 3590, 1301, 1814, 2758, 2926, 3172, 2070, 3296, 1994, 2718, 2423, 7476, 1490, 2986, 4190, 3173, 3020, 2233, 3104, 1612, 4140, 2639, 6357, 1520, 2793, 1959, 2230, 2784, 1581, 1925, 3357, 2922, 6619, 1499, 1661, 4045, 3177, 2020, 3169, 1771, 2121, 2618, 1839, 3932, 7433, 749, 2075, 3305, 2098, 3215, 1856, 1896, 3087, 4691, 2265, 3345, 3868, 1415, 2896, 3213, 3250, 2939, 3307, 3587, 2109, 3195, 1038, 2231, 2178, 2976, 1738, 3278, 2398, 2069, 4002, 2856, 3370, 1992, 1870, 3335, 1979, 1852, 2471, 3982, 2629, 3091, 2933, 5044, 3480, 2900, 3989, 3154, 4588, 4075, 2224, 2384, 4101, 3661, 2848, 2151, 2141, 2424, 3268, 3362, 2178, 1697, 1257, 3073, 1383, 2357, 2466, 3487, 2791, 3903, 2896, 2958, 1654, 1992, 2253, 3321, 2939, 5756, 2675, 3217, 3577, 3564, 4452, 6173, 3052, 1540, 2183, 3002, 2673, 1814, 1847, 2909, 4238, 2574, 2016, 1074, 1099, 2305, 3284, 4383, 3013, 3592, 1691, 3892, 3215, 2296, 5708, 2161, 3016, 2303, 2054, 1518, 2972, 3068, 2228, 2952, 2805, 2698, 3257, 4292, 2271, 4024, 2808, 1464, 1349, 2005, 2959, 2848, 2539, 3397, 3154, 3642, 2466, 2068, 1841, 4608, 3169, 1547, 2345, 3024, 4085, 4543, 3314, 1694, 2393, 2935, 3430, 5562, 3298, 1992, 3712, 4413, 2201, 3920, 3354, 4174, 1654, 2561, 325, 1669, 780, 551, 238, 403, 652, 258, 2209, 427, 2652, 194, 176, 3226, 540, 469, 2837, 447, 262, 987, 1192, 391, 415, 2070, 2477, 2033, 3257, 2479, 3246, 1516, 1921, 2942, 2596, 1800, 2340, 1970, 2903, 2437, 3209, 2844, 3023, 2921, 3167, 1951, 2846, 3283, 2659, 4412, 3341, 2589, 2099, 6470, 2704, 1599, 2709, 1585, 3094, 3321, 2061, 3570, 3374, 1635, 3289, 2785, 2523, 2933, 3509, 3186, 2549, 1818, 1783, 6704, 5131, 3006, 2843, 3262, 1807, 2888, 1966, 2339, 1773, 2856, 3254, 1810, 2449, 1772, 2153, 1925, 4457, 1893, 284, 218, 348, 457, 193, 338, 243, 411, 286, 661, 228, 901, 298, 918, 308, 1499, 452, 416, 111, 434, 385, 759, 299, 389, 292, 895, 193, 257, 126, 1162, 337, 376, 775, 323, 262, 242, 224, 407, 730, 481, 319, 583, 165, 385, 135, 397, 744, 263, 105, 302, 229, 363, 330, 758, 240, 260, 381, 962, 321, 334, 434, 296, 91, 349, 345, 201, 174, 591, 309, 1331, 194, 428, 251, 612, 436, 1299, 210, 161, 244, 350, 881, 311, 613, 302, 283, 376, 779, 354, 234, 241, 257, 329, 741, 164, 177, 280, 448, 366, 207, 317, 202, 220, 260, 207, 535, 171, 329, 403, 321, 621, 1058, 324, 586, 477, 185, 465, 416, 809, 411, 147, 336, 508, 1297, 355, 3148, 226, 343, 536, 281, 557, 280, 157, 232, 691, 375, 299, 7728, 480, 722, 375, 304, 640, 258, 505, 2557, 166, 364, 490, 209, 363, 687, 486, 375, 536, 204, 176, 487, 570, 544, 236, 403, 188, 439, 1004, 249, 180, 223, 224, 130, 303, 776, 417, 496, 487, 701, 458, 365, 173, 213, 393, 169, 509, 856, 1442, 128, 383, 392, 151, 167, 483, 331, 392, 509, 487, 355, 205, 326, 619, 271, 212, 310, 300, 681, 181, 876, 482, 564, 255, 924, 428, 441, 337, 289, 637, 1732, 335, 230, 517, 448, 343, 631, 228, 497, 288, 401, 269, 630, 189, 129, 874, 137, 82, 1151, 385, 451, 175, 173, 213, 455, 553, 420, 298, 236, 295, 542, 407, 263, 707, 518, 189, 1159, 427, 658, 271, 676, 207, 210, 271, 399, 531, 583, 291, 119, 464, 185, 420, 172, 226, 201, 887, 972, 105, 2065, 224, 226, 579, 174, 342, 365, 383, 347, 174, 516, 130, 533, 188, 301, 111, 929, 1748, 175, 185, 268, 244, 1004, 409, 608, 278, 917, 288, 147, 394, 246, 234, 1073, 112, 353, 471, 142, 563, 198, 294, 271, 107, 1180, 311, 324, 330, 713, 405, 196, 537, 462, 327, 377, 164, 208, 296, 1251, 344, 411, 210, 183, 413, 224, 486, 26, 509, 360, 4904, 379, 147, 411, 109, 714, 289, 115, 190, 214, 234, 225, 164, 355, 226, 353, 541, 366, 182, 256, 128, 1308, 1012, 237, 607, 1275, 438, 334, 375, 179, 152, 553, 201, 859, 141, 280, 327, 139, 159, 268, 211, 314, 361, 435, 158, 202, 128, 285, 360, 426, 820, 617, 349, 432, 280, 248, 333, 185, 188, 388, 2411, 617, 194, 263, 599, 292, 174, 259, 508, 294, 35, 577, 282, 330, 315, 366, 679, 180, 207, 782, 181, 368, 342, 402, 202, 191, 505, 1787, 375, 1067, 195, 276, 407, 310, 281, 688, 395, 1644, 537, 151, 296, 497, 320, 468, 170, 853, 314, 465, 806, 317, 424, 151, 626, 158, 598, 632, 273, 860, 306, 653, 737, 394, 221, 325, 663, 1444, 306, 257, 219, 204, 202, 576, 1531, 282, 190, 325, 271, 204, 416, 359, 750, 300, 402, 169, 391, 195, 155, 373, 477, 280, 606, 501, 350, 428, 367, 261, 488, 992, 341, 1063, 184, 392, 231, 281, 521, 513, 753, 3067, 312, 260, 548, 269, 632, 373, 273, 255, 358, 131, 230, 619, 459, 192, 319, 257, 264, 616, 331, 267, 229, 96, 258, 279, 545, 755, 1564, 176, 245, 80, 429, 700, 564, 504, 414, 141, 134, 183, 1280, 751, 173, 394, 409, 177, 1023, 825, 206, 316, 585, 349, 669, 525, 1411, 302, 544, 320, 366, 578, 316, 239, 505, 145, 477, 151, 285, 1932, 382, 423, 227, 404, 314, 175, 94, 635, 701, 1896, 547, 274, 189, 253, 356, 323, 456, 264, 895, 205, 1480, 342, 184, 398, 476, 671, 1314, 239, 180, 486, 181, 260, 229, 456, 529, 1720, 375, 374, 661, 284, 524, 287, 141, 650, 492, 165, 716, 405, 265, 93, 729, 337, 288, 1525, 292, 267, 635, 214, 337, 449, 378, 244, 201, 375, 589, 160, 435, 330, 1657, 209, 290, 257, 391, 325, 949, 491, 207, 164, 187, 648, 415, 684, 229, 206, 262, 251, 247, 356, 1279, 182, 275, 455, 180, 559, 764, 396, 741, 426, 791, 404, 212, 575, 305, 272, 689, 447, 344, 342, 259, 629, 1067, 415, 223, 433, 231, 394, 606, 440, 192, 832, 610, 1067, 336, 233, 833, 368, 233, 364, 646, 836, 556, 810, 1001, 606, 1067, 233, 264, 281, 192, 912, 338, 402, 588, 73, 257, 625, 254, 477, 508, 333, 381, 269, 336, 548, 468, 201, 502, 620, 901, 183, 335, 4017, 137, 1078, 524, 178, 335, 387, 155, 775, 927, 266, 397, 507, 1140, 67, 271, 1363, 275, 311, 388, 306, 567, 462, 294, 182, 422, 197, 449, 642, 130, 1632, 505, 474, 182, 343, 466, 246, 314, 454, 279, 169, 145, 192, 180, 975, 477, 329, 109, 200, 186, 446, 96, 174, 535, 374, 782, 529, 246, 501, 249, 503, 282, 179, 484, 445, 405, 425, 638, 201, 321, 429, 416, 282, 174, 554, 2243, 803, 1668, 276, 532, 177, 143, 585, 419, 388, 484, 214, 329, 226, 249, 228, 440, 545, 157, 1566, 222, 267, 384, 268, 519, 285, 173, 269, 456, 2105, 529, 188, 417, 1102, 415, 98, 104, 414, 569, 816, 773, 258, 325, 204, 219, 446, 582, 310, 614, 335, 807, 372, 1370, 409, 830, 481, 148, 550, 205, 1067, 500, 559, 403, 829, 342, 550, 129, 213, 313, 544, 334, 1897, 307, 357, 484, 608, 659, 146, 711, 422, 848, 357, 228, 238, 578, 499, 270, 241, 1288, 981, 641, 184, 246, 366, 119, 236, 122, 610, 1199, 322, 364, 247, 280, 494, 389, 543, 145, 445, 436, 467, 619, 305, 238, 331, 197, 195, 412, 994, 453, 448, 330, 620, 801, 243, 441, 221, 266, 567, 301, 721, 264, 352, 635, 700, 1343, 1042, 486, 1051, 286, 492, 691, 175, 856, 281, 317, 307, 740, 131, 152, 462, 652, 614, 105, 508, 342, 450, 296, 957, 437, 305, 291, 289, 310, 688, 248, 428, 388, 295, 2007, 851, 702, 277, 317, 327, 617, 260, 700, 281, 505, 519, 282, 209, 411, 346, 382, 334, 665, 185, 330, 360, 462, 548, 662, 282, 607, 353, 373, 325, 315, 575, 375, 285, 265, 726, 334, 165, 623, 321, 378, 449, 690, 803, 691, 334, 325, 240, 410, 1402, 159, 689, 204, 395, 318, 270, 820, 395, 159, 379, 272, 255, 410, 209, 675, 283, 469, 308, 585, 315, 469, 1187, 431, 595, 249, 924, 162, 380, 320, 563, 223, 1345, 683, 296, 800, 626, 137, 341, 375, 417, 256, 138, 264, 648, 639, 289, 176, 835, 216, 461, 240, 253, 419, 364, 457, 358, 224, 489, 512, 541, 832, 332, 173, 395, 598, 111, 355, 391, 335, 573, 732, 383, 492, 328, 390, 957, 313, 113, 146, 587, 222, 459, 386, 306, 171, 400, 174, 331, 607, 721, 360, 524, 408, 712, 475, 186, 1685, 101, 1122, 299, 223, 172, 313, 298, 473, 596, 278, 562, 1572, 164, 656, 445, 72, 104, 388, 400, 165, 542, 317, 395, 665, 364, 473, 245, 346, 457, 394, 396, 536, 274, 281, 412, 289, 223, 258, 262, 543, 271, 224, 337, 663, 403, 431, 239, 415, 135, 271, 571, 243, 227, 661, 377, 500, 837, 338, 1292, 153, 177, 195, 314, 392, 278, 221, 565, 237, 910, 575, 178, 171, 320, 632, 483, 339, 337, 185, 162, 1024, 459, 918, 243, 1796, 576, 1916, 298, 140, 195, 388, 293, 438, 108, 524, 223, 495, 455, 184, 290, 219, 300, 158, 879, 257, 483, 527, 737, 252, 544, 763, 569, 316, 1903, 162, 272, 362, 189, 273, 275, 327, 224, 974, 326, 510, 231, 294, 846, 125, 316, 499, 300, 410, 1546, 519, 478, 1353, 424, 731, 473, 764, 284, 409, 369, 665, 274, 717, 575, 428, 355, 735, 337, 875, 961, 430, 354, 465, 227, 512, 1002, 265, 295, 416, 560, 494, 177, 326, 337, 130, 372, 814, 529, 358, 647, 258, 419, 184, 604, 1243, 166, 758, 456, 683, 274, 1345, 157, 382, 363, 237, 760, 362, 221, 302, 324, 682, 407, 295, 496, 835, 540, 507, 110, 440, 81, 164, 364, 1722, 348, 413, 251, 780, 860, 660, 238, 214, 271, 264, 425, 411, 340, 448, 257, 334, 292, 449, 311, 297, 451, 330, 376, 447, 1400, 118, 837, 229, 457, 111, 443, 367, 727, 175, 305, 280, 305, 106, 484, 2775, 474, 611, 1146, 320, 432, 486, 423, 367, 627, 294, 430, 209, 389, 414, 385, 184, 5720, 243, 467, 144, 178, 240, 275, 754, 536, 160, 176, 482, 1386, 179, 156, 558, 318, 766, 496, 131, 328, 523, 756, 192, 242, 358, 509, 230, 382, 206, 476, 437, 892, 247, 245, 200, 687, 831, 153, 396, 158, 219, 274, 187, 603, 513, 393, 175, 283, 388, 277, 484, 343, 175, 725, 611, 351, 354, 490, 243, 1335, 223, 193, 712, 140, 1060, 953, 483, 802, 152, 787, 1065, 387, 232, 142, 197, 301, 254, 289, 248, 289, 178, 402, 313, 1201, 283, 369, 448, 212, 664, 174, 506, 286, 239, 315, 365, 317, 302, 1013, 334, 254, 399, 122, 340, 440, 566, 308, 330, 479, 318, 355, 230, 148, 1276, 867, 291, 208, 297, 413, 948, 729, 843, 340, 239, 658, 135, 120, 299, 756, 384, 203, 517, 146, 386, 832, 333, 178, 664, 857, 287, 572, 175, 401, 170, 377, 592, 1155, 259, 555, 356, 282, 265, 204, 887, 272, 647, 246, 147, 791, 328, 1076, 160, 158, 652, 544, 1002, 336, 386, 355, 475, 114, 300, 501, 346, 466, 359, 412, 445, 260, 119, 284, 287, 344, 358, 156, 320, 422, 788, 711, 120, 471, 262, 254, 349, 125, 173, 301, 394, 1597, 341, 1318, 1111, 233, 1196, 219, 259, 226, 309, 526, 501, 653, 184, 280, 383, 384, 224, 196, 645, 548, 168, 144, 485, 1303, 707, 253, 197, 22, 469, 316, 279, 91, 498, 172, 224, 270, 293, 201, 392, 385, 309, 474, 244, 190, 1018, 86, 219, 494, 481, 4412, 798, 186, 550, 450, 432, 270, 397, 428, 172, 425, 258, 895, 260, 548, 192, 420, 629, 303, 279, 297, 530, 768, 249, 253, 1096, 133, 299, 295, 322, 258, 286, 1047, 1367, 259, 485, 1205, 665, 95, 514, 473, 176, 420, 193, 649, 757, 561, 649, 186, 206, 363, 329, 298, 223, 323, 526, 298, 319, 204, 701, 421, 332, 527, 443, 603, 512, 515, 509, 483, 426, 394, 168, 2622, 607, 203, 599, 228, 525, 107, 318, 202, 554, 386, 273, 593, 150, 374, 568, 189, 221, 912, 328, 377, 399, 132, 299, 685, 478, 301, 225, 93, 710, 331, 112, 164, 613, 130, 830, 293, 253, 201, 698, 620, 279, 247, 704, 764, 567, 296, 560, 166, 373, 1178, 445, 399, 252, 262, 373, 414, 431, 328, 307, 150, 347, 398, 249, 579, 370, 516, 465, 1461, 738, 601, 497, 296, 399, 263, 339, 930, 794, 243, 1184, 194, 500, 333, 262, 584, 487, 280, 322, 845, 249, 397, 291, 112, 383, 889, 229, 422, 349, 170, 555, 223, 507, 226, 249, 396, 540, 445, 562, 266, 401, 230, 245, 337, 620, 564, 933, 288, 287, 349, 199, 495, 295, 655, 680, 478, 408, 239, 235, 254, 439, 278, 412, 771, 224, 517, 469, 315, 300, 136, 1217, 149, 333, 502, 305, 587, 434, 731, 216, 269, 270, 563, 696, 401, 1206, 159, 320, 401, 766, 193, 349, 227, 555, 369, 407, 330, 953, 653, 492, 647, 208, 495, 323, 504, 313, 355, 87, 219, 267, 216, 377, 572, 303, 506, 537, 113, 290, 244, 433, 61, 252, 647, 1006, 280, 581, 362, 463, 214, 721, 1016, 418, 306, 798, 363, 134, 145, 469, 907, 256, 386, 180, 255, 1014, 204, 330, 335, 1852, 385, 570, 314, 569, 460, 275, 310, 634, 493, 1024, 596, 1255, 200, 479, 530, 586, 257, 246, 298, 669, 536, 338, 343, 805, 255, 173, 114, 337, 645, 211, 418, 297, 1180, 437, 361, 682, 310, 300, 319, 407, 202, 542, 223, 1647, 185, 560, 445, 271, 338, 756, 418, 656, 856, 375, 262, 271, 765, 259, 1257, 228, 265, 427, 123, 440, 1071, 713, 377, 372, 298, 295, 575, 361, 421, 480, 595, 514, 381, 415, 565, 675, 302, 346, 151, 301, 426, 174, 374, 172, 380, 405, 228, 349, 542, 756, 416, 437, 447, 1996, 671, 330, 448, 355, 361, 386, 257, 652, 493, 242, 406, 251, 927, 1835, 609, 653, 971, 1800, 486, 160, 209, 350, 304, 571, 272, 777, 578, 1733, 197, 373, 2037, 641, 707, 220, 424, 392, 580, 532, 367, 351, 288, 192, 697, 699, 450, 248, 276, 547, 1251, 417, 431, 1279, 201, 418, 375, 296, 370, 587, 169, 947, 211, 507, 352, 1136, 182, 286, 239, 903, 532, 413, 187, 617, 663, 405, 784, 411, 485, 753, 390, 384, 290, 601, 678, 1029, 448, 485, 464, 535, 460, 934, 448, 965, 279, 364, 311, 376, 1343, 389, 598, 1094, 258, 755, 348, 248, 729, 402, 418, 293, 359, 590, 612, 792, 255, 597, 747, 384, 347, 484, 346, 765, 282, 267, 259, 309, 202, 203, 425, 390, 1126, 226, 336, 1564, 358, 704, 334, 643, 591, 766, 588, 1151, 1562, 484, 626, 271, 775, 414, 470, 565, 480, 186, 730, 349, 472, 216, 438, 369, 408, 487, 1177, 438, 199, 704, 209, 306, 330, 894, 389, 168, 964, 432, 258, 338, 953, 1194, 344, 791, 692, 1272, 568, 616, 336, 269, 517, 392, 270, 281, 432, 175, 651, 398, 273, 250, 676, 976, 372, 389, 184, 312, 647, 338, 933, 497, 539, 369, 349, 650, 420, 577, 458, 420, 406, 324, 292, 327, 678, 491, 282, 201, 325, 277, 239, 258, 833, 1411, 1952, 284, 755, 734, 516, 285, 282, 259, 396, 311, 651, 227, 368, 380, 341, 659, 965, 454, 529, 398, 390, 390, 478, 316, 1270, 629, 365, 270, 601, 388, 609, 244, 192, 975, 505, 474, 348, 866, 778, 386, 668, 641, 247, 278, 446, 423, 438, 334, 331, 364, 334, 1106, 1393, 586, 397, 493, 329, 347, 445, 217, 645, 183, 339, 557, 392, 229, 575, 356, 310, 235, 285, 532, 372, 225, 356, 421, 168, 980, 432, 560, 701, 170, 337, 337, 169, 206, 341, 203, 253, 259, 581, 657, 348, 219, 239, 426, 270, 378, 189, 457, 322, 195, 578, 422, 446, 342, 224, 204, 324, 295, 257, 636, 172, 121, 339, 274, 147, 305, 277, 560, 372, 226, 405, 289, 273, 1192, 232, 707, 290, 465, 345, 274, 298, 473, 309, 276, 125, 388, 387, 345, 183, 237, 272, 281, 327, 277, 274, 742, 646, 230, 414, 674, 448, 565, 213, 553, 506, 401, 245, 643, 210, 247, 153, 262, 266, 350, 189, 356, 397, 298, 762, 518, 366, 191, 945, 625, 605, 404, 184, 325, 242, 464, 239, 1315, 319, 193, 523, 202, 230, 372, 332, 197, 743, 292, 302, 253, 520, 246, 331, 581, 251, 240, 214, 336, 265, 204, 317, 149, 267, 155, 94, 535, 208, 221, 1125, 178, 164, 131, 210, 173, 247, 274, 259, 158, 167, 420, 98, 505, 266, 143, 295, 357, 313, 96, 255, 484, 146, 429, 129, 219, 125, 89, 383, 342, 265, 242, 277, 271, 115, 351, 124, 197, 89, 398, 178, 174, 108, 305, 1628, 142, 143, 399, 122, 149, 636, 727, 616, 597, 312, 286, 577, 597, 336, 752, 364, 237, 287, 372, 246, 274, 178, 165, 508, 520, 590, 1091, 305, 419, 384, 679, 307, 398, 557, 267, 1139, 421, 654, 492, 381, 638, 319, 269, 594, 292, 742, 362, 308, 348, 514, 1208, 346, 158, 274, 365, 266, 502, 244, 190, 414, 375, 436, 267, 268, 791, 119, 450, 728, 268, 242, 300, 539, 470, 478, 858, 274, 369, 556, 308, 332, 458, 378, 265, 251, 429, 378, 1614, 1379, 281, 429, 600, 598, 253, 449, 540, 522, 1614, 542, 495, 192, 208, 239, 501, 283, 478, 469, 353, 379, 433, 414, 787, 151, 1611, 1371, 221, 381, 832, 412, 180, 829, 235, 232, 268, 1213, 618, 244, 256, 556, 536, 291, 347, 859, 388, 378, 198, 402, 354, 207, 481, 624, 206, 1215, 671, 666, 363, 274, 423, 519, 352, 545, 217, 436, 371, 209, 631, 561, 300, 420, 530, 457, 1944, 346, 782, 405, 383, 196, 478, 169, 288, 289, 834, 1213, 270, 407, 338, 356, 608, 330, 1017, 324, 919, 450, 253, 1452, 273, 401, 263, 288, 468, 184, 365, 245, 121, 526, 445, 213, 206, 204, 674, 473, 1919, 367, 113, 1219, 153, 392, 419, 471, 170, 336, 259, 301, 221, 281, 206, 696, 168, 315, 340, 763, 417, 569, 649, 340, 316, 329, 727, 197, 377, 389, 471, 226, 313, 921, 541, 918, 426, 737, 308, 142, 242, 641, 419, 516, 421, 206, 198, 201, 571, 186, 590, 576, 1288, 979, 251, 539, 449, 294, 510, 403, 496, 309, 838, 412, 359, 590, 420, 282, 171, 392, 125, 493, 701, 1119, 285, 426, 400, 154, 845, 572, 366, 269, 421, 458, 320, 189, 292, 278, 334, 1719, 1185, 340, 230, 449, 513, 281, 277, 226, 509, 722, 390, 485, 547, 291, 263, 807, 364, 193, 187, 1081, 422, 680, 418, 413, 303, 717, 554, 312, 351, 577, 532, 145, 213, 253, 421, 807, 475, 733, 566, 287, 251, 445, 1045, 642, 225, 281, 157, 211, 258, 450, 537, 295, 260, 502, 165, 408, 598, 307, 308, 451, 303, 594, 278, 512, 1001, 377, 333, 374, 427, 300, 148, 599, 167, 615, 853, 618, 542, 263, 345, 492, 1616, 546, 546, 308, 170, 197, 239, 385, 999, 232, 1001, 194, 168, 564, 490, 291, 928, 713, 524, 160, 177, 521, 233, 401, 455, 434, 243, 148, 2396, 106, 1347, 207, 258, 455, 388, 287, 409, 275, 2801, 335, 503, 286, 436, 364, 921, 267, 374, 556, 315, 478, 665, 267, 334, 1357, 298, 435, 408, 508, 252, 654, 597, 802, 451, 593, 168, 553, 255, 488, 226, 440, 1248, 334, 296, 235, 455, 446, 1698, 1463, 210, 178, 202, 352, 771, 221, 362, 812, 499, 635, 973, 466, 899, 294, 893, 824, 326, 204, 425, 436, 1047, 870, 272, 364, 405, 243, 1068, 910, 267, 1110, 306, 2702, 2702, 343, 431, 335, 183, 389, 372, 278, 408, 400, 189, 718, 437, 762, 243, 553, 749, 804, 435, 433, 247, 726, 875, 576, 374, 360, 296, 445, 2061, 1445, 473, 367, 620, 820, 590, 511, 598, 477, 131, 391, 539, 304, 576, 511, 1082, 411, 601, 188, 277, 352, 336, 343, 326, 1109, 341, 333, 438, 572, 219, 495, 493, 441, 326, 223, 844, 449, 369, 425, 494, 1781, 168, 461, 178, 1203, 374, 552, 282, 211, 1383, 1311, 428, 427, 283, 1101, 259, 270, 1291, 471, 505, 933, 339, 410, 378, 452, 609, 349, 144, 449, 346, 312, 191, 343, 1233, 194, 363, 1326, 651, 656, 203, 507, 747, 258, 217, 429, 379, 862, 1867, 264, 799, 505, 243, 592, 450, 343, 260, 858, 242, 366, 803, 250, 399, 363, 783, 366, 321, 358, 444, 1171, 507, 532, 437, 344, 181, 275, 668, 405, 594, 1252, 644, 377, 365, 876, 290, 508, 180, 431, 564, 1184, 557, 99, 396, 350, 1115, 347, 629, 238, 155, 326, 379, 532, 418, 528, 483, 224, 447, 429, 942, 222, 256, 963, 720, 2105, 1163, 332, 249, 621, 418, 1935, 214, 514, 345, 1126, 365, 601, 1215, 248, 248, 1387, 445, 293, 272, 436, 371, 208, 117, 202, 185, 309, 358, 348, 1280, 619, 339, 347, 594, 693, 251, 322, 779, 222, 230, 354, 567, 371, 817, 989, 288, 264, 577, 375, 192, 534, 195, 187, 447, 593, 459, 492, 655, 191, 266, 450, 275, 575, 298, 500, 1169, 681, 456, 752, 497, 466, 437, 183, 301, 402, 706, 402, 298, 233, 334, 431, 359, 370, 182, 338, 155, 561, 184, 188, 389, 435, 877, 220, 638, 553, 338, 363, 310, 451, 330, 597, 675, 443, 158, 2088, 557, 533, 445, 445, 467, 322, 187, 344, 181, 394, 510, 369, 508, 328, 383, 1565, 397, 292, 179, 459, 630, 375, 230, 589, 519, 1779, 885, 146, 254, 1609, 289, 963, 266, 476, 514, 359, 408, 124, 307, 405, 209, 190, 247, 301, 618, 160, 365, 246, 254, 1038, 264, 496, 245, 218, 456, 545, 353, 408, 197, 773, 974, 392, 332, 315, 796, 1432, 361, 427, 342, 250, 783, 301, 196, 592, 357, 107, 332, 354, 464, 176, 371, 205, 618, 208, 622, 244, 609, 722, 472, 755, 467, 382, 332, 427, 360, 368, 363, 543, 182, 549, 185, 251, 362, 563, 741, 343, 283, 492, 226, 350, 464, 230, 675, 933, 668, 289, 467, 243, 141, 337, 207, 835, 273, 446, 556, 633, 260, 431, 309, 321, 1058, 654, 969, 745, 159, 481, 606, 514, 1710, 280, 150, 2829, 1009, 495, 1256, 155, 343, 298, 1648, 213, 213, 765, 441, 371, 899, 2791, 443, 230, 477, 189, 1349, 234, 950, 439, 183, 1218, 377, 709, 235, 586, 709, 1105, 402, 2017, 164, 608, 541, 510, 891, 459, 1048, 296, 351, 227, 951, 623, 196, 395, 182, 665, 432, 185, 126, 394, 2437, 931, 1277, 646, 277, 650, 383, 341, 192, 539, 218, 252, 253, 506, 207, 330, 603, 113, 811, 527, 1139, 481, 247, 620, 1194, 383, 252, 381, 228, 324, 175, 310, 356, 545, 346, 2006, 404, 512, 295, 403, 454, 509, 551, 749, 482, 509, 257, 321, 359, 392, 217, 226, 157, 728, 572, 417, 488, 215, 1035, 1473, 509, 271, 527, 261, 351, 917, 1468, 277, 181, 202, 418, 366, 262, 283, 1546, 1587, 366, 587, 639, 612, 583, 398, 839, 432, 444, 511, 200, 1689, 173, 921, 850, 1973, 617, 152, 197, 464, 166, 391, 576, 305, 394, 184, 266, 378, 382, 461, 621, 740, 361, 285, 228, 863, 464, 226, 354, 475, 274, 1418, 651, 1403, 262, 291, 234, 795, 451, 281, 206, 403, 1422, 416, 262, 654, 502, 697, 757, 873, 187, 425, 128, 128, 250, 218, 347, 305, 203, 291, 321, 323, 632, 282, 253, 361, 446, 260, 1549, 501, 964, 368, 145, 521, 464, 791, 260, 585, 333, 557, 444, 360, 1426, 630, 260, 392, 1413, 539, 233, 208, 345, 171, 474, 310, 235, 327, 987, 731, 702, 281, 334, 174, 365, 176, 637, 662, 641, 401, 406, 359, 174, 293, 917, 311, 330, 239, 244, 441, 394, 416, 146, 264, 644, 272, 273, 212, 239, 341, 603, 256, 515, 279, 449, 322, 198, 319, 2691, 378, 1881, 569, 508, 422, 270, 326, 994, 283, 317, 540, 365, 573, 558, 233, 412, 230, 181, 517, 1236, 209, 319, 265, 218, 317, 455, 240, 442, 385, 168, 554, 180, 404, 403, 818, 919, 1731, 464, 794, 214, 276, 352, 264, 713, 1243, 630, 702, 1931, 1662, 506, 398, 204, 789, 220, 367, 180, 146, 146, 663, 263, 409, 466, 513, 545, 449, 288, 248, 705, 854, 1179, 336, 425, 473, 425, 198, 235, 182, 351, 214, 672, 446, 1108, 854, 303, 1258, 386, 717, 545, 357, 297, 946, 334, 521, 968, 235, 689, 233, 428, 264, 311, 166, 219, 163, 213, 616, 218, 355, 600, 388, 276, 459, 236, 184, 222, 295, 552, 195, 553, 359, 265, 647, 150, 600, 243, 252, 455, 434, 434, 434, 251, 542, 440, 280, 309, 1510, 356, 578, 268, 1588, 451, 258, 540, 535, 130, 834, 970, 179, 138, 934, 155, 538, 416, 689, 494, 407, 983, 153, 152, 747, 334, 596, 298, 449, 360, 484, 719, 294, 592, 564, 469, 572, 1815, 197, 467, 233, 246, 423, 375, 355, 189, 485, 952, 711, 281, 348, 711, 659, 402, 330, 588, 922, 242, 1624, 712, 206, 476, 252, 418, 440, 516, 248, 475, 304, 264, 339, 314, 611, 1354, 295, 447, 295, 339, 608, 237, 219, 887, 228, 300, 266, 321, 317, 276, 175, 474, 516, 899, 821, 362, 548, 555, 567, 701, 722, 986, 1096, 280, 220, 941, 844, 273, 704, 217, 275, 305, 629, 623, 633, 875, 635, 750, 1432, 341, 365, 1123, 246, 933, 630, 943, 371, 395, 1339, 318, 272, 380, 2102, 675, 493, 1131, 823, 227, 1121, 530, 417, 338, 422, 241, 387, 462, 419, 172, 612, 635, 367, 745, 152, 152, 275, 1254, 1686, 318, 367, 439, 233, 939, 363, 340, 240, 465, 196, 364, 236, 270, 892, 245, 823, 432, 781, 669, 398, 332, 516, 812, 795, 253, 716, 307, 210, 421, 287, 332, 567, 219, 278, 197, 260, 277, 327, 408, 291, 286, 225, 236, 228, 238, 395, 430, 538, 462, 455, 384, 342, 182, 225, 220, 459, 325, 384, 322, 700, 314, 401, 274, 255, 245, 222, 230, 306, 179, 532, 267, 231, 336, 455, 503, 262, 234, 177, 217, 240, 274, 277, 326, 291, 294, 505, 534, 387, 282, 303, 565, 630, 219, 324, 216, 678, 391, 351, 132, 139, 130, 291, 402, 1849, 686, 333, 420, 357, 478, 230, 279, 395, 260, 592, 411, 243, 472, 560, 248, 425, 248, 254, 385, 268, 202, 250, 235, 384, 266, 336, 913, 393, 324, 388, 974, 440, 354, 294, 318, 421, 257, 259, 287, 171, 299, 258, 259, 1468, 1073, 341, 364, 312, 507, 197, 233, 265, 246, 228, 225, 234, 296, 210, 406, 283, 415, 181, 375, 313, 346, 342, 260, 484, 207, 306, 233, 286, 186, 193, 502, 282, 323, 378, 177, 396, 237, 200, 308, 351, 315, 488, 471, 535, 226, 311, 208, 489, 201, 300, 464, 380, 209, 339, 242, 231, 960, 250, 289, 231, 304, 429, 315, 296, 484, 300, 283, 304, 342, 365, 650, 193, 160, 309, 242, 231, 180, 277, 244, 357, 311, 216, 272, 365, 323, 211, 244, 437, 310, 378, 359, 386, 372, 237, 374, 356, 357, 299, 310, 415, 216, 283, 232, 339, 589, 361, 384, 393, 583, 446, 621, 315, 270, 272, 1348, 341, 470, 352, 350, 437, 283, 337, 308, 289, 377, 253, 375, 295, 193, 283, 376, 412, 286, 278, 233, 409, 535, 754, 363, 700, 399, 365, 300, 378, 591, 420, 289, 186, 237, 504, 178, 161, 337, 392, 650, 413, 329, 151, 181, 214, 222, 112, 610, 216, 238, 225, 398, 367, 318, 856, 338, 340, 219, 324, 347, 354, 458, 595, 341, 228, 282, 288, 350, 392, 274, 198, 285, 247, 325, 383, 464, 395, 1153, 372, 346, 335, 384, 405, 312, 542, 240, 488, 127, 439, 437, 318, 365, 370, 726, 146, 169, 179, 180, 116, 368, 113, 364, 338, 319, 202, 763, 770, 370, 274, 402, 339, 235, 374, 381, 338, 419, 313, 328, 304, 559, 416, 360, 142, 352, 300, 163, 244, 192, 360, 349, 185, 275, 302, 308, 215, 564, 258, 363, 337, 360, 260, 180, 461, 466, 266, 213, 375, 306, 537, 174, 461, 826, 281, 347, 374, 277, 304, 233, 214, 360, 167, 260, 135, 344, 301, 184, 387, 332, 146, 271, 381, 328, 397, 247, 259, 234, 406, 172, 193, 191, 303, 193, 223, 501, 232, 372, 215, 600, 269, 397, 248, 206, 319, 837, 464, 629, 481, 342, 420, 257, 551, 366, 324, 333, 221, 507, 538, 294, 166, 261, 312, 381, 292, 372, 350, 299, 260, 217, 448, 184, 221, 689, 342, 278, 384, 281, 300, 347, 126, 332, 255, 274, 367, 171, 599, 290, 475, 265, 1104, 398, 363, 228, 210, 448, 378, 296, 259, 429, 392, 528, 322, 238, 351, 152, 231, 240, 187, 356, 186, 708, 326, 495, 171, 431, 277, 236, 766, 298, 300, 151, 481, 297, 208, 224, 374, 239, 411, 467, 202, 471, 339, 287, 989, 476, 172, 235, 121, 261, 461, 329, 344, 218, 405, 566, 419, 269, 764, 404, 197, 256, 310, 352, 416, 400, 142, 427, 194, 384, 399, 354, 230, 294, 440, 274, 145, 295, 272, 330, 317, 281, 401, 293, 156, 296, 238, 418, 406, 294, 108, 343, 367, 469, 136, 354, 349, 628, 393, 233, 233, 307, 395, 426, 426, 196, 183, 449, 205, 276, 187, 379, 176, 232, 262, 240, 334, 381, 171, 403, 210, 155, 355, 867, 184, 261, 268, 369, 368, 299, 492, 265, 543, 217, 395, 263, 233, 182, 213, 337, 354, 276, 267, 410, 187, 148, 578, 163, 454, 397, 535, 351, 125, 248, 309, 313, 442, 501, 250, 338, 273, 206, 322, 560, 120, 320, 225, 365, 244, 201, 520, 322, 699, 235, 483, 333, 318, 298, 254, 474, 397, 406, 409, 226, 297, 328, 271, 1041, 239, 534, 249, 558, 271, 271, 650, 326, 313, 156, 346, 179, 295, 378, 195, 112, 177, 159, 240, 183, 232, 259, 464, 455, 257, 317, 507, 265, 512, 382, 224, 360, 432, 176, 277, 258, 194, 381, 257, 306, 547, 253, 280, 242, 192, 274, 367, 235, 182, 249, 314, 349, 293, 327, 256, 329, 480, 1322, 318, 517, 304, 314, 357, 384, 441, 288, 261, 408, 283, 193, 322, 155, 288, 274, 155, 1116, 183, 364, 501, 340, 327, 287, 196, 241, 249, 319, 414, 270, 399, 173, 522, 323, 197, 557, 345, 603, 334, 507, 457, 548, 328, 406, 265, 503, 220, 229, 331, 317, 386, 451, 482, 390, 111, 256, 390, 350, 247, 316, 279, 428, 336, 213, 466, 288, 445, 246, 344, 276, 210, 315, 431, 201, 326, 212, 221, 382, 278, 343, 936, 452, 336, 324, 397, 161, 296, 161, 331, 448, 310, 375, 481, 267, 509, 181, 474, 378, 628, 192, 251, 285, 294, 244, 315, 326, 226, 887, 432, 354, 242, 602, 477, 374, 174, 320, 228, 254, 202, 515, 381, 221, 358, 290, 414, 194, 509, 267, 314, 290, 254, 461, 343, 139, 353, 330, 415, 191, 506, 154, 183, 488, 511, 496, 375, 245, 523, 441, 290, 323, 280, 305, 253, 520, 274, 415, 389, 243, 518, 202, 207, 352, 181, 259, 608, 185, 90, 412, 711, 317, 335, 151, 299, 280, 503, 376, 261, 394, 413, 433, 207, 492, 156, 245, 300, 386, 343, 317, 290, 325, 443, 557, 206, 259, 260, 395, 376, 373, 206, 483, 253, 332, 145, 204, 277, 161, 174, 274, 344, 267, 192, 263, 176, 203, 489, 177, 209, 531, 124, 212, 204, 184, 358, 331, 282, 400, 478, 333, 231, 110, 238, 359, 349, 398, 162, 470, 388, 224, 380, 272, 595, 234, 290, 164, 471, 270, 433, 322, 161, 379, 319, 209, 285, 425, 316, 445, 181, 202, 196, 267, 205, 390, 503, 258, 217, 217, 177, 264, 292, 265, 576, 316, 180, 155, 197, 272, 254, 588, 277, 150, 401, 445, 253, 255, 86, 308, 201, 239, 347, 175, 223, 131, 285, 408, 324, 191, 384, 256, 424, 260, 401, 445, 360, 114, 273, 404, 382, 189, 200, 208, 254, 208, 275, 445, 289, 273, 272, 395, 95, 203, 357, 233, 305, 254, 296, 260, 374, 294, 196, 265, 478, 421, 229, 286, 309, 433, 221, 383, 217, 240, 291, 335, 357, 234, 301, 330, 631, 293, 280, 381, 83, 164, 174, 333, 126, 172, 441, 399, 174, 266, 212, 168, 585, 1056, 171, 473, 383, 238, 429, 459, 323, 308, 495, 225, 447, 619, 278, 265, 445, 86, 228, 521, 365, 164, 380, 642, 472, 276, 163, 536, 475, 199, 272, 342, 402, 192, 554, 289, 395, 370, 354, 174, 234, 272, 285, 632, 353, 319, 259, 395, 281, 479, 365, 429, 239, 171, 332, 327, 426, 479, 263, 447, 300, 236, 289, 363, 262, 216, 440, 234, 892, 459, 411, 183, 301, 237, 509, 393, 353, 435, 428, 802, 270, 455, 370, 358, 171, 219, 238, 329, 170, 333, 546, 407, 353, 399, 416, 389, 280, 303, 255, 329, 268, 349, 272, 235, 327, 146, 174, 462, 285, 216, 266, 159, 530, 372, 222, 289, 485, 273, 327, 244, 394, 330, 379, 197, 627, 469, 466, 408, 377, 434, 442, 352, 190, 259, 278, 285, 255, 273, 198, 302, 231, 270, 299, 479, 383, 283, 254, 214, 250, 447, 420, 406, 352, 202, 224, 280, 207, 200, 352, 356, 548, 148, 200, 480, 257, 312, 139, 267, 192, 197, 391, 345, 374, 258, 275, 191, 279, 399, 363, 546, 268, 509, 332, 687, 257, 302, 189, 617, 264, 276, 362, 256, 217, 396, 518, 360, 585, 315, 256, 329, 296, 235, 195, 417, 2158, 276, 245, 392, 376, 313, 652, 271, 245, 405, 281, 423, 303, 657, 901, 415, 279, 243, 272, 146, 300, 308, 409, 1164, 402, 220, 577, 378, 175, 401, 176, 476, 192, 372, 304, 262, 260, 291, 288, 725, 239, 283, 332, 162, 215, 495, 246, 131, 285, 227, 452, 518, 431, 258, 465, 246, 320, 344, 354, 434, 261, 274, 254, 180, 208, 326, 367, 281, 245, 350, 333, 398, 364, 478, 381, 538, 346, 859, 274, 186, 207, 776, 133, 368, 269, 303, 209, 313, 240, 513, 390, 394, 200, 288, 313, 322, 270, 201, 221, 345, 176, 320, 264, 149, 320, 401, 295, 684, 257, 196, 418, 194, 354, 454, 311, 265, 388, 236, 344, 426, 354, 843, 199, 202, 229, 222, 444, 515, 229, 260, 272, 214, 337, 283, 432, 321, 443, 300, 408, 413, 299, 353, 316, 411, 306, 172, 322, 249, 450, 447, 451, 312, 424, 451, 459, 312, 378, 277, 411, 170, 249, 391, 462, 327, 153, 165, 503, 105, 409, 144, 283, 378, 295, 1171, 429, 355, 459, 310, 218, 379, 187, 343, 459, 603, 328, 237, 320, 331, 161, 228, 271, 398, 242, 240, 317, 492, 262, 425, 369, 449, 219, 194, 535, 196, 521, 540, 291, 199, 227, 327, 329, 351, 453, 257, 230, 175, 255, 372, 164, 389, 230, 487, 315, 728, 251, 561, 282, 327, 384, 377, 615, 243, 233, 274, 246, 186, 306, 319, 207, 408, 133, 443, 240, 607, 385, 379, 244, 154, 293, 253, 303, 322, 190, 390, 343, 283, 254, 250, 267, 232, 585, 336, 358, 467, 304, 284, 289, 362, 158, 353, 184, 178, 360, 356, 297, 242, 351, 323, 221, 266, 226, 374, 361, 106, 307, 461, 322, 255, 559, 380, 603, 604, 800, 233, 415, 412, 237, 281, 328, 371, 271, 280, 205, 284, 420, 295, 156, 369, 434, 304, 379, 283, 410, 381, 271, 529, 287, 419, 369, 274, 219, 192, 229, 364, 373, 203, 341, 334, 687, 310, 188, 508, 731, 339, 378, 283, 347, 433, 376, 300, 84, 464, 310, 2205, 259, 286, 180, 198, 283, 435, 575, 482, 208, 366, 359, 408, 233, 427, 253, 741, 97, 350, 293, 183, 312, 193, 324, 224, 399, 345, 677, 329, 450, 147, 148, 249, 234, 342, 202, 410, 1687, 134, 459, 421, 469, 267, 309, 360, 274, 227, 402, 401, 395, 191, 305, 501, 267, 647, 235, 486, 188, 433, 510, 373, 232, 300, 623, 391, 359, 165, 256, 233, 436, 325, 168, 331, 213, 417, 347, 340, 323, 131, 213, 412, 467, 468, 264, 285, 384, 265, 185, 279, 321, 270, 126, 192, 414, 483, 243, 363, 503, 309, 243, 472, 431, 386, 204, 317, 309, 243, 328, 256, 2206, 360, 605, 205, 367, 448, 463, 302, 332, 376, 384, 136, 253, 268, 323, 223, 227, 276, 377, 398, 346, 240, 348, 467, 353, 158, 283, 213, 333, 269, 118, 277, 247, 479, 279, 232, 399, 416, 446, 548, 340, 240, 338, 357, 364, 163, 219, 227, 311, 286, 259, 234, 443, 200, 365, 179, 220, 257, 311, 256, 158, 247, 468, 508, 160, 316, 253, 415, 244, 212, 511, 294, 244, 215, 278, 857, 465, 254, 311, 248, 312, 400, 373, 273, 244, 168, 129, 274, 250, 275, 290, 124, 202, 451, 392, 129, 385, 288, 304, 210, 342, 305, 292, 206, 711, 483, 368, 253, 200, 211, 227, 308, 415, 156, 250, 284, 460, 398, 309, 285, 427, 360, 631, 253, 392, 394, 276, 236, 234, 306, 284, 500, 388, 297, 366, 322, 476, 577, 181, 179, 340, 279, 276, 444, 482, 242, 164, 188, 183, 212, 362, 298, 1128, 256, 351, 587, 130, 569, 282, 380, 250, 311, 350, 132, 336, 233, 224, 223, 202, 221, 311, 128, 256, 240, 413, 457, 408, 477, 393, 286, 329, 390, 1413, 302, 225, 155, 276, 434, 329, 230, 280, 170, 261, 319, 641, 352, 286, 248, 360, 370, 773, 427, 441, 440, 195, 142, 240, 252, 595, 190, 265, 253, 310, 185, 428, 277, 475, 259, 113, 209, 328, 139, 398, 348, 445, 256, 426, 439, 244, 303, 342, 250, 313, 284, 368, 212, 443, 167, 168, 284, 329, 486, 535, 520, 251, 399, 877, 306, 185, 678, 230, 457, 273, 384, 298, 401, 198, 356, 262, 277, 718, 381, 381, 517, 474, 313, 407, 474, 394, 979, 250, 304, 648, 416, 654, 568, 406, 445, 388, 372, 314, 470, 832, 1883, 763, 1133, 776, 486, 1130, 530, 776, 1129, 512, 1219, 1043, 353, 801, 1149, 369, 400, 842, 1173, 561, 1051, 1216, 666, 194, 1214, 533, 1501, 544, 336, 652, 765, 1514, 783, 529, 581, 234, 270, 600, 388, 737, 270, 1355, 636, 576, 410, 479, 379, 533, 459, 441, 953, 617, 520, 264, 936, 382, 501, 466, 1532, 391, 619, 1503, 1343, 482, 602, 786, 551, 387, 376, 448, 504, 489, 528, 847, 655, 899, 855, 1059, 787, 429, 335, 562, 525, 576, 754, 657, 293, 649, 573, 278, 1144, 705, 492, 798, 1730, 389, 616, 1510, 993, 2529, 300, 599, 470, 242, 317, 947, 818, 837, 573, 1455, 900, 563, 593, 673, 405, 494, 576, 282, 592, 493, 1460, 448, 449, 904, 602, 1842, 528, 385, 1496, 518, 434, 758, 520, 603, 532, 805, 600, 332, 418, 483, 552, 808, 803, 1304, 692, 626, 720, 556, 536, 454, 408, 436, 623, 890, 350, 423, 618, 790, 682, 955, 286, 1587, 457, 1310, 491, 603, 1065, 1023, 798, 651, 856, 258, 2214, 588, 773, 592, 451, 714, 906, 879, 777, 893, 691, 789, 903, 759, 857, 543, 451, 569, 481, 433, 809, 821, 529, 923, 547, 606, 419, 1379, 583, 324, 374, 671, 493, 1127, 545, 385, 547, 794, 730, 740, 395, 548, 471, 479, 241, 1138, 1334, 1641, 408, 2712, 635, 1004, 589, 982, 699, 2562, 719, 1357, 855, 853, 924, 857, 1408, 3790, 754, 348, 1447, 1791, 695, 1496, 242, 611, 715, 348, 718, 346, 633, 512, 1023, 630, 1607, 544, 1330, 1090, 550, 632, 454, 1732, 467, 629, 659, 939, 998, 1120, 540, 913, 609, 482, 600, 2630, 928, 608, 1419, 876, 834, 766, 650, 661, 453, 634, 1393, 1208, 1059, 408, 346, 579, 1035, 474, 604, 726, 547, 652, 406, 1073, 942, 683, 835, 722, 709, 634, 747, 1684, 429, 691, 499, 342, 786, 441, 439, 2487, 735, 658, 405, 391, 763, 346, 664, 1155, 802, 726, 439, 648, 557, 401, 697, 1211, 569, 597, 503, 968, 1251, 477, 556, 1937, 751, 332, 391, 728, 1299, 835, 527, 596, 666, 837, 870, 665, 666, 713, 524, 1551, 497, 1363, 488, 314, 572, 646, 723, 498, 792, 1208, 991, 285, 678, 452, 710, 2032, 608, 1432, 924, 719, 951, 826, 493, 370, 544, 726, 772, 1067, 1285, 1178, 575, 374, 758, 736, 424, 1110, 477, 920, 795, 675, 827, 630, 1036, 922, 418, 474, 669, 540, 902, 381, 675, 729, 477, 671, 580, 601, 460, 533, 892, 720, 411, 1245, 463, 1569, 1140, 711, 410, 550, 896, 488, 1091, 541, 715, 710, 626, 519, 510, 824, 1730, 929, 646, 1292, 386, 1099, 504, 1820, 614, 484, 545, 2522, 1044, 473, 832, 750, 1101, 800, 529, 1309, 1606, 734, 559, 559, 336, 423, 1087, 620, 957, 329, 967, 830, 699, 982, 661, 1597, 1476, 721, 446, 1410, 958, 1682, 1886, 775, 615, 1180, 435, 1224, 355, 579, 689, 258, 519, 968, 728, 715, 457, 475, 623, 1097, 381, 536, 454, 714, 974, 901, 765, 785, 517, 722, 573, 818, 799, 415, 614, 774, 394, 598, 610, 356, 285, 285, 461, 356, 1943, 529, 1004, 963, 551, 459, 1209, 637, 500, 484, 1294, 576, 479, 810, 355, 433, 2665, 432, 954, 1099, 689, 936, 513, 524, 581, 430, 878, 1363, 742, 729, 595, 1769, 1800, 533, 397, 448, 427, 1272, 970, 821, 793, 737, 523, 1072, 1131, 375, 817, 1584, 1114, 662, 312, 935, 1272, 1391, 545, 417, 625, 856, 1313, 432, 644, 440, 1412, 710, 543, 822, 2363, 826, 825, 466, 1197, 2362, 358, 889, 725, 706, 873, 782, 676, 641, 793, 660, 1199, 390, 826, 704, 562, 932, 1031, 505, 1027, 1015, 697, 713, 496, 617, 1602, 543, 534, 622, 485, 497, 458, 1366, 494, 646, 366, 186, 744, 827, 502, 467, 351, 531, 593, 653, 738, 825, 545, 506, 625, 450, 834, 2760, 872, 539, 685, 539, 1114, 544, 895, 759, 1031, 526, 322, 1642, 527, 460, 546, 743, 742, 442, 516, 340, 901, 579, 311, 526, 532, 1445, 1073, 668, 1135, 381, 260, 421, 1786, 660, 796, 485, 381, 841, 631, 728, 527, 784, 621, 675, 849, 683, 574, 1262, 470, 848, 408, 366, 596, 1214, 433, 635, 634, 1941, 648, 561, 1357, 490, 908, 555, 746, 753, 373, 868, 520, 1186, 1172, 328, 652, 632, 690, 418, 2805, 515, 361, 437, 461, 1119, 445, 342, 746, 840, 779, 328, 753, 588, 986, 1536, 526, 713, 219, 902, 601, 840, 403, 437, 383, 974, 1203, 685, 707, 353, 767, 373, 452, 687, 265, 380, 688, 318, 452, 608, 1014, 749, 1013, 299, 606, 522, 1534, 1131, 435, 916, 609, 209, 782, 550, 386, 1075, 499, 554, 453, 1197, 953, 661, 598, 567, 323, 475, 416, 527, 516, 493, 1352, 549, 1336, 622, 640, 189, 576, 594, 687, 879, 543, 635, 701, 514, 1081, 918, 793, 567, 512, 807, 592, 459, 464, 487, 425, 1360, 760, 547, 353, 611, 1040, 383, 928, 1152, 263, 588, 463, 698, 626, 2599, 702, 383, 709, 651, 1405, 331, 390, 789, 438, 560, 1951, 686, 437, 604, 334, 485, 1348, 263, 700, 688, 338, 337, 370, 560, 470, 515, 619, 547, 422, 684, 608, 714, 896, 577, 422, 499, 631, 579, 544, 1674, 741, 405, 297, 632, 623, 466, 737, 647, 523, 704, 1210, 724, 527, 928, 641, 628, 270, 1095, 614, 535, 357, 1914, 554, 743, 392, 1043, 438, 1085, 656, 602, 1090, 565, 555, 310, 1622, 577, 610, 710, 274, 668, 427, 861, 377, 487, 627, 1226, 344, 474, 864, 319, 565, 753, 603, 623, 711, 1022, 466, 1334, 401, 1027, 954, 2060, 578, 713, 506, 1390, 582, 522, 1380, 772, 773, 572, 455, 502, 1007, 367, 1642, 477, 587, 501, 490, 509, 505, 552, 249, 999, 1037, 427, 572, 650, 574, 573, 558, 403, 1109, 768, 445, 1524, 744, 1158, 542, 597, 756, 713, 1213, 657, 418, 795, 680, 843, 396, 811, 1635, 544, 773, 934, 271, 356, 516, 619, 452, 570, 449, 520, 1036, 852, 765, 591, 1050, 727, 292, 1013, 627, 565, 311, 431, 434, 470, 690, 565, 564, 671, 230, 384, 1333, 335, 679, 700, 880, 465, 878, 357, 528, 371, 427, 903, 639, 588, 1165, 606, 1241, 669, 390, 907, 499, 416, 479, 329, 336, 484, 726, 1435, 733, 322, 423, 612, 362, 864, 1006, 678, 1225, 455, 691, 876, 906, 178, 3271, 316, 653, 811, 923, 958, 1154, 614, 410, 559, 649, 691, 569, 717, 353, 336, 298, 584, 1046, 422, 800, 840, 688, 386, 389, 532, 716, 1329, 596, 706, 864, 757, 592, 1116, 780, 793, 928, 675, 459, 396, 435, 525, 648, 620, 1406, 396, 653, 323, 1226, 363, 693, 764, 511, 423, 508, 441, 435, 443, 464, 358, 404, 471, 559, 512, 662, 619, 1131, 381, 620, 827, 475, 485, 451, 763, 637, 351, 492, 920, 790, 752, 1224, 607, 478, 283, 450, 494, 806, 955, 473, 246, 427, 800, 223, 330, 473, 400, 523, 1268, 232, 1898, 332, 470, 537, 511, 495, 1003, 633, 1205, 576, 898, 598, 2169, 287, 600, 962, 479, 437, 1111, 561, 668, 576, 355, 1053, 1542, 1538, 644, 783, 3405, 518, 598, 389, 1878, 294, 833, 724, 1304, 492, 683, 976, 667, 1175, 256, 395, 605, 1034, 282, 310, 1307, 1871, 783, 597, 814, 2161, 425, 375, 587, 2230, 615, 402, 836, 797, 1129, 470, 1050, 632, 1688, 653, 500, 1059, 585, 671, 1498, 463, 1095, 1937, 2059, 456, 467, 685, 495, 340, 387, 555, 599, 1048, 372, 773, 419, 648, 1025, 688, 238, 557, 1612, 653, 858, 548, 668, 510, 777, 1107, 697, 709, 711, 507, 905, 681, 434, 409, 531, 613, 580, 668, 1467, 348, 397, 567, 1239, 508, 462, 843, 850, 630, 246, 613, 604, 1465, 527, 524, 1498, 1731, 638, 592, 294, 440, 1469, 467, 377, 502, 877, 441, 683, 698, 502, 543, 497, 534, 803, 600, 570, 1659, 975, 979, 340, 423, 1028, 941, 466, 395, 751, 671, 699, 689, 485, 307, 661, 1213, 209, 694, 822, 819, 866, 435, 567, 640, 327, 590, 1385, 552, 653, 435, 365, 774, 820, 1016, 820, 562, 667, 480, 1171, 864, 787, 419, 1005, 443, 682, 550, 972, 509, 1276, 457, 246, 590, 360, 733, 450, 1084, 621, 319, 1137, 517, 665, 509, 540, 507, 529, 1060, 610, 373, 608, 2647, 962, 659, 889, 635, 566, 474, 701, 1137, 915, 513, 675, 558, 575, 674, 996, 1916, 790, 693, 566, 719, 509, 715, 1098, 565, 1528, 415, 357, 863, 976, 645, 526, 878, 397, 404, 364, 324, 1114, 906, 627, 637, 245, 815, 749, 670, 585, 534, 1240, 947, 727, 501, 438, 407, 656, 1056, 505, 382, 391, 514, 416, 741, 337, 2236, 355, 712, 545, 640, 1027, 461, 643, 353, 312, 695, 1271, 616, 487, 559, 629, 459, 348, 682, 496, 581, 289, 472, 542, 653, 1447, 549, 2189, 951, 695, 839, 602, 702, 989, 819, 358, 1116, 645, 1112, 384, 467, 528, 2494, 542, 1715, 392, 391, 982, 682, 786, 352, 673, 537, 696, 615, 460, 1260, 1060, 1090, 449, 1285, 451, 1084, 357, 413, 433, 1035, 1809, 385, 1353, 636, 522, 488, 489, 698, 1187, 996, 1028, 582, 513, 414, 496, 1861, 1234, 694, 912, 999, 414, 827, 666, 537, 518, 282, 645, 400, 1076, 827, 1339, 852, 458, 2017, 1556, 1059, 532, 815, 500, 1070, 656, 438, 416, 2078, 859, 550, 784, 395, 470, 736, 350, 380, 749, 430, 587, 895, 338, 1078, 1079, 1273, 484, 2611, 883, 524, 749, 259, 727, 391, 510, 535, 375, 582, 333, 858, 495, 416, 819, 425, 515, 754, 993, 2243, 389, 2594, 621, 1082, 1488, 347, 1059, 723, 1467, 560, 420, 566, 498, 498, 693, 613, 604, 464, 1016, 1026, 756, 734, 952, 807, 664, 1517, 904, 1033, 631, 522, 1206, 502, 1206, 690, 501, 809, 943, 423, 301, 501, 568, 451, 566, 432, 784, 583, 1615, 505, 1519, 389, 608, 765, 572, 615, 281, 708, 1273, 820, 494, 636, 495, 503, 431, 545, 605, 700, 469, 1334, 1732, 762, 977, 478, 515, 991, 571, 940, 477, 1856, 615, 868, 903, 832, 573, 1140, 523, 694, 1119, 553, 1876, 500, 828, 452, 534, 799, 653, 495, 665, 559, 496, 302, 1234, 643, 358, 836, 841, 1218, 1082, 421, 526, 408, 1298, 405, 751, 1063, 794, 339, 906, 447, 464, 652, 443, 923, 1084, 784, 911, 932, 660, 481, 445, 602, 287, 1017, 357, 525, 935, 1865, 665, 372, 590, 498, 1341, 1310, 552, 392, 457, 667, 460, 357, 1590, 392, 1234, 647, 774, 508, 1020, 417, 576, 771, 1719, 516, 339, 374, 639, 569, 792, 1128, 494, 410, 716, 870, 1758, 534, 1096, 1472, 1441, 2668, 412, 534, 809, 837, 1473, 3482, 970, 463, 551, 1738, 596, 449, 992, 892, 400, 601, 874, 300, 358, 857, 750, 338, 1636, 869, 970, 287, 801, 629, 1295, 496, 858, 688, 1642, 325, 600, 560, 1602, 773, 1736, 1163, 703, 598, 628, 785, 413, 1115, 585, 435, 501, 952, 606, 618, 899, 512, 491, 935, 485, 726, 543, 712, 816, 398, 467, 464, 831, 364, 1910, 851, 2313, 341, 652, 856, 278, 515, 501, 2415, 619, 3246, 2512, 359, 1694, 708, 650, 713, 623, 955, 899, 332, 420, 1663, 1254, 514, 354, 809, 397, 981, 2838, 704, 753, 1080, 793, 808, 381, 658, 320, 833, 1625, 289, 485, 1272, 753, 519, 947, 686, 663, 559, 269, 601, 872, 1158, 751, 347, 935, 415, 505, 1449, 351, 671, 700, 703, 529, 937, 929, 539, 697, 1025, 752, 291, 598, 799, 302, 914, 510, 1111, 380, 610, 828, 346, 1158, 523, 654, 470, 559, 505, 502, 1168, 417, 512, 1048, 356, 567, 428, 949, 1277, 472, 602, 1809, 611, 483, 835, 539, 514, 1707, 706, 660, 619, 1163, 744, 585, 376, 430, 1396, 600, 665, 448, 506, 1004, 620, 1004, 1107, 726, 424, 364, 421, 453, 1392, 472, 647, 622, 474, 333, 311, 800, 3110, 971, 807, 647, 474, 402, 387, 327, 506, 2555, 429, 537, 413, 546, 506, 586, 383]\n",
            "21402\n",
            "19990\n"
          ],
          "name": "stdout"
        }
      ]
    },
    {
      "cell_type": "code",
      "metadata": {
        "id": "u9lGqrQ25Mlk"
      },
      "source": [
        "import matplotlib.pyplot as plt"
      ],
      "execution_count": 84,
      "outputs": []
    },
    {
      "cell_type": "code",
      "metadata": {
        "id": "tLMFHBUM34yD",
        "colab": {
          "base_uri": "https://localhost:8080/",
          "height": 383
        },
        "outputId": "57f67318-90a0-4249-eeab-8de573cf4ede"
      },
      "source": [
        "sns.displot(token_lens)\n",
        "plt.xlim([0, 2000]);\n",
        "plt.xlabel('Token count');\n"
      ],
      "execution_count": 85,
      "outputs": [
        {
          "output_type": "display_data",
          "data": {
            "image/png": "[encoded data removed]",
            "text/plain": [
              "<Figure size 360x360 with 1 Axes>"
            ]
          },
          "metadata": {
            "tags": [],
            "needs_background": "light"
          }
        }
      ]
    },
    {
      "cell_type": "code",
      "metadata": {
        "id": "iGtP5_Edv72A",
        "colab": {
          "base_uri": "https://localhost:8080/"
        },
        "outputId": "98925b8b-5602-41a7-c472-3a231f3bb60c"
      },
      "source": [
        "encoded_data_train = tokenizer.batch_encode_plus(\n",
        "    data[data.data_type=='train'].feature.values, \n",
        "    add_special_tokens=True, \n",
        "    return_attention_mask=True, \n",
        "    pad_to_max_length=True, \n",
        "    max_length=512, \n",
        "    return_tensors='pt')\n",
        "\n",
        "\n",
        "encoded_data_val = tokenizer.batch_encode_plus(\n",
        "    data[data.data_type=='Val'].feature.values, \n",
        "    add_special_tokens=True, \n",
        "    return_attention_mask=True, \n",
        "    pad_to_max_length=True, \n",
        "    max_length=512, \n",
        "    return_tensors='pt')\n",
        "\n",
        "input_ids_train = encoded_data_train['input_ids']\n",
        "attention_masks_train = encoded_data_train['attention_mask']\n",
        "labels_train = torch.tensor(data[data.data_type=='train'].label.values)\n",
        "\n",
        "input_ids_val = encoded_data_val['input_ids']\n",
        "attention_masks_val = encoded_data_val['attention_mask']\n",
        "labels_val = torch.tensor(data[data.data_type=='Val'].label.values)\n"
      ],
      "execution_count": 86,
      "outputs": [
        {
          "output_type": "stream",
          "text": [
            "Truncation was not explicitly activated but `max_length` is provided a specific value, please use `truncation=True` to explicitly truncate examples to max length. Defaulting to 'longest_first' truncation strategy. If you encode pairs of sequences (GLUE-style) with the tokenizer you can select this strategy more precisely by providing a specific strategy to `truncation`.\n",
            "/usr/local/lib/python3.7/dist-packages/transformers/tokenization_utils_base.py:2074: FutureWarning: The `pad_to_max_length` argument is deprecated and will be removed in a future version, use `padding=True` or `padding='longest'` to pad to the longest sequence in the batch, or use `padding='max_length'` to pad to a max length. In this case, you can give a specific length with `max_length` (e.g. `max_length=45`) or leave max_length to None to pad to the maximal input size of the model (e.g. 512 for Bert).\n",
            "  FutureWarning,\n"
          ],
          "name": "stderr"
        }
      ]
    },
    {
      "cell_type": "markdown",
      "metadata": {
        "id": "I97L1HaISjFT"
      },
      "source": [
        "INPUT AND ATTENTION FORMAT\n"
      ]
    },
    {
      "cell_type": "code",
      "metadata": {
        "id": "JAS6UDx-yeSq",
        "colab": {
          "base_uri": "https://localhost:8080/"
        },
        "outputId": "7289399e-4dc9-4f44-8658-d939ee260bcc"
      },
      "source": [
        "b=(data[\"feature\"][200])\n",
        "print(b)\n",
        "a=tokenizer.tokenize(data[\"feature\"][200])\n",
        "print(a)\n",
        "print(len(a))\n",
        "print(a[:512])\n"
      ],
      "execution_count": 87,
      "outputs": [
        {
          "output_type": "stream",
          "text": [
            "साउदी अरबको जेद्दामा मनाइयो ल्होछारजेद्दा मौलिक धर्म संस्कृति परम्परालाई जगेर्ना निरन्तर उत्थान सम्बर्द्धन एवं प्रबर्द्धन साउदी अरबको जेद्धा आसपासमा तामाङ श्रमिकहरूले बृहत रूपमा सोनाम ल्होछार मनाएका ज्या ल्हो चरा बर्गको वर्ष आगमनलाई हर्षोउल्लासका मनाइयो नेपाल तामाङ घेदुङ प्रवास शाखा साउदी अरबका अध्यक्ष विगेन्द्रसिंह वाइवाको सभापतित्वमा सम्पन्न उक्त कार्यक्रमलाई घेदुङका महासचिव नवराज घिसिङले संचालन महावाणीज्य दूतावासका कार्यवाहक महावाणीज्यदूत रेवती रमण पौडेलको प्रमुख आतिथ्यता कार्यक्रममा अतिथिहरू वाणीज्यदूत मनहरी दंगाल श्रम सहचारी भोजराज घिमिरे आदिबासी जनजाति महासंघ साउदी अरबका केन्द्रिय उपाध्यक्ष बालकुमार राई आदिबासी जनजाति महासंघ क्षेत्रीय समन्वय समिति जेद्धाका अध्यक्ष ङिमा साङगे शेर्पा लगायतको उपस्थिति कार्यक्रममा गैरआवासीय नेपाली संघ साउदी अरबका उपाध्यक्ष ध्रुब रिजाल तमु धी जेद्धाका अध्यक्ष वुद्धीलाल गुरूङ नेपाली युवा क्लब जेद्धाका अध्यक्ष कृष्ण भट्टराई आवासीय नेपाली संघ क्षेत्रीय समिति जेद्धाका अध्यक्ष भिम गुरूङ समाजसेवी कलाकार धनबहादुर गुरुङ बरिष्ठ समाजसेवी बेद कुमार गुरुङ समाजसेवी बुद्धिजीवीहरु पूर्ण कार्की दुर्गा बिक दिनेश क्षेत्री उपस्थित कार्यक्रमलाई घेदुङका सचिव आशिम दोर्जे तामाङले स्वागत रेवती रमण पौडेलले सोनाम ल्होछार धर्म समुदायको नभई सिङ्गो नेपालीको साझा राष्ट्रिय पर्व कुरालाई राज्य पक्षबाट सकारात्मक पहल कदम गरिरहेको जानकारी गराए प्रवासी भुमिमा किसिमको सांस्कृतिक महत्त्व बोकेको पर्वहरु मनाउने यस्ता कार्यक्रमहरुमा सहभागी पाउदा गौरवान्वित महसुस वताए प्रथम चरणको कार्यक्रमलाई समापन सभापति बिगेन्द्र सिंह तामाङले सुरुमा आफूहरुले नेपाल आदिबासी जनजाति महासंघ क्षेत्रीय समन्वय समितिको सहकार्यमा आयोजना मनाएको सोनाम ल्होछार कार्यक्रम अहिले आएर समुदायको उल्लेख्य सहभागितामा धुमधामका मनाउन सफल भएकोमा सिङ्गो साउदी घेदुङ परिवारको गर्वको विषय जानकारी गराउँदै कार्यक्रम सफल वनाउनका निमित्त अहम भूमिका खेल्नुहुने सवैप्रति कृतज्ञता व्यक्त गरे औपचारिक कार्यक्रमलगत्तै सामाजिक अभियन्त अञ्जन पोखरेलले ूनेपालका सांसदहरुलाई प्रवासी श्रमिकहरूको चिठीू शीर्षकको श्रमिक हकहितको लगि प्रवासी कामदार पत्रकारको समुहद्वारा तयार गरिएको अनलाइन फारम भर्न आग्रह फारम भर्ने सम्बन्धमा प्रिजेन्टेशन गराएका फारम आगामी मार्च तारीक भर्न सकिने उक्त अभियानमा तामाङ घेदुङ साउदी अरबले श्रमिक सम्वद्ध गतिविधिलाई अत्यन्त महत्वकासाथ स्थान दिएकोमा कार्यक्रममा सहभागि सबैले खुलेर प्रशंसा गरे कृष्ण तामाङको संयोजकमा दोश्रो चरणको सांस्कृतिक कार्यक्रमलाई तामाङ घेदुङ साउदीका कार्यसमिति महिला सदस्य शान्ति थिङ तामाङले संचालन गरेकी थिइन् खाडीको गर्मी ठाँउमा एक्कासी मध्यान्ह परेको बर्षाले चिस्याएको जेद्धा शहर स्थानीय चर्चित कलाकारहरुको बेजोड प्रस्तुतिले तताएको चर्चित कलाकारहरुले आआफ्नो प्रस्तुति पस्किदै उपस्थित भरपुर मनोरञ्जन दिलाए साउदी घेदुङका अध्यक्ष बिगेन्द्र सिंह तामाङले समेत ल्हाप्साङकर्पो क्षेत्रको चर्चित गीत गादे ग्योना सेर्का दाङ्जीू गीत गायका त्यसैगरि कलाकारहरु शान्त लामा मखमली धन बहादुर तमु सिमरन पुन मगर रजन तामाङ प्रेम पुन मिसार घा खिम तमु पुजा सरगम लगायत कलाकारहरुले विभिन्न गायन नृत्यको मध्यमबाट बेजोड प्रस्तुति देखाएको कार्यक्रमको उत्तरार्धमा दोलखा जिल्ला भुसाफिदा- मृगौलापीडित पाल्देन लामाको उपचारार्थ सहयोग रकम समेत संकलन गरिएको पाल्देन बचाउ अभियान साउदीका प्रतिनिधि ज्योज्यो पाराङ दोल्खाली निमा घिसिङको अनुरोधमा नेपाल तामाङ घेदुङ साउदी अरबको पहलमा नेपाली रुपैयाँ हजार संकलन गरिएको\n",
            "['स', '##ा', '##उ', '##दी', 'अ', '##र', '##ब', '##को', 'जे', '##द', '##्दा', '##मा', 'म', '##ना', '##इ', '##य', '##ो', 'ल', '##्', '##ह', '##ो', '##छ', '##ार', '##जे', '##द', '##्दा', 'म', '##ौ', '##ल', '##िक', 'धर्म', 'संस्कृति', 'पर', '##म्', '##पर', '##ाला', '##ई', 'ज', '##गे', '##र', '##्न', '##ा', 'न', '##िर', '##न्त', '##र', 'उ', '##त', '##्थ', '##ान', 'स', '##म्', '##बर', '##्द', '##्', '##धन', 'एवं', 'प', '##्र', '##बर', '##्द', '##्', '##धन', 'स', '##ा', '##उ', '##दी', 'अ', '##र', '##ब', '##को', 'जे', '##द्ध', '##ा', 'आ', '##स', '##पा', '##समा', 'त', '##ाम', '##ा', '##ङ', 'श', '##्रम', '##िक', '##हरू', '##ले', 'ब', '##ृ', '##हत', 'रूपमा', 'स', '##ोन', '##ाम', 'ल', '##्', '##ह', '##ो', '##छ', '##ार', 'म', '##ना', '##एका', 'ज', '##्या', 'ल', '##्', '##ह', '##ो', 'च', '##रा', 'ब', '##र', '##्ग', '##को', 'वर्ष', 'आ', '##गम', '##न', '##लाई', 'हर', '##्ष', '##ो', '##उ', '##ल्ला', '##स', '##का', 'म', '##ना', '##इ', '##य', '##ो', 'नेपाल', 'त', '##ाम', '##ा', '##ङ', 'घ', '##ेद', '##ु', '##ङ', 'प', '##्र', '##वास', 'श', '##ा', '##खा', 'स', '##ा', '##उ', '##दी', 'अ', '##र', '##ब', '##का', 'अध्यक्ष', 'वि', '##गे', '##न्द', '##्र', '##स', '##िं', '##ह', 'वा', '##इ', '##वा', '##को', 'सभा', '##पति', '##त्व', '##मा', 'स', '##म्', '##पन', '##्न', 'उ', '##क्त', 'कार्यक्रम', '##लाई', 'घ', '##ेद', '##ु', '##ङ', '##का', 'म', '##हा', '##स', '##च', '##िव', 'न', '##वर', '##ाज', 'घ', '##िस', '##ि', '##ङ', '##ले', 'सं', '##चालन', 'म', '##हा', '##वा', '##णी', '##ज्य', 'द', '##ूत', '##ावा', '##स', '##का', 'कार्य', '##वा', '##ह', '##क', 'म', '##हा', '##वा', '##णी', '##ज्य', '##दू', '##त', 'र', '##े', '##वत', '##ी', 'र', '##म', '##ण', 'प', '##ौ', '##डे', '##ल', '##को', 'प्रमुख', 'आ', '##ति', '##थ', '##्य', '##ता', 'कार्यक्रम', '##मा', 'अ', '##ति', '##थ', '##ि', '##हरू', 'वा', '##णी', '##ज्य', '##दू', '##त', 'म', '##न', '##हर', '##ी', 'दं', '##गा', '##ल', 'श', '##्रम', 'स', '##ह', '##चार', '##ी', 'भ', '##ोज', '##रा', '##ज', 'घ', '##िम', '##िर', '##े', 'आदि', '##बा', '##सी', 'ज', '##न', '##जा', '##ति', 'म', '##हा', '##स', '##ं', '##घ', 'स', '##ा', '##उ', '##दी', 'अ', '##र', '##ब', '##का', 'केन्द्र', '##िय', 'उ', '##पा', '##ध', '##्य', '##क्ष', 'ब', '##ाल', '##क', '##ु', '##मा', '##र', 'र', '##ाई', 'आदि', '##बा', '##सी', 'ज', '##न', '##जा', '##ति', 'म', '##हा', '##स', '##ं', '##घ', 'क्षेत्र', '##ीय', 'स', '##मन', '##्व', '##य', 'समिति', 'जे', '##द्ध', '##ा', '##का', 'अध्यक्ष', 'ङ', '##िम', '##ा', 'स', '##ा', '##ङ', '##गे', 'श', '##ेर', '##्', '##पा', 'लगा', '##यत', '##को', 'उपस्थिति', 'कार्यक्रम', '##मा', 'ग', '##ैर', '##आ', '##वास', '##ीय', 'नेपाली', 'संघ', 'स', '##ा', '##उ', '##दी', 'अ', '##र', '##ब', '##का', 'उ', '##पा', '##ध', '##्य', '##क्ष', 'ध', '##्र', '##ु', '##ब', 'र', '##ि', '##जा', '##ल', 'त', '##म', '##ु', 'ध', '##ी', 'जे', '##द्ध', '##ा', '##का', 'अध्यक्ष', 'व', '##ुद्ध', '##ील', '##ाल', 'ग', '##ुर', '##ू', '##ङ', 'नेपाली', 'य', '##ुवा', 'क्लब', 'जे', '##द्ध', '##ा', '##का', 'अध्यक्ष', 'कृष्ण', 'भ', '##ट', '##्टर', '##ाई', 'आ', '##वास', '##ीय', 'नेपाली', 'संघ', 'क्षेत्र', '##ीय', 'समिति', 'जे', '##द्ध', '##ा', '##का', 'अध्यक्ष', 'भ', '##िम', 'ग', '##ुर', '##ू', '##ङ', 'समाज', '##से', '##वी', 'कलाकार', 'ध', '##न', '##ब', '##हा', '##द', '##ुर', 'ग', '##ुरु', '##ङ', 'ब', '##र', '##ि', '##ष्ठ', 'समाज', '##से', '##वी', 'ब', '##ेद', 'कुमार', 'ग', '##ुरु', '##ङ', 'समाज', '##से', '##वी', 'ब', '##ुद्ध', '##ि', '##जी', '##वी', '##हर', '##ु', 'पूर्ण', 'का', '##र्क', '##ी', 'दु', '##र', '##्ग', '##ा', 'ब', '##िक', 'दिन', '##ेश', 'क्षेत्र', '##ी', 'उ', '##पस', '##्थ', '##ित', 'कार्यक्रम', '##लाई', 'घ', '##ेद', '##ु', '##ङ', '##का', 'स', '##च', '##िव', 'आ', '##श', '##िम', 'दो', '##र', '##्ज', '##े', 'त', '##ाम', '##ा', '##ङ', '##ले', 'स', '##्व', '##ाग', '##त', 'र', '##े', '##वत', '##ी', 'र', '##म', '##ण', 'प', '##ौ', '##डे', '##ल', '##ले', 'स', '##ोन', '##ाम', 'ल', '##्', '##ह', '##ो', '##छ', '##ार', 'धर्म', 'स', '##म', '##ु', '##दाय', '##को', 'न', '##भ', '##ई', 'स', '##ि', '##ङ', '##्ग', '##ो', 'नेपाली', '##को', 'स', '##ा', '##झा', 'राष्ट्रिय', 'पर', '##्व', 'क', '##ुरा', '##लाई', 'राज्य', 'प', '##क्ष', '##बाट', 'स', '##कार', '##ात', '##्म', '##क', 'प', '##ह', '##ल', 'क', '##द', '##म', 'ग', '##र', '##िर', '##हे', '##को', 'जानकारी', 'ग', '##रा', '##ए', 'प', '##्र', '##वास', '##ी', 'भ', '##ु', '##म', '##िम', '##ा', 'कि', '##स', '##िम', '##को', 'सांस्कृतिक', 'म', '##हत', '##्त', '##्व', 'ब', '##ोक', '##ेको', 'पर', '##्व', '##हर', '##ु', 'म', '##ना', '##उने', 'यस', '##्ता', 'कार्यक्रम', '##हर', '##ु', '##मा', 'स', '##ह', '##भा', '##गी', 'प', '##ा', '##उ', '##दा', 'ग', '##ौर', '##वा', '##न्', '##वि', '##त', 'म', '##ह', '##स', '##ु', '##स', 'व', '##ता', '##ए', 'प्रथम', 'च', '##रण', '##को', 'कार्यक्रम', '##लाई', 'स', '##मा', '##पन', 'सभा', '##पति', 'ब', '##ि', '##गे', '##न्द', '##्र', 'सिंह', 'त', '##ाम', '##ा', '##ङ', '##ले', 'स', '##ुरु', '##मा', 'आ', '##फ', '##ू', '##हर', '##ुल', '##े', 'नेपाल', 'आदि', '##बा', '##सी', 'ज', '##न', '##जा', '##ति', 'म', '##हा', '##स', '##ं', '##घ', 'क्षेत्र', '##ीय', 'स', '##मन', '##्व', '##य', 'समिति', '##को', 'स', '##ह', '##कार', '##्य', '##मा', 'आय', '##ोजन', '##ा', 'म', '##ना', '##एको', 'स', '##ोन', '##ाम', 'ल', '##्', '##ह', '##ो', '##छ', '##ार', 'कार्यक्रम', 'अ', '##हिले', 'आ', '##एर', 'स', '##म', '##ु', '##दाय', '##को', 'उल्लेख', '##्य', 'स', '##ह', '##भा', '##ग', '##िता', '##मा', 'ध', '##ु', '##म', '##धा', '##म', '##का', 'म', '##ना', '##उन', 'सफल', 'भएको', '##मा', 'स', '##ि', '##ङ', '##्ग', '##ो', 'स', '##ा', '##उ', '##दी', 'घ', '##ेद', '##ु', '##ङ', 'परिवार', '##को', 'ग', '##र', '##्व', '##को', 'विषय', 'जानकारी', 'ग', '##रा', '##उ', '##ँ', '##द', '##ै', 'कार्यक्रम', 'सफल', 'वन', '##ा', '##उन', '##का', 'न', '##िम', '##ित', '##्त', 'अ', '##ह', '##म', 'भूमिका', 'खेल', '##्न', '##ु', '##ह', '##ुन', '##े', 'स', '##व', '##ै', '##प', '##्र', '##ति', 'क', '##ृत', '##ज्ञ', '##ता', 'व', '##्य', '##क्त', 'गरे', 'औ', '##प', '##चार', '##िक', 'कार्यक्रम', '##ल', '##गत', '##्त', '##ै', 'सामाजिक', 'अ', '##भ', '##ियन', '##्त', 'अ', '##ञ', '##्ज', '##न', 'प', '##ो', '##ख', '##रे', '##ल', '##ले', 'ू', '##ने', '##पा', '##ल', '##का', 'स', '##ा', '##ंस', '##द', '##हर', '##ुल', '##ाई', 'प', '##्र', '##वास', '##ी', 'श', '##्रम', '##िक', '##हरूको', 'च', '##ि', '##ठी', '##ू', 'श', '##ीर', '##्ष', '##क', '##को', 'श', '##्रम', '##िक', 'ह', '##क', '##हित', '##को', 'ल', '##ग', '##ि', 'प', '##्र', '##वास', '##ी', 'काम', '##दार', 'प', '##त्र', '##कार', '##को', 'स', '##म', '##ु', '##ह', '##द्वारा', 'तयार', 'गरिएको', 'अ', '##न', '##ला', '##इन', 'फ', '##ार', '##म', 'भर', '##्न', 'आ', '##ग्रह', 'फ', '##ार', '##म', 'भर', '##्ने', 'स', '##म्', '##बन्ध', '##मा', 'प', '##्र', '##ि', '##जे', '##न्', '##ट', '##ेशन', 'ग', '##रा', '##एका', 'फ', '##ार', '##म', 'आ', '##गा', '##मी', 'मार्च', 'त', '##ारी', '##क', 'भर', '##्न', 'स', '##कि', '##ने', 'उ', '##क्त', 'अ', '##भ', '##िया', '##न', '##मा', 'त', '##ाम', '##ा', '##ङ', 'घ', '##ेद', '##ु', '##ङ', 'स', '##ा', '##उ', '##दी', 'अ', '##र', '##बल', '##े', 'श', '##्रम', '##िक', 'स', '##म्', '##व', '##द्ध', 'ग', '##ति', '##वि', '##धि', '##लाई', 'अ', '##त्य', '##न्त', 'म', '##हत', '##्व', '##का', '##सा', '##थ', 'स्थान', 'दिए', '##को', '##मा', 'कार्यक्रम', '##मा', 'स', '##ह', '##भा', '##ग', '##ि', 'सबै', '##ले', 'ख', '##ुल', '##ेर', 'प', '##्र', '##श', '##ंस', '##ा', 'गरे', 'कृष्ण', 'त', '##ाम', '##ा', '##ङ', '##को', 'सं', '##य', '##ोज', '##क', '##मा', 'दो', '##श', '##्रो', 'च', '##रण', '##को', 'सांस्कृतिक', 'कार्यक्रम', '##लाई', 'त', '##ाम', '##ा', '##ङ', 'घ', '##ेद', '##ु', '##ङ', 'स', '##ा', '##उ', '##दी', '##का', 'कार्य', '##सम', '##ित', '##ि', 'महिला', 'सदस्य', 'श', '##ान', '##्ति', 'थ', '##ि', '##ङ', 'त', '##ाम', '##ा', '##ङ', '##ले', 'सं', '##चालन', 'गरे', '##की', 'थ', '##ि', '##इन', '##्', 'खा', '##डी', '##को', 'ग', '##र', '##्मी', 'ठ', '##ाँ', '##उ', '##मा', 'एक', '##्क', '##ास', '##ी', 'मध्य', '##ान', '##्', '##ह', 'पर', '##ेको', 'ब', '##र्ष', '##ाल', '##े', 'च', '##िस', '##्या', '##एको', 'जे', '##द्ध', '##ा', 'शहर', 'स्थानीय', 'च', '##र्च', '##ित', 'कलाकार', '##हर', '##ुक', '##ो', 'ब', '##ेज', '##ोड', 'प्रस्तुत', '##िले', 'त', '##ता', '##एको', 'च', '##र्च', '##ित', 'कलाकार', '##हर', '##ुल', '##े', 'आ', '##आ', '##फ', '##्न', '##ो', 'प्रस्तुत', '##ि', 'प', '##स', '##्क', '##ि', '##द', '##ै', 'उ', '##पस', '##्थ', '##ित', 'भर', '##पुर', 'म', '##न', '##ोर', '##ञ', '##्ज', '##न', 'द', '##िला', '##ए', 'स', '##ा', '##उ', '##दी', 'घ', '##ेद', '##ु', '##ङ', '##का', 'अध्यक्ष', 'ब', '##ि', '##गे', '##न्द', '##्र', 'सिंह', 'त', '##ाम', '##ा', '##ङ', '##ले', 'स', '##म', '##ेत', 'ल्हा', '##प', '##्स', '##ा', '##ङ', '##कर', '##्', '##प', '##ो', 'क्षेत्र', '##को', 'च', '##र्च', '##ित', 'गीत', 'ग', '##ाद', '##े', 'ग', '##्यो', '##ना', 'से', '##र्क', '##ा', 'द', '##ा', '##ङ', '##्ज', '##ी', '##ू', 'गीत', 'ग', '##ायक', '##ा', 'त', '##्य', '##स', '##ै', '##गर', '##ि', 'कलाकार', '##हर', '##ु', 'श', '##ान', '##्त', 'ला', '##मा', 'म', '##ख', '##म', '##ली', 'ध', '##न', 'ब', '##हा', '##द', '##ुर', 'त', '##म', '##ु', 'स', '##िम', '##र', '##न', 'प', '##ुन', 'म', '##गर', 'र', '##जन', 'त', '##ाम', '##ा', '##ङ', 'प', '##्र', '##ेम', 'प', '##ुन', 'म', '##िस', '##ार', 'घ', '##ा', 'ख', '##िम', 'त', '##म', '##ु', 'प', '##ु', '##जा', 'स', '##र', '##गम', 'लगा', '##यत', 'कलाकार', '##हर', '##ुल', '##े', 'विभिन्न', 'ग', '##ाय', '##न', 'न', '##ृत', '##्य', '##को', 'मध्य', '##म', '##बाट', 'ब', '##ेज', '##ोड', 'प्रस्तुत', '##ि', 'देखा', '##एको', 'कार्यक्रम', '##को', 'उत्तर', '##ार', '##्', '##ध', '##मा', 'दो', '##ल', '##खा', 'जिल्ला', 'भ', '##ु', '##सा', '##फ', '##ि', '##दा', '-', 'म', '##ृ', '##ग', '##ौ', '##ला', '##पी', '##ड', '##ित', 'प', '##ाल', '##्द', '##ेन', 'ला', '##मा', '##को', 'उ', '##प', '##चार', '##ार', '##्थ', 'स', '##ह', '##योग', 'र', '##क', '##म', 'स', '##म', '##ेत', 'सं', '##क', '##लन', 'गरिएको', 'प', '##ाल', '##्द', '##ेन', 'ब', '##चा', '##उ', 'अ', '##भ', '##िया', '##न', 'स', '##ा', '##उ', '##दी', '##का', 'प्रति', '##नि', '##धि', 'ज', '##्यो', '##ज्य', '##ो', 'प', '##ारा', '##ङ', 'दो', '##ल', '##्', '##खा', '##ली', 'न', '##िम', '##ा', 'घ', '##िस', '##ि', '##ङ', '##को', 'अ', '##न', '##ुर', '##ोध', '##मा', 'नेपाल', 'त', '##ाम', '##ा', '##ङ', 'घ', '##ेद', '##ु', '##ङ', 'स', '##ा', '##उ', '##दी', 'अ', '##र', '##ब', '##को', 'प', '##ह', '##ल', '##मा', 'नेपाली', 'रुप', '##ै', '##याँ', 'ह', '##जार', 'सं', '##क', '##लन', 'गरिएको']\n",
            "1397\n",
            "['स', '##ा', '##उ', '##दी', 'अ', '##र', '##ब', '##को', 'जे', '##द', '##्दा', '##मा', 'म', '##ना', '##इ', '##य', '##ो', 'ल', '##्', '##ह', '##ो', '##छ', '##ार', '##जे', '##द', '##्दा', 'म', '##ौ', '##ल', '##िक', 'धर्म', 'संस्कृति', 'पर', '##म्', '##पर', '##ाला', '##ई', 'ज', '##गे', '##र', '##्न', '##ा', 'न', '##िर', '##न्त', '##र', 'उ', '##त', '##्थ', '##ान', 'स', '##म्', '##बर', '##्द', '##्', '##धन', 'एवं', 'प', '##्र', '##बर', '##्द', '##्', '##धन', 'स', '##ा', '##उ', '##दी', 'अ', '##र', '##ब', '##को', 'जे', '##द्ध', '##ा', 'आ', '##स', '##पा', '##समा', 'त', '##ाम', '##ा', '##ङ', 'श', '##्रम', '##िक', '##हरू', '##ले', 'ब', '##ृ', '##हत', 'रूपमा', 'स', '##ोन', '##ाम', 'ल', '##्', '##ह', '##ो', '##छ', '##ार', 'म', '##ना', '##एका', 'ज', '##्या', 'ल', '##्', '##ह', '##ो', 'च', '##रा', 'ब', '##र', '##्ग', '##को', 'वर्ष', 'आ', '##गम', '##न', '##लाई', 'हर', '##्ष', '##ो', '##उ', '##ल्ला', '##स', '##का', 'म', '##ना', '##इ', '##य', '##ो', 'नेपाल', 'त', '##ाम', '##ा', '##ङ', 'घ', '##ेद', '##ु', '##ङ', 'प', '##्र', '##वास', 'श', '##ा', '##खा', 'स', '##ा', '##उ', '##दी', 'अ', '##र', '##ब', '##का', 'अध्यक्ष', 'वि', '##गे', '##न्द', '##्र', '##स', '##िं', '##ह', 'वा', '##इ', '##वा', '##को', 'सभा', '##पति', '##त्व', '##मा', 'स', '##म्', '##पन', '##्न', 'उ', '##क्त', 'कार्यक्रम', '##लाई', 'घ', '##ेद', '##ु', '##ङ', '##का', 'म', '##हा', '##स', '##च', '##िव', 'न', '##वर', '##ाज', 'घ', '##िस', '##ि', '##ङ', '##ले', 'सं', '##चालन', 'म', '##हा', '##वा', '##णी', '##ज्य', 'द', '##ूत', '##ावा', '##स', '##का', 'कार्य', '##वा', '##ह', '##क', 'म', '##हा', '##वा', '##णी', '##ज्य', '##दू', '##त', 'र', '##े', '##वत', '##ी', 'र', '##म', '##ण', 'प', '##ौ', '##डे', '##ल', '##को', 'प्रमुख', 'आ', '##ति', '##थ', '##्य', '##ता', 'कार्यक्रम', '##मा', 'अ', '##ति', '##थ', '##ि', '##हरू', 'वा', '##णी', '##ज्य', '##दू', '##त', 'म', '##न', '##हर', '##ी', 'दं', '##गा', '##ल', 'श', '##्रम', 'स', '##ह', '##चार', '##ी', 'भ', '##ोज', '##रा', '##ज', 'घ', '##िम', '##िर', '##े', 'आदि', '##बा', '##सी', 'ज', '##न', '##जा', '##ति', 'म', '##हा', '##स', '##ं', '##घ', 'स', '##ा', '##उ', '##दी', 'अ', '##र', '##ब', '##का', 'केन्द्र', '##िय', 'उ', '##पा', '##ध', '##्य', '##क्ष', 'ब', '##ाल', '##क', '##ु', '##मा', '##र', 'र', '##ाई', 'आदि', '##बा', '##सी', 'ज', '##न', '##जा', '##ति', 'म', '##हा', '##स', '##ं', '##घ', 'क्षेत्र', '##ीय', 'स', '##मन', '##्व', '##य', 'समिति', 'जे', '##द्ध', '##ा', '##का', 'अध्यक्ष', 'ङ', '##िम', '##ा', 'स', '##ा', '##ङ', '##गे', 'श', '##ेर', '##्', '##पा', 'लगा', '##यत', '##को', 'उपस्थिति', 'कार्यक्रम', '##मा', 'ग', '##ैर', '##आ', '##वास', '##ीय', 'नेपाली', 'संघ', 'स', '##ा', '##उ', '##दी', 'अ', '##र', '##ब', '##का', 'उ', '##पा', '##ध', '##्य', '##क्ष', 'ध', '##्र', '##ु', '##ब', 'र', '##ि', '##जा', '##ल', 'त', '##म', '##ु', 'ध', '##ी', 'जे', '##द्ध', '##ा', '##का', 'अध्यक्ष', 'व', '##ुद्ध', '##ील', '##ाल', 'ग', '##ुर', '##ू', '##ङ', 'नेपाली', 'य', '##ुवा', 'क्लब', 'जे', '##द्ध', '##ा', '##का', 'अध्यक्ष', 'कृष्ण', 'भ', '##ट', '##्टर', '##ाई', 'आ', '##वास', '##ीय', 'नेपाली', 'संघ', 'क्षेत्र', '##ीय', 'समिति', 'जे', '##द्ध', '##ा', '##का', 'अध्यक्ष', 'भ', '##िम', 'ग', '##ुर', '##ू', '##ङ', 'समाज', '##से', '##वी', 'कलाकार', 'ध', '##न', '##ब', '##हा', '##द', '##ुर', 'ग', '##ुरु', '##ङ', 'ब', '##र', '##ि', '##ष्ठ', 'समाज', '##से', '##वी', 'ब', '##ेद', 'कुमार', 'ग', '##ुरु', '##ङ', 'समाज', '##से', '##वी', 'ब', '##ुद्ध', '##ि', '##जी', '##वी', '##हर', '##ु', 'पूर्ण', 'का', '##र्क', '##ी', 'दु', '##र', '##्ग', '##ा', 'ब', '##िक', 'दिन', '##ेश', 'क्षेत्र', '##ी', 'उ', '##पस', '##्थ', '##ित', 'कार्यक्रम', '##लाई', 'घ', '##ेद', '##ु', '##ङ', '##का', 'स', '##च', '##िव', 'आ', '##श', '##िम', 'दो', '##र', '##्ज', '##े', 'त', '##ाम', '##ा', '##ङ', '##ले', 'स', '##्व', '##ाग', '##त', 'र', '##े', '##वत', '##ी', 'र', '##म']\n"
          ],
          "name": "stdout"
        }
      ]
    },
    {
      "cell_type": "code",
      "metadata": {
        "id": "S5e2hlC8QPw4",
        "colab": {
          "base_uri": "https://localhost:8080/"
        },
        "outputId": "7f819512-9881-4d41-9217-4b3f8f67d6e4"
      },
      "source": [
        "x=tokenizer.convert_tokens_to_ids(tokenizer.tokenize(b))\n",
        "print(x)\n",
        "print(len(x))"
      ],
      "execution_count": 88,
      "outputs": [
        {
          "output_type": "stream",
          "text": [
            "[898, 11208, 111194, 27425, 851, 11549, 18351, 12512, 85705, 15552, 77225, 12347, 889, 16380, 34231, 13874, 13718, 893, 20429, 17110, 13718, 108021, 19885, 77285, 15552, 77225, 889, 78530, 11714, 13671, 24589, 109900, 12213, 45753, 61533, 65986, 15801, 872, 61809, 11549, 22949, 11208, 884, 46354, 55874, 11549, 855, 11845, 69002, 21202, 898, 45753, 41082, 60254, 20429, 51799, 21850, 885, 18321, 41082, 60254, 20429, 51799, 898, 11208, 111194, 27425, 851, 11549, 18351, 12512, 85705, 43228, 11208, 852, 13432, 42035, 110427, 880, 49362, 11208, 81489, 896, 53606, 13671, 37392, 13665, 887, 111207, 108775, 54321, 898, 73354, 49362, 893, 20429, 17110, 13718, 108021, 19885, 889, 16380, 50877, 872, 17279, 893, 20429, 17110, 13718, 870, 31277, 887, 11549, 65536, 12512, 24332, 852, 103067, 11453, 26377, 85465, 76979, 13718, 111194, 101668, 13432, 15399, 889, 16380, 34231, 13874, 13718, 29953, 880, 49362, 11208, 81489, 868, 82813, 14070, 81489, 885, 18321, 102116, 896, 11208, 45319, 898, 11208, 111194, 27425, 851, 11549, 18351, 15399, 85082, 55190, 61809, 75460, 18321, 13432, 103435, 17110, 37038, 34231, 28960, 12512, 51480, 71555, 55157, 12347, 898, 45753, 68053, 22949, 855, 36907, 75736, 26377, 868, 82813, 14070, 81489, 15399, 889, 56523, 13432, 16940, 66306, 884, 22568, 44735, 868, 29822, 12878, 81489, 13665, 28466, 110549, 889, 56523, 28960, 29624, 70604, 882, 59342, 81027, 13432, 15399, 33979, 28960, 17110, 12151, 889, 56523, 28960, 29624, 70604, 98626, 11845, 891, 11554, 97863, 10914, 891, 13841, 14512, 885, 78530, 53807, 11714, 12512, 29218, 852, 24877, 30534, 14251, 13537, 75736, 12347, 851, 24877, 30534, 12878, 37392, 37038, 29624, 70604, 98626, 11845, 889, 11453, 49050, 10914, 80091, 43263, 11714, 896, 53606, 898, 17110, 36208, 10914, 888, 72850, 31277, 17413, 868, 50419, 46354, 11554, 18263, 57381, 27117, 872, 11453, 51283, 24877, 889, 56523, 13432, 14018, 55759, 898, 11208, 111194, 27425, 851, 11549, 18351, 15399, 104087, 71382, 855, 42035, 27694, 14251, 32662, 887, 35133, 12151, 14070, 12347, 11549, 891, 30472, 18263, 57381, 27117, 872, 11453, 51283, 24877, 889, 56523, 13432, 14018, 55759, 21582, 21571, 898, 62752, 27155, 13874, 43725, 85705, 43228, 11208, 15399, 85082, 869, 50419, 11208, 898, 11208, 81489, 61809, 896, 53195, 20429, 42035, 86340, 63484, 12512, 49360, 75736, 12347, 867, 89595, 111193, 102116, 21571, 26876, 63911, 898, 11208, 111194, 27425, 851, 11549, 18351, 15399, 855, 42035, 27694, 14251, 32662, 883, 18321, 14070, 18351, 891, 12878, 51283, 11714, 880, 13841, 14070, 883, 10914, 85705, 43228, 11208, 15399, 85082, 895, 48010, 28185, 35133, 867, 52398, 15778, 81489, 26876, 890, 109165, 109496, 85705, 43228, 11208, 15399, 85082, 108932, 888, 14835, 54071, 30472, 852, 102116, 21571, 26876, 63911, 21582, 21571, 43725, 85705, 43228, 11208, 15399, 85082, 888, 50419, 867, 52398, 15778, 81489, 70876, 35622, 30945, 107589, 883, 11453, 18351, 56523, 15552, 52398, 867, 56902, 81489, 887, 11549, 12878, 98896, 70876, 35622, 30945, 887, 82813, 98441, 867, 56902, 81489, 70876, 35622, 30945, 887, 48010, 12878, 30800, 30945, 49050, 14070, 64387, 11081, 74157, 10914, 11854, 11549, 65536, 11208, 887, 13671, 34578, 48157, 21582, 10914, 855, 92191, 69002, 13184, 75736, 26377, 868, 82813, 14070, 81489, 15399, 898, 16940, 66306, 852, 21835, 50419, 29784, 11549, 73649, 11554, 880, 49362, 11208, 81489, 13665, 898, 27155, 74610, 11845, 891, 11554, 97863, 10914, 891, 13841, 14512, 885, 78530, 53807, 11714, 13665, 898, 73354, 49362, 893, 20429, 17110, 13718, 108021, 19885, 24589, 898, 13841, 14070, 102299, 12512, 884, 60270, 15801, 898, 12878, 81489, 65536, 13718, 26876, 12512, 898, 11208, 93224, 65300, 12213, 27155, 865, 77476, 26377, 16916, 885, 32662, 53525, 898, 25561, 15919, 33270, 12151, 885, 17110, 11714, 865, 15552, 13841, 867, 11549, 46354, 103860, 12512, 109066, 867, 31277, 22599, 885, 18321, 102116, 10914, 888, 14070, 13841, 50419, 11208, 14117, 13432, 50419, 12512, 99901, 889, 108775, 29161, 27155, 887, 69897, 91601, 12213, 27155, 49050, 14070, 889, 16380, 65261, 30629, 43183, 75736, 49050, 14070, 12347, 898, 17110, 104741, 34315, 885, 11208, 111194, 25501, 867, 54379, 28960, 41013, 72233, 11845, 889, 17110, 13432, 14070, 13432, 895, 13537, 22599, 46207, 870, 31857, 12512, 75736, 26377, 898, 12347, 68053, 51480, 71555, 887, 12878, 61809, 75460, 18321, 46415, 880, 49362, 11208, 81489, 13665, 898, 56902, 12347, 852, 28863, 15778, 49050, 52736, 11554, 29953, 18263, 57381, 27117, 872, 11453, 51283, 24877, 889, 56523, 13432, 14018, 55759, 21582, 21571, 898, 62752, 27155, 13874, 43725, 12512, 898, 17110, 25561, 14251, 12347, 98440, 63331, 11208, 889, 16380, 43583, 898, 73354, 49362, 893, 20429, 17110, 13718, 108021, 19885, 75736, 851, 72247, 852, 76131, 898, 13841, 14070, 102299, 12512, 77971, 14251, 898, 17110, 104741, 19741, 66880, 12347, 883, 14070, 13841, 38380, 13841, 15399, 889, 16380, 62132, 81277, 31454, 12347, 898, 12878, 81489, 65536, 13718, 898, 11208, 111194, 27425, 868, 82813, 14070, 81489, 71503, 12512, 867, 11549, 27155, 12512, 82122, 109066, 867, 31277, 111194, 28462, 15552, 18438, 75736, 81277, 90781, 11208, 62132, 15399, 884, 50419, 13184, 29161, 851, 17110, 13841, 50459, 73869, 22949, 14070, 17110, 45649, 11554, 898, 15070, 18438, 18187, 18321, 24877, 865, 37500, 80452, 13537, 895, 14251, 36907, 79263, 864, 18187, 36208, 13671, 75736, 11714, 49824, 29161, 18438, 50974, 851, 60270, 31332, 29161, 851, 111203, 73649, 11453, 885, 13718, 27841, 28546, 11714, 13665, 906, 13466, 42035, 11714, 15399, 898, 11208, 49096, 15552, 49050, 52736, 30472, 885, 18321, 102116, 10914, 896, 53606, 13671, 100350, 870, 12878, 90656, 15778, 896, 83222, 76979, 12151, 12512, 896, 53606, 13671, 899, 12151, 92619, 12512, 893, 19741, 12878, 885, 18321, 102116, 10914, 28043, 55904, 885, 27373, 25561, 12512, 898, 13841, 14070, 17110, 96838, 91706, 68860, 851, 11453, 14334, 50275, 886, 19885, 13841, 103733, 22949, 852, 97090, 886, 19885, 13841, 103733, 32786, 898, 45753, 110523, 12347, 885, 18321, 12878, 77285, 41013, 14835, 70104, 867, 31277, 50877, 886, 19885, 13841, 852, 43263, 40340, 27340, 880, 41510, 12151, 103733, 22949, 898, 66943, 13466, 855, 36907, 851, 60270, 21394, 11453, 12347, 880, 49362, 11208, 81489, 868, 82813, 14070, 81489, 898, 11208, 111194, 27425, 851, 11549, 82746, 11554, 896, 53606, 13671, 898, 45753, 15070, 43228, 867, 24877, 72233, 32831, 26377, 851, 91618, 55874, 889, 108775, 27155, 15399, 35127, 30534, 36724, 103821, 12512, 12347, 75736, 12347, 898, 17110, 104741, 19741, 12878, 97746, 13665, 866, 52736, 53195, 885, 18321, 21835, 49096, 11208, 79263, 108932, 880, 49362, 11208, 81489, 12512, 28466, 13874, 72850, 12151, 12347, 29784, 21835, 63750, 870, 31857, 12512, 99901, 75736, 26377, 880, 49362, 11208, 81489, 868, 82813, 14070, 81489, 898, 11208, 111194, 27425, 15399, 33979, 105794, 13184, 12878, 50353, 48558, 896, 21202, 32953, 881, 12878, 81489, 880, 49362, 11208, 81489, 13665, 28466, 110549, 79263, 24962, 881, 12878, 50275, 20429, 64566, 33076, 12512, 867, 11549, 76881, 876, 65343, 111194, 12347, 11186, 28197, 34646, 10914, 21650, 21202, 20429, 17110, 12213, 91601, 887, 71069, 35133, 11554, 870, 29822, 17279, 43583, 85705, 43228, 11208, 32062, 34259, 870, 92943, 13184, 107589, 49050, 97571, 13718, 887, 73184, 69334, 107246, 52433, 880, 13537, 43583, 870, 92943, 13184, 107589, 49050, 52736, 11554, 852, 111193, 28863, 22949, 13718, 107246, 12878, 885, 13432, 28197, 12878, 15552, 18438, 855, 92191, 69002, 13184, 103733, 22607, 889, 11453, 41937, 111203, 73649, 11453, 882, 33156, 22599, 898, 11208, 111194, 27425, 868, 82813, 14070, 81489, 15399, 85082, 887, 12878, 61809, 75460, 18321, 46415, 880, 49362, 11208, 81489, 13665, 898, 13841, 53316, 40280, 18187, 18869, 11208, 81489, 19444, 20429, 18187, 13718, 21582, 12512, 870, 92943, 13184, 93095, 867, 78153, 11554, 867, 49036, 16380, 11072, 74157, 11208, 882, 11208, 81489, 73649, 10914, 15778, 93095, 867, 94556, 11208, 880, 14251, 13432, 18438, 45086, 12878, 107589, 49050, 14070, 896, 21202, 29161, 21147, 12347, 889, 27841, 13841, 15658, 883, 11453, 887, 56523, 15552, 52398, 880, 13841, 14070, 898, 50419, 11549, 11453, 885, 45649, 889, 45086, 891, 36667, 880, 49362, 11208, 81489, 885, 18321, 80261, 885, 45649, 889, 29822, 19885, 868, 11208, 866, 50419, 880, 13841, 14070, 885, 14070, 51283, 898, 11549, 103067, 86340, 63484, 107589, 49050, 52736, 11554, 26472, 867, 49604, 11453, 884, 37500, 14251, 12512, 21650, 13841, 53525, 887, 73184, 69334, 107246, 12878, 95730, 43583, 75736, 12512, 17297, 19885, 20429, 27694, 12347, 29784, 11714, 45319, 36309, 888, 14070, 35127, 28863, 12878, 25501, 118, 889, 111207, 19741, 78530, 14334, 104062, 20691, 13184, 885, 35133, 60254, 39800, 21147, 12347, 12512, 855, 18187, 36208, 19885, 69002, 898, 17110, 90236, 891, 12151, 13841, 898, 13841, 53316, 28466, 12151, 42851, 68860, 885, 35133, 60254, 39800, 887, 22078, 111194, 851, 60270, 21394, 11453, 898, 11208, 111194, 27425, 15399, 54930, 51230, 32831, 872, 49036, 70604, 13718, 885, 54350, 81489, 29784, 11714, 20429, 45319, 15658, 884, 50419, 11208, 868, 29822, 12878, 81489, 12512, 851, 11453, 52398, 83615, 12347, 29953, 880, 49362, 11208, 81489, 868, 82813, 14070, 81489, 898, 11208, 111194, 27425, 851, 11549, 18351, 12512, 885, 17110, 11714, 12347, 26876, 72954, 18438, 71846, 899, 80683, 28466, 12151, 42851, 68860]\n",
            "1397\n"
          ],
          "name": "stdout"
        }
      ]
    },
    {
      "cell_type": "code",
      "metadata": {
        "id": "LQsQFa3MRO5v",
        "colab": {
          "base_uri": "https://localhost:8080/"
        },
        "outputId": "b8b14c20-7dae-43f3-cfbe-196ed44f312d"
      },
      "source": [
        "encoded_data = tokenizer.encode_plus(\n",
        "    text=b, \n",
        "    add_special_tokens=True, \n",
        "    return_attention_mask=True, \n",
        "    pad_to_max_length=True, \n",
        "    max_length=512, \n",
        "    return_tensors='pt')\n",
        "\n",
        "input_ids = encoded_data['input_ids']\n",
        "attn_mask = encoded_data['attention_mask']\n",
        "print(input_ids)\n",
        "print(attn_mask)\n"
      ],
      "execution_count": 89,
      "outputs": [
        {
          "output_type": "stream",
          "text": [
            "tensor([[   101,    898,  11208, 111194,  27425,    851,  11549,  18351,  12512,\n",
            "          85705,  15552,  77225,  12347,    889,  16380,  34231,  13874,  13718,\n",
            "            893,  20429,  17110,  13718, 108021,  19885,  77285,  15552,  77225,\n",
            "            889,  78530,  11714,  13671,  24589, 109900,  12213,  45753,  61533,\n",
            "          65986,  15801,    872,  61809,  11549,  22949,  11208,    884,  46354,\n",
            "          55874,  11549,    855,  11845,  69002,  21202,    898,  45753,  41082,\n",
            "          60254,  20429,  51799,  21850,    885,  18321,  41082,  60254,  20429,\n",
            "          51799,    898,  11208, 111194,  27425,    851,  11549,  18351,  12512,\n",
            "          85705,  43228,  11208,    852,  13432,  42035, 110427,    880,  49362,\n",
            "          11208,  81489,    896,  53606,  13671,  37392,  13665,    887, 111207,\n",
            "         108775,  54321,    898,  73354,  49362,    893,  20429,  17110,  13718,\n",
            "         108021,  19885,    889,  16380,  50877,    872,  17279,    893,  20429,\n",
            "          17110,  13718,    870,  31277,    887,  11549,  65536,  12512,  24332,\n",
            "            852, 103067,  11453,  26377,  85465,  76979,  13718, 111194, 101668,\n",
            "          13432,  15399,    889,  16380,  34231,  13874,  13718,  29953,    880,\n",
            "          49362,  11208,  81489,    868,  82813,  14070,  81489,    885,  18321,\n",
            "         102116,    896,  11208,  45319,    898,  11208, 111194,  27425,    851,\n",
            "          11549,  18351,  15399,  85082,  55190,  61809,  75460,  18321,  13432,\n",
            "         103435,  17110,  37038,  34231,  28960,  12512,  51480,  71555,  55157,\n",
            "          12347,    898,  45753,  68053,  22949,    855,  36907,  75736,  26377,\n",
            "            868,  82813,  14070,  81489,  15399,    889,  56523,  13432,  16940,\n",
            "          66306,    884,  22568,  44735,    868,  29822,  12878,  81489,  13665,\n",
            "          28466, 110549,    889,  56523,  28960,  29624,  70604,    882,  59342,\n",
            "          81027,  13432,  15399,  33979,  28960,  17110,  12151,    889,  56523,\n",
            "          28960,  29624,  70604,  98626,  11845,    891,  11554,  97863,  10914,\n",
            "            891,  13841,  14512,    885,  78530,  53807,  11714,  12512,  29218,\n",
            "            852,  24877,  30534,  14251,  13537,  75736,  12347,    851,  24877,\n",
            "          30534,  12878,  37392,  37038,  29624,  70604,  98626,  11845,    889,\n",
            "          11453,  49050,  10914,  80091,  43263,  11714,    896,  53606,    898,\n",
            "          17110,  36208,  10914,    888,  72850,  31277,  17413,    868,  50419,\n",
            "          46354,  11554,  18263,  57381,  27117,    872,  11453,  51283,  24877,\n",
            "            889,  56523,  13432,  14018,  55759,    898,  11208, 111194,  27425,\n",
            "            851,  11549,  18351,  15399, 104087,  71382,    855,  42035,  27694,\n",
            "          14251,  32662,    887,  35133,  12151,  14070,  12347,  11549,    891,\n",
            "          30472,  18263,  57381,  27117,    872,  11453,  51283,  24877,    889,\n",
            "          56523,  13432,  14018,  55759,  21582,  21571,    898,  62752,  27155,\n",
            "          13874,  43725,  85705,  43228,  11208,  15399,  85082,    869,  50419,\n",
            "          11208,    898,  11208,  81489,  61809,    896,  53195,  20429,  42035,\n",
            "          86340,  63484,  12512,  49360,  75736,  12347,    867,  89595, 111193,\n",
            "         102116,  21571,  26876,  63911,    898,  11208, 111194,  27425,    851,\n",
            "          11549,  18351,  15399,    855,  42035,  27694,  14251,  32662,    883,\n",
            "          18321,  14070,  18351,    891,  12878,  51283,  11714,    880,  13841,\n",
            "          14070,    883,  10914,  85705,  43228,  11208,  15399,  85082,    895,\n",
            "          48010,  28185,  35133,    867,  52398,  15778,  81489,  26876,    890,\n",
            "         109165, 109496,  85705,  43228,  11208,  15399,  85082, 108932,    888,\n",
            "          14835,  54071,  30472,    852, 102116,  21571,  26876,  63911,  21582,\n",
            "          21571,  43725,  85705,  43228,  11208,  15399,  85082,    888,  50419,\n",
            "            867,  52398,  15778,  81489,  70876,  35622,  30945, 107589,    883,\n",
            "          11453,  18351,  56523,  15552,  52398,    867,  56902,  81489,    887,\n",
            "          11549,  12878,  98896,  70876,  35622,  30945,    887,  82813,  98441,\n",
            "            867,  56902,  81489,  70876,  35622,  30945,    887,  48010,  12878,\n",
            "          30800,  30945,  49050,  14070,  64387,  11081,  74157,  10914,  11854,\n",
            "          11549,  65536,  11208,    887,  13671,  34578,  48157,  21582,  10914,\n",
            "            855,  92191,  69002,  13184,  75736,  26377,    868,  82813,  14070,\n",
            "          81489,  15399,    898,  16940,  66306,    852,  21835,  50419,  29784,\n",
            "          11549,  73649,  11554,    880,  49362,  11208,  81489,  13665,    898,\n",
            "          27155,  74610,  11845,    891,  11554,  97863,  10914,    102]])\n",
            "tensor([[1, 1, 1, 1, 1, 1, 1, 1, 1, 1, 1, 1, 1, 1, 1, 1, 1, 1, 1, 1, 1, 1, 1, 1,\n",
            "         1, 1, 1, 1, 1, 1, 1, 1, 1, 1, 1, 1, 1, 1, 1, 1, 1, 1, 1, 1, 1, 1, 1, 1,\n",
            "         1, 1, 1, 1, 1, 1, 1, 1, 1, 1, 1, 1, 1, 1, 1, 1, 1, 1, 1, 1, 1, 1, 1, 1,\n",
            "         1, 1, 1, 1, 1, 1, 1, 1, 1, 1, 1, 1, 1, 1, 1, 1, 1, 1, 1, 1, 1, 1, 1, 1,\n",
            "         1, 1, 1, 1, 1, 1, 1, 1, 1, 1, 1, 1, 1, 1, 1, 1, 1, 1, 1, 1, 1, 1, 1, 1,\n",
            "         1, 1, 1, 1, 1, 1, 1, 1, 1, 1, 1, 1, 1, 1, 1, 1, 1, 1, 1, 1, 1, 1, 1, 1,\n",
            "         1, 1, 1, 1, 1, 1, 1, 1, 1, 1, 1, 1, 1, 1, 1, 1, 1, 1, 1, 1, 1, 1, 1, 1,\n",
            "         1, 1, 1, 1, 1, 1, 1, 1, 1, 1, 1, 1, 1, 1, 1, 1, 1, 1, 1, 1, 1, 1, 1, 1,\n",
            "         1, 1, 1, 1, 1, 1, 1, 1, 1, 1, 1, 1, 1, 1, 1, 1, 1, 1, 1, 1, 1, 1, 1, 1,\n",
            "         1, 1, 1, 1, 1, 1, 1, 1, 1, 1, 1, 1, 1, 1, 1, 1, 1, 1, 1, 1, 1, 1, 1, 1,\n",
            "         1, 1, 1, 1, 1, 1, 1, 1, 1, 1, 1, 1, 1, 1, 1, 1, 1, 1, 1, 1, 1, 1, 1, 1,\n",
            "         1, 1, 1, 1, 1, 1, 1, 1, 1, 1, 1, 1, 1, 1, 1, 1, 1, 1, 1, 1, 1, 1, 1, 1,\n",
            "         1, 1, 1, 1, 1, 1, 1, 1, 1, 1, 1, 1, 1, 1, 1, 1, 1, 1, 1, 1, 1, 1, 1, 1,\n",
            "         1, 1, 1, 1, 1, 1, 1, 1, 1, 1, 1, 1, 1, 1, 1, 1, 1, 1, 1, 1, 1, 1, 1, 1,\n",
            "         1, 1, 1, 1, 1, 1, 1, 1, 1, 1, 1, 1, 1, 1, 1, 1, 1, 1, 1, 1, 1, 1, 1, 1,\n",
            "         1, 1, 1, 1, 1, 1, 1, 1, 1, 1, 1, 1, 1, 1, 1, 1, 1, 1, 1, 1, 1, 1, 1, 1,\n",
            "         1, 1, 1, 1, 1, 1, 1, 1, 1, 1, 1, 1, 1, 1, 1, 1, 1, 1, 1, 1, 1, 1, 1, 1,\n",
            "         1, 1, 1, 1, 1, 1, 1, 1, 1, 1, 1, 1, 1, 1, 1, 1, 1, 1, 1, 1, 1, 1, 1, 1,\n",
            "         1, 1, 1, 1, 1, 1, 1, 1, 1, 1, 1, 1, 1, 1, 1, 1, 1, 1, 1, 1, 1, 1, 1, 1,\n",
            "         1, 1, 1, 1, 1, 1, 1, 1, 1, 1, 1, 1, 1, 1, 1, 1, 1, 1, 1, 1, 1, 1, 1, 1,\n",
            "         1, 1, 1, 1, 1, 1, 1, 1, 1, 1, 1, 1, 1, 1, 1, 1, 1, 1, 1, 1, 1, 1, 1, 1,\n",
            "         1, 1, 1, 1, 1, 1, 1, 1]])\n"
          ],
          "name": "stdout"
        },
        {
          "output_type": "stream",
          "text": [
            "/usr/local/lib/python3.7/dist-packages/transformers/tokenization_utils_base.py:2074: FutureWarning: The `pad_to_max_length` argument is deprecated and will be removed in a future version, use `padding=True` or `padding='longest'` to pad to the longest sequence in the batch, or use `padding='max_length'` to pad to a max length. In this case, you can give a specific length with `max_length` (e.g. `max_length=45`) or leave max_length to None to pad to the maximal input size of the model (e.g. 512 for Bert).\n",
            "  FutureWarning,\n"
          ],
          "name": "stderr"
        }
      ]
    },
    {
      "cell_type": "code",
      "metadata": {
        "id": "FmmmS9Qm4Vqy",
        "colab": {
          "base_uri": "https://localhost:8080/"
        },
        "outputId": "66b716f7-62a9-4cfc-976b-3c1a7fceb1f4"
      },
      "source": [
        "encoded_data_train"
      ],
      "execution_count": 90,
      "outputs": [
        {
          "output_type": "execute_result",
          "data": {
            "text/plain": [
              "{'input_ids': tensor([[   101,    898,  14070,  ...,      0,      0,      0],\n",
              "        [   101,  18263, 102116,  ...,      0,      0,      0],\n",
              "        [   101,  29953,    886,  ...,      0,      0,      0],\n",
              "        ...,\n",
              "        [   101,    898,  60439,  ...,      0,      0,      0],\n",
              "        [   101,    884,  69897,  ...,  12512,    877,    102],\n",
              "        [   101,    867,  78660,  ...,      0,      0,      0]]), 'token_type_ids': tensor([[0, 0, 0,  ..., 0, 0, 0],\n",
              "        [0, 0, 0,  ..., 0, 0, 0],\n",
              "        [0, 0, 0,  ..., 0, 0, 0],\n",
              "        ...,\n",
              "        [0, 0, 0,  ..., 0, 0, 0],\n",
              "        [0, 0, 0,  ..., 0, 0, 0],\n",
              "        [0, 0, 0,  ..., 0, 0, 0]]), 'attention_mask': tensor([[1, 1, 1,  ..., 0, 0, 0],\n",
              "        [1, 1, 1,  ..., 0, 0, 0],\n",
              "        [1, 1, 1,  ..., 0, 0, 0],\n",
              "        ...,\n",
              "        [1, 1, 1,  ..., 0, 0, 0],\n",
              "        [1, 1, 1,  ..., 1, 1, 1],\n",
              "        [1, 1, 1,  ..., 0, 0, 0]])}"
            ]
          },
          "metadata": {
            "tags": []
          },
          "execution_count": 90
        }
      ]
    },
    {
      "cell_type": "code",
      "metadata": {
        "id": "-GHDdOhIu8zH"
      },
      "source": [
        "dataset_train = TensorDataset(input_ids_train, attention_masks_train, labels_train)\n",
        "dataset_val = TensorDataset(input_ids_val, attention_masks_val, labels_val)"
      ],
      "execution_count": 91,
      "outputs": []
    },
    {
      "cell_type": "code",
      "metadata": {
        "id": "7uJvFxedfrsL",
        "colab": {
          "base_uri": "https://localhost:8080/"
        },
        "outputId": "5176f3b7-008a-45ca-dff8-ef7f259eec4f"
      },
      "source": [
        "len(dataset_train),len(dataset_val)"
      ],
      "execution_count": 92,
      "outputs": [
        {
          "output_type": "execute_result",
          "data": {
            "text/plain": [
              "(13993, 5997)"
            ]
          },
          "metadata": {
            "tags": []
          },
          "execution_count": 92
        }
      ]
    },
    {
      "cell_type": "code",
      "metadata": {
        "id": "6jWr50msPBmX",
        "colab": {
          "base_uri": "https://localhost:8080/"
        },
        "outputId": "264bb62f-3f46-4c08-ef8b-bb1704d5ed66"
      },
      "source": [
        "model = BertForSequenceClassification.from_pretrained(\"bert-base-multilingual-cased\",\n",
        "                                                      num_labels=len(label_dict),\n",
        "                                                      output_attentions=False,\n",
        "                                                      output_hidden_states=False)"
      ],
      "execution_count": 93,
      "outputs": [
        {
          "output_type": "stream",
          "text": [
            "Some weights of the model checkpoint at bert-base-multilingual-cased were not used when initializing BertForSequenceClassification: ['cls.predictions.bias', 'cls.predictions.transform.dense.weight', 'cls.predictions.transform.dense.bias', 'cls.predictions.decoder.weight', 'cls.seq_relationship.weight', 'cls.seq_relationship.bias', 'cls.predictions.transform.LayerNorm.weight', 'cls.predictions.transform.LayerNorm.bias']\n",
            "- This IS expected if you are initializing BertForSequenceClassification from the checkpoint of a model trained on another task or with another architecture (e.g. initializing a BertForSequenceClassification model from a BertForPreTraining model).\n",
            "- This IS NOT expected if you are initializing BertForSequenceClassification from the checkpoint of a model that you expect to be exactly identical (initializing a BertForSequenceClassification model from a BertForSequenceClassification model).\n",
            "Some weights of BertForSequenceClassification were not initialized from the model checkpoint at bert-base-multilingual-cased and are newly initialized: ['classifier.weight', 'classifier.bias']\n",
            "You should probably TRAIN this model on a down-stream task to be able to use it for predictions and inference.\n"
          ],
          "name": "stderr"
        }
      ]
    },
    {
      "cell_type": "code",
      "metadata": {
        "id": "5IC96WfwPJhR"
      },
      "source": [
        "batch_size = 10\n",
        "\n",
        "dataloader_train = DataLoader(dataset_train, \n",
        "                              sampler=RandomSampler(dataset_train), \n",
        "                              batch_size=batch_size)\n",
        "\n",
        "dataloader_validation = DataLoader(dataset_val, \n",
        "                                   sampler=SequentialSampler(dataset_val), \n",
        "                                   batch_size=batch_size)"
      ],
      "execution_count": 94,
      "outputs": []
    },
    {
      "cell_type": "code",
      "metadata": {
        "id": "7-cBX9-gPPRK"
      },
      "source": [
        "\n",
        "optimizer = AdamW(model.parameters(),\n",
        "                  lr=1e-5, \n",
        "                  eps=1e-8)"
      ],
      "execution_count": 95,
      "outputs": []
    },
    {
      "cell_type": "code",
      "metadata": {
        "id": "RWQCAfJbP2Z6"
      },
      "source": [
        "epochs = 5\n",
        "\n",
        "scheduler = get_linear_schedule_with_warmup(optimizer, \n",
        "                                            num_warmup_steps=0,\n",
        "                                            num_training_steps=len(dataloader_train)*epochs)"
      ],
      "execution_count": 96,
      "outputs": []
    },
    {
      "cell_type": "code",
      "metadata": {
        "id": "LHb5hmi9P7JK"
      },
      "source": [
        "from sklearn.metrics import f1_score\n",
        "\n",
        "def f1_score_func(preds, labels):\n",
        "    preds_flat = np.argmax(preds, axis=1).flatten()\n",
        "    labels_flat = labels.flatten()\n",
        "    return f1_score(labels_flat, preds_flat, average='weighted')\n",
        "\n",
        "def accuracy_per_class(preds, labels):\n",
        "    label_dict_inverse = {v: k for k, v in label_dict.items()}\n",
        "    \n",
        "    preds_flat = np.argmax(preds, axis=1).flatten()\n",
        "    labels_flat = labels.flatten()\n",
        "\n",
        "    for label in np.unique(labels_flat):\n",
        "        y_preds = preds_flat[labels_flat==label]\n",
        "        y_true = labels_flat[labels_flat==label]\n",
        "        print(f'Class: {label_dict_inverse[label]}')\n",
        "        print(f'Accuracy: {len(y_preds[y_preds==label])}/{len(y_true)}\\n')"
      ],
      "execution_count": 97,
      "outputs": []
    },
    {
      "cell_type": "code",
      "metadata": {
        "id": "mIEwoBiqQDPT"
      },
      "source": [
        "import random\n",
        "\n",
        "seed_val = 17\n",
        "random.seed(seed_val)\n",
        "np.random.seed(seed_val)\n",
        "torch.manual_seed(seed_val)\n",
        "torch.cuda.manual_seed_all(seed_val)"
      ],
      "execution_count": 98,
      "outputs": []
    },
    {
      "cell_type": "code",
      "metadata": {
        "id": "EJg2p0FoQGyu",
        "colab": {
          "base_uri": "https://localhost:8080/"
        },
        "outputId": "e0f1c39a-1037-47dc-edb5-c59105a1e3e6"
      },
      "source": [
        "device = torch.device('cuda' if torch.cuda.is_available() else 'cpu')\n",
        "model.to(device)\n",
        "\n",
        "print(device)"
      ],
      "execution_count": 99,
      "outputs": [
        {
          "output_type": "stream",
          "text": [
            "cuda\n"
          ],
          "name": "stdout"
        }
      ]
    },
    {
      "cell_type": "code",
      "metadata": {
        "id": "du5MkbOkQLxs"
      },
      "source": [
        "def evaluate(dataloader_val):\n",
        "\n",
        "    model.eval()\n",
        "    \n",
        "    loss_val_total = 0\n",
        "    predictions, true_vals = [], []\n",
        "    \n",
        "    for batch in dataloader_val:\n",
        "        \n",
        "        batch = tuple(b.to(device) for b in batch)\n",
        "        \n",
        "        inputs = {'input_ids':      batch[0],\n",
        "                  'attention_mask': batch[1],\n",
        "                  'labels':         batch[2],\n",
        "                 }\n",
        "\n",
        "        with torch.no_grad():        \n",
        "            outputs = model(**inputs)\n",
        "            \n",
        "        loss = outputs[0]\n",
        "        logits = outputs[1]\n",
        "        loss_val_total += loss.item()\n",
        "\n",
        "        logits = logits.detach().cpu().numpy()\n",
        "        label_ids = inputs['labels'].cpu().numpy()\n",
        "        predictions.append(logits)\n",
        "        true_vals.append(label_ids)\n",
        "    \n",
        "    loss_val_avg = loss_val_total/len(dataloader_val) \n",
        "    \n",
        "    predictions = np.concatenate(predictions, axis=0)\n",
        "    true_vals = np.concatenate(true_vals, axis=0)\n",
        "            \n",
        "    return loss_val_avg, predictions, true_vals"
      ],
      "execution_count": 100,
      "outputs": []
    },
    {
      "cell_type": "code",
      "metadata": {
        "id": "fv7vpZFCQdwR",
        "colab": {
          "base_uri": "https://localhost:8080/",
          "height": 491,
          "referenced_widgets": [
            "f13602968c29487c89b830eb942d6120",
            "896fb97ca07b449e83e64685d921d5c4",
            "aa91972f353749d2b67aaee55f51571b",
            "ddb3e17c73c84168a5a4a50f89566d2d",
            "0f8665322a314159a5cff25f6667dfcf",
            "ecc022731f4b4c929954421931c8fb19",
            "abfc2988e5ab4325bc87ec4a209ab5c2",
            "932ff17d45174a4d967904979fdde87b",
            "dbce4cc7039441cea253c4b0cccc47eb",
            "c6ccf7b980a049549f83bb50949a4809",
            "f1c0243bf12044d887a5fb46931676aa",
            "c77da743f8a449b494920232955f7e51",
            "498057d487be46b2bf90e2cdab8986e3",
            "fac7a6090918404688d5708539842319",
            "8058aafa138247d48ab58e8be12ba329",
            "b3b861ed541e482c90b6cd0bf30ade76",
            "e6611bbead394dc592fdbf2a67bdf01a",
            "01aa052742f942d7a3ece90c3c4e2b1f",
            "897353a951e345c09440e019dc3dffd2",
            "267f25e66ccb403fb8af61f284f3af31",
            "7c2bd6b8ab0540898b44321ab06e0965",
            "db57316d008c40349ed9e06eaa11acf2",
            "a4bd4c10183c4842a8536d2c0c174157",
            "a77ff005ddde4be0aee024ff82ea0919",
            "09a02e20c07b4199b2dd87b59d308c5c",
            "4b6db69a021c4c62ba2371ee1e24bf8f",
            "d6df1fd826804b37988627daeed62706",
            "75c7247419e84d759e6d545ecd93c337",
            "4ab27dc8fdfe4ba3ac65838c9ddcf0e5",
            "b30352116f90425298be6593cc777c2b",
            "2aec558e7a654948acb05b00768ba391",
            "f6e1d401130d41bbb4c8812780a28fb6",
            "5043f23c34d74a64bf516e8ebe5964d4",
            "414a7675ab6e4f0d9d2d198d37dc97d0",
            "d56c15f974e24c8fa6c56531d79c83de",
            "870f65af40bc4e95adb34e49f0a66949",
            "a81b9d8f39dc403c89fa0aa8129219f2",
            "2f464f2c8fa44701b008ae857a7f2180",
            "6929b263ce104f04817a0c68354e6f53",
            "4c076ceb5c77486c81ab0b32eaf59850",
            "504e4b7d56c84db4bc1bef533708aef2",
            "a3c08318a40a4f2ab9020d87fb969d8d",
            "bb5baf90be5146fd8ef21f15a680d113",
            "861b01cee5ae4875b3cd7ba341e885f2",
            "86f7f3aa027244d3a99e7f1d1572559e",
            "8bf7daf4b1a343418a17e655b880fa57",
            "6dd4708ecb83415b8f79cf193c32e886",
            "51234cddf14c4e9b91c39d2ccc70553a"
          ]
        },
        "outputId": "16e11ccc-07ff-4176-f9e3-e8249321d65e"
      },
      "source": [
        "for epoch in tqdm(range(1, epochs+1)):\n",
        "    \n",
        "    model.train()\n",
        "    \n",
        "    loss_train_total = 0\n",
        "\n",
        "    progress_bar = tqdm(dataloader_train, desc='Epoch {:1d}'.format(epoch), leave=False, disable=False)\n",
        "    for batch in progress_bar:\n",
        "\n",
        "        model.zero_grad()\n",
        "        \n",
        "        batch = tuple(b.to(device) for b in batch)\n",
        "        \n",
        "        inputs = {'input_ids':      batch[0],\n",
        "                  'attention_mask': batch[1],\n",
        "                  'labels':         batch[2],\n",
        "                 }       \n",
        "\n",
        "        outputs = model(**inputs)\n",
        "        \n",
        "        loss = outputs[0]\n",
        "        loss_train_total += loss.item()\n",
        "        loss.backward()\n",
        "\n",
        "        torch.nn.utils.clip_grad_norm_(model.parameters(), 1.0)\n",
        "\n",
        "        optimizer.step()\n",
        "        scheduler.step()\n",
        "        \n",
        "        progress_bar.set_postfix({'training_loss': '{:.3f}'.format(loss.item()/len(batch))})\n",
        "         \n",
        "    FILE=\"model.pth\"   \n",
        "    torch.save(model.state_dict(),FILE)\n",
        "    tqdm.write(f'\\nEpoch {epoch}')\n",
        "    \n",
        "    loss_train_avg = loss_train_total/len(dataloader_train)            \n",
        "    tqdm.write(f'Training loss: {loss_train_avg}')\n",
        "    \n",
        "    val_loss, predictions, true_vals = evaluate(dataloader_validation)\n",
        "    val_f1 = f1_score_func(predictions, true_vals)\n",
        "    tqdm.write(f'Validation loss: {val_loss}')\n",
        "    tqdm.write(f'F1 Score (Weighted): {val_f1}')"
      ],
      "execution_count": 101,
      "outputs": [
        {
          "output_type": "display_data",
          "data": {
            "application/vnd.jupyter.widget-view+json": {
              "model_id": "f13602968c29487c89b830eb942d6120",
              "version_minor": 0,
              "version_major": 2
            },
            "text/plain": [
              "HBox(children=(FloatProgress(value=0.0, max=5.0), HTML(value='')))"
            ]
          },
          "metadata": {
            "tags": []
          }
        },
        {
          "output_type": "display_data",
          "data": {
            "application/vnd.jupyter.widget-view+json": {
              "model_id": "dbce4cc7039441cea253c4b0cccc47eb",
              "version_minor": 0,
              "version_major": 2
            },
            "text/plain": [
              "HBox(children=(FloatProgress(value=0.0, description='Epoch 1', max=1400.0, style=ProgressStyle(description_wid…"
            ]
          },
          "metadata": {
            "tags": []
          }
        },
        {
          "output_type": "stream",
          "text": [
            "\r\n",
            "Epoch 1\n",
            "Training loss: 0.774211784247309\n",
            "Validation loss: 0.4464052262250334\n",
            "F1 Score (Weighted): 0.8661487805126504\n"
          ],
          "name": "stdout"
        },
        {
          "output_type": "display_data",
          "data": {
            "application/vnd.jupyter.widget-view+json": {
              "model_id": "e6611bbead394dc592fdbf2a67bdf01a",
              "version_minor": 0,
              "version_major": 2
            },
            "text/plain": [
              "HBox(children=(FloatProgress(value=0.0, description='Epoch 2', max=1400.0, style=ProgressStyle(description_wid…"
            ]
          },
          "metadata": {
            "tags": []
          }
        },
        {
          "output_type": "stream",
          "text": [
            "\r\n",
            "Epoch 2\n",
            "Training loss: 0.35088468113781085\n",
            "Validation loss: 0.39290056812693364\n",
            "F1 Score (Weighted): 0.8985044111137481\n"
          ],
          "name": "stdout"
        },
        {
          "output_type": "display_data",
          "data": {
            "application/vnd.jupyter.widget-view+json": {
              "model_id": "09a02e20c07b4199b2dd87b59d308c5c",
              "version_minor": 0,
              "version_major": 2
            },
            "text/plain": [
              "HBox(children=(FloatProgress(value=0.0, description='Epoch 3', max=1400.0, style=ProgressStyle(description_wid…"
            ]
          },
          "metadata": {
            "tags": []
          }
        },
        {
          "output_type": "stream",
          "text": [
            "\r\n",
            "Epoch 3\n",
            "Training loss: 0.23258523184706323\n",
            "Validation loss: 0.3379022820526734\n",
            "F1 Score (Weighted): 0.9266329570401924\n"
          ],
          "name": "stdout"
        },
        {
          "output_type": "display_data",
          "data": {
            "application/vnd.jupyter.widget-view+json": {
              "model_id": "5043f23c34d74a64bf516e8ebe5964d4",
              "version_minor": 0,
              "version_major": 2
            },
            "text/plain": [
              "HBox(children=(FloatProgress(value=0.0, description='Epoch 4', max=1400.0, style=ProgressStyle(description_wid…"
            ]
          },
          "metadata": {
            "tags": []
          }
        },
        {
          "output_type": "stream",
          "text": [
            "\r\n",
            "Epoch 4\n",
            "Training loss: 0.16706847259741542\n",
            "Validation loss: 0.34821979524742347\n",
            "F1 Score (Weighted): 0.9289447025419796\n"
          ],
          "name": "stdout"
        },
        {
          "output_type": "display_data",
          "data": {
            "application/vnd.jupyter.widget-view+json": {
              "model_id": "504e4b7d56c84db4bc1bef533708aef2",
              "version_minor": 0,
              "version_major": 2
            },
            "text/plain": [
              "HBox(children=(FloatProgress(value=0.0, description='Epoch 5', max=1400.0, style=ProgressStyle(description_wid…"
            ]
          },
          "metadata": {
            "tags": []
          }
        },
        {
          "output_type": "stream",
          "text": [
            "\r\n",
            "Epoch 5\n",
            "Training loss: 0.12254796852415893\n",
            "Validation loss: 0.36754188633931334\n",
            "F1 Score (Weighted): 0.9275351564958325\n",
            "\n"
          ],
          "name": "stdout"
        }
      ]
    },
    {
      "cell_type": "code",
      "metadata": {
        "id": "flgWeWJKEJgK",
        "colab": {
          "base_uri": "https://localhost:8080/"
        },
        "outputId": "5b1c8341-a9f7-4efa-ab9e-0e904b375edc"
      },
      "source": [
        "model = BertForSequenceClassification.from_pretrained(\"bert-base-multilingual-cased\",\n",
        "                                                      num_labels=len(label_dict),\n",
        "                                                      output_attentions=False,\n",
        "                                                      output_hidden_states=False)\n",
        "\n",
        "model.to(device)"
      ],
      "execution_count": 102,
      "outputs": [
        {
          "output_type": "stream",
          "text": [
            "Some weights of the model checkpoint at bert-base-multilingual-cased were not used when initializing BertForSequenceClassification: ['cls.predictions.bias', 'cls.predictions.transform.dense.weight', 'cls.predictions.transform.dense.bias', 'cls.predictions.decoder.weight', 'cls.seq_relationship.weight', 'cls.seq_relationship.bias', 'cls.predictions.transform.LayerNorm.weight', 'cls.predictions.transform.LayerNorm.bias']\n",
            "- This IS expected if you are initializing BertForSequenceClassification from the checkpoint of a model trained on another task or with another architecture (e.g. initializing a BertForSequenceClassification model from a BertForPreTraining model).\n",
            "- This IS NOT expected if you are initializing BertForSequenceClassification from the checkpoint of a model that you expect to be exactly identical (initializing a BertForSequenceClassification model from a BertForSequenceClassification model).\n",
            "Some weights of BertForSequenceClassification were not initialized from the model checkpoint at bert-base-multilingual-cased and are newly initialized: ['classifier.weight', 'classifier.bias']\n",
            "You should probably TRAIN this model on a down-stream task to be able to use it for predictions and inference.\n"
          ],
          "name": "stderr"
        },
        {
          "output_type": "execute_result",
          "data": {
            "text/plain": [
              "BertForSequenceClassification(\n",
              "  (bert): BertModel(\n",
              "    (embeddings): BertEmbeddings(\n",
              "      (word_embeddings): Embedding(119547, 768, padding_idx=0)\n",
              "      (position_embeddings): Embedding(512, 768)\n",
              "      (token_type_embeddings): Embedding(2, 768)\n",
              "      (LayerNorm): LayerNorm((768,), eps=1e-12, elementwise_affine=True)\n",
              "      (dropout): Dropout(p=0.1, inplace=False)\n",
              "    )\n",
              "    (encoder): BertEncoder(\n",
              "      (layer): ModuleList(\n",
              "        (0): BertLayer(\n",
              "          (attention): BertAttention(\n",
              "            (self): BertSelfAttention(\n",
              "              (query): Linear(in_features=768, out_features=768, bias=True)\n",
              "              (key): Linear(in_features=768, out_features=768, bias=True)\n",
              "              (value): Linear(in_features=768, out_features=768, bias=True)\n",
              "              (dropout): Dropout(p=0.1, inplace=False)\n",
              "            )\n",
              "            (output): BertSelfOutput(\n",
              "              (dense): Linear(in_features=768, out_features=768, bias=True)\n",
              "              (LayerNorm): LayerNorm((768,), eps=1e-12, elementwise_affine=True)\n",
              "              (dropout): Dropout(p=0.1, inplace=False)\n",
              "            )\n",
              "          )\n",
              "          (intermediate): BertIntermediate(\n",
              "            (dense): Linear(in_features=768, out_features=3072, bias=True)\n",
              "          )\n",
              "          (output): BertOutput(\n",
              "            (dense): Linear(in_features=3072, out_features=768, bias=True)\n",
              "            (LayerNorm): LayerNorm((768,), eps=1e-12, elementwise_affine=True)\n",
              "            (dropout): Dropout(p=0.1, inplace=False)\n",
              "          )\n",
              "        )\n",
              "        (1): BertLayer(\n",
              "          (attention): BertAttention(\n",
              "            (self): BertSelfAttention(\n",
              "              (query): Linear(in_features=768, out_features=768, bias=True)\n",
              "              (key): Linear(in_features=768, out_features=768, bias=True)\n",
              "              (value): Linear(in_features=768, out_features=768, bias=True)\n",
              "              (dropout): Dropout(p=0.1, inplace=False)\n",
              "            )\n",
              "            (output): BertSelfOutput(\n",
              "              (dense): Linear(in_features=768, out_features=768, bias=True)\n",
              "              (LayerNorm): LayerNorm((768,), eps=1e-12, elementwise_affine=True)\n",
              "              (dropout): Dropout(p=0.1, inplace=False)\n",
              "            )\n",
              "          )\n",
              "          (intermediate): BertIntermediate(\n",
              "            (dense): Linear(in_features=768, out_features=3072, bias=True)\n",
              "          )\n",
              "          (output): BertOutput(\n",
              "            (dense): Linear(in_features=3072, out_features=768, bias=True)\n",
              "            (LayerNorm): LayerNorm((768,), eps=1e-12, elementwise_affine=True)\n",
              "            (dropout): Dropout(p=0.1, inplace=False)\n",
              "          )\n",
              "        )\n",
              "        (2): BertLayer(\n",
              "          (attention): BertAttention(\n",
              "            (self): BertSelfAttention(\n",
              "              (query): Linear(in_features=768, out_features=768, bias=True)\n",
              "              (key): Linear(in_features=768, out_features=768, bias=True)\n",
              "              (value): Linear(in_features=768, out_features=768, bias=True)\n",
              "              (dropout): Dropout(p=0.1, inplace=False)\n",
              "            )\n",
              "            (output): BertSelfOutput(\n",
              "              (dense): Linear(in_features=768, out_features=768, bias=True)\n",
              "              (LayerNorm): LayerNorm((768,), eps=1e-12, elementwise_affine=True)\n",
              "              (dropout): Dropout(p=0.1, inplace=False)\n",
              "            )\n",
              "          )\n",
              "          (intermediate): BertIntermediate(\n",
              "            (dense): Linear(in_features=768, out_features=3072, bias=True)\n",
              "          )\n",
              "          (output): BertOutput(\n",
              "            (dense): Linear(in_features=3072, out_features=768, bias=True)\n",
              "            (LayerNorm): LayerNorm((768,), eps=1e-12, elementwise_affine=True)\n",
              "            (dropout): Dropout(p=0.1, inplace=False)\n",
              "          )\n",
              "        )\n",
              "        (3): BertLayer(\n",
              "          (attention): BertAttention(\n",
              "            (self): BertSelfAttention(\n",
              "              (query): Linear(in_features=768, out_features=768, bias=True)\n",
              "              (key): Linear(in_features=768, out_features=768, bias=True)\n",
              "              (value): Linear(in_features=768, out_features=768, bias=True)\n",
              "              (dropout): Dropout(p=0.1, inplace=False)\n",
              "            )\n",
              "            (output): BertSelfOutput(\n",
              "              (dense): Linear(in_features=768, out_features=768, bias=True)\n",
              "              (LayerNorm): LayerNorm((768,), eps=1e-12, elementwise_affine=True)\n",
              "              (dropout): Dropout(p=0.1, inplace=False)\n",
              "            )\n",
              "          )\n",
              "          (intermediate): BertIntermediate(\n",
              "            (dense): Linear(in_features=768, out_features=3072, bias=True)\n",
              "          )\n",
              "          (output): BertOutput(\n",
              "            (dense): Linear(in_features=3072, out_features=768, bias=True)\n",
              "            (LayerNorm): LayerNorm((768,), eps=1e-12, elementwise_affine=True)\n",
              "            (dropout): Dropout(p=0.1, inplace=False)\n",
              "          )\n",
              "        )\n",
              "        (4): BertLayer(\n",
              "          (attention): BertAttention(\n",
              "            (self): BertSelfAttention(\n",
              "              (query): Linear(in_features=768, out_features=768, bias=True)\n",
              "              (key): Linear(in_features=768, out_features=768, bias=True)\n",
              "              (value): Linear(in_features=768, out_features=768, bias=True)\n",
              "              (dropout): Dropout(p=0.1, inplace=False)\n",
              "            )\n",
              "            (output): BertSelfOutput(\n",
              "              (dense): Linear(in_features=768, out_features=768, bias=True)\n",
              "              (LayerNorm): LayerNorm((768,), eps=1e-12, elementwise_affine=True)\n",
              "              (dropout): Dropout(p=0.1, inplace=False)\n",
              "            )\n",
              "          )\n",
              "          (intermediate): BertIntermediate(\n",
              "            (dense): Linear(in_features=768, out_features=3072, bias=True)\n",
              "          )\n",
              "          (output): BertOutput(\n",
              "            (dense): Linear(in_features=3072, out_features=768, bias=True)\n",
              "            (LayerNorm): LayerNorm((768,), eps=1e-12, elementwise_affine=True)\n",
              "            (dropout): Dropout(p=0.1, inplace=False)\n",
              "          )\n",
              "        )\n",
              "        (5): BertLayer(\n",
              "          (attention): BertAttention(\n",
              "            (self): BertSelfAttention(\n",
              "              (query): Linear(in_features=768, out_features=768, bias=True)\n",
              "              (key): Linear(in_features=768, out_features=768, bias=True)\n",
              "              (value): Linear(in_features=768, out_features=768, bias=True)\n",
              "              (dropout): Dropout(p=0.1, inplace=False)\n",
              "            )\n",
              "            (output): BertSelfOutput(\n",
              "              (dense): Linear(in_features=768, out_features=768, bias=True)\n",
              "              (LayerNorm): LayerNorm((768,), eps=1e-12, elementwise_affine=True)\n",
              "              (dropout): Dropout(p=0.1, inplace=False)\n",
              "            )\n",
              "          )\n",
              "          (intermediate): BertIntermediate(\n",
              "            (dense): Linear(in_features=768, out_features=3072, bias=True)\n",
              "          )\n",
              "          (output): BertOutput(\n",
              "            (dense): Linear(in_features=3072, out_features=768, bias=True)\n",
              "            (LayerNorm): LayerNorm((768,), eps=1e-12, elementwise_affine=True)\n",
              "            (dropout): Dropout(p=0.1, inplace=False)\n",
              "          )\n",
              "        )\n",
              "        (6): BertLayer(\n",
              "          (attention): BertAttention(\n",
              "            (self): BertSelfAttention(\n",
              "              (query): Linear(in_features=768, out_features=768, bias=True)\n",
              "              (key): Linear(in_features=768, out_features=768, bias=True)\n",
              "              (value): Linear(in_features=768, out_features=768, bias=True)\n",
              "              (dropout): Dropout(p=0.1, inplace=False)\n",
              "            )\n",
              "            (output): BertSelfOutput(\n",
              "              (dense): Linear(in_features=768, out_features=768, bias=True)\n",
              "              (LayerNorm): LayerNorm((768,), eps=1e-12, elementwise_affine=True)\n",
              "              (dropout): Dropout(p=0.1, inplace=False)\n",
              "            )\n",
              "          )\n",
              "          (intermediate): BertIntermediate(\n",
              "            (dense): Linear(in_features=768, out_features=3072, bias=True)\n",
              "          )\n",
              "          (output): BertOutput(\n",
              "            (dense): Linear(in_features=3072, out_features=768, bias=True)\n",
              "            (LayerNorm): LayerNorm((768,), eps=1e-12, elementwise_affine=True)\n",
              "            (dropout): Dropout(p=0.1, inplace=False)\n",
              "          )\n",
              "        )\n",
              "        (7): BertLayer(\n",
              "          (attention): BertAttention(\n",
              "            (self): BertSelfAttention(\n",
              "              (query): Linear(in_features=768, out_features=768, bias=True)\n",
              "              (key): Linear(in_features=768, out_features=768, bias=True)\n",
              "              (value): Linear(in_features=768, out_features=768, bias=True)\n",
              "              (dropout): Dropout(p=0.1, inplace=False)\n",
              "            )\n",
              "            (output): BertSelfOutput(\n",
              "              (dense): Linear(in_features=768, out_features=768, bias=True)\n",
              "              (LayerNorm): LayerNorm((768,), eps=1e-12, elementwise_affine=True)\n",
              "              (dropout): Dropout(p=0.1, inplace=False)\n",
              "            )\n",
              "          )\n",
              "          (intermediate): BertIntermediate(\n",
              "            (dense): Linear(in_features=768, out_features=3072, bias=True)\n",
              "          )\n",
              "          (output): BertOutput(\n",
              "            (dense): Linear(in_features=3072, out_features=768, bias=True)\n",
              "            (LayerNorm): LayerNorm((768,), eps=1e-12, elementwise_affine=True)\n",
              "            (dropout): Dropout(p=0.1, inplace=False)\n",
              "          )\n",
              "        )\n",
              "        (8): BertLayer(\n",
              "          (attention): BertAttention(\n",
              "            (self): BertSelfAttention(\n",
              "              (query): Linear(in_features=768, out_features=768, bias=True)\n",
              "              (key): Linear(in_features=768, out_features=768, bias=True)\n",
              "              (value): Linear(in_features=768, out_features=768, bias=True)\n",
              "              (dropout): Dropout(p=0.1, inplace=False)\n",
              "            )\n",
              "            (output): BertSelfOutput(\n",
              "              (dense): Linear(in_features=768, out_features=768, bias=True)\n",
              "              (LayerNorm): LayerNorm((768,), eps=1e-12, elementwise_affine=True)\n",
              "              (dropout): Dropout(p=0.1, inplace=False)\n",
              "            )\n",
              "          )\n",
              "          (intermediate): BertIntermediate(\n",
              "            (dense): Linear(in_features=768, out_features=3072, bias=True)\n",
              "          )\n",
              "          (output): BertOutput(\n",
              "            (dense): Linear(in_features=3072, out_features=768, bias=True)\n",
              "            (LayerNorm): LayerNorm((768,), eps=1e-12, elementwise_affine=True)\n",
              "            (dropout): Dropout(p=0.1, inplace=False)\n",
              "          )\n",
              "        )\n",
              "        (9): BertLayer(\n",
              "          (attention): BertAttention(\n",
              "            (self): BertSelfAttention(\n",
              "              (query): Linear(in_features=768, out_features=768, bias=True)\n",
              "              (key): Linear(in_features=768, out_features=768, bias=True)\n",
              "              (value): Linear(in_features=768, out_features=768, bias=True)\n",
              "              (dropout): Dropout(p=0.1, inplace=False)\n",
              "            )\n",
              "            (output): BertSelfOutput(\n",
              "              (dense): Linear(in_features=768, out_features=768, bias=True)\n",
              "              (LayerNorm): LayerNorm((768,), eps=1e-12, elementwise_affine=True)\n",
              "              (dropout): Dropout(p=0.1, inplace=False)\n",
              "            )\n",
              "          )\n",
              "          (intermediate): BertIntermediate(\n",
              "            (dense): Linear(in_features=768, out_features=3072, bias=True)\n",
              "          )\n",
              "          (output): BertOutput(\n",
              "            (dense): Linear(in_features=3072, out_features=768, bias=True)\n",
              "            (LayerNorm): LayerNorm((768,), eps=1e-12, elementwise_affine=True)\n",
              "            (dropout): Dropout(p=0.1, inplace=False)\n",
              "          )\n",
              "        )\n",
              "        (10): BertLayer(\n",
              "          (attention): BertAttention(\n",
              "            (self): BertSelfAttention(\n",
              "              (query): Linear(in_features=768, out_features=768, bias=True)\n",
              "              (key): Linear(in_features=768, out_features=768, bias=True)\n",
              "              (value): Linear(in_features=768, out_features=768, bias=True)\n",
              "              (dropout): Dropout(p=0.1, inplace=False)\n",
              "            )\n",
              "            (output): BertSelfOutput(\n",
              "              (dense): Linear(in_features=768, out_features=768, bias=True)\n",
              "              (LayerNorm): LayerNorm((768,), eps=1e-12, elementwise_affine=True)\n",
              "              (dropout): Dropout(p=0.1, inplace=False)\n",
              "            )\n",
              "          )\n",
              "          (intermediate): BertIntermediate(\n",
              "            (dense): Linear(in_features=768, out_features=3072, bias=True)\n",
              "          )\n",
              "          (output): BertOutput(\n",
              "            (dense): Linear(in_features=3072, out_features=768, bias=True)\n",
              "            (LayerNorm): LayerNorm((768,), eps=1e-12, elementwise_affine=True)\n",
              "            (dropout): Dropout(p=0.1, inplace=False)\n",
              "          )\n",
              "        )\n",
              "        (11): BertLayer(\n",
              "          (attention): BertAttention(\n",
              "            (self): BertSelfAttention(\n",
              "              (query): Linear(in_features=768, out_features=768, bias=True)\n",
              "              (key): Linear(in_features=768, out_features=768, bias=True)\n",
              "              (value): Linear(in_features=768, out_features=768, bias=True)\n",
              "              (dropout): Dropout(p=0.1, inplace=False)\n",
              "            )\n",
              "            (output): BertSelfOutput(\n",
              "              (dense): Linear(in_features=768, out_features=768, bias=True)\n",
              "              (LayerNorm): LayerNorm((768,), eps=1e-12, elementwise_affine=True)\n",
              "              (dropout): Dropout(p=0.1, inplace=False)\n",
              "            )\n",
              "          )\n",
              "          (intermediate): BertIntermediate(\n",
              "            (dense): Linear(in_features=768, out_features=3072, bias=True)\n",
              "          )\n",
              "          (output): BertOutput(\n",
              "            (dense): Linear(in_features=3072, out_features=768, bias=True)\n",
              "            (LayerNorm): LayerNorm((768,), eps=1e-12, elementwise_affine=True)\n",
              "            (dropout): Dropout(p=0.1, inplace=False)\n",
              "          )\n",
              "        )\n",
              "      )\n",
              "    )\n",
              "    (pooler): BertPooler(\n",
              "      (dense): Linear(in_features=768, out_features=768, bias=True)\n",
              "      (activation): Tanh()\n",
              "    )\n",
              "  )\n",
              "  (dropout): Dropout(p=0.1, inplace=False)\n",
              "  (classifier): Linear(in_features=768, out_features=10, bias=True)\n",
              ")"
            ]
          },
          "metadata": {
            "tags": []
          },
          "execution_count": 102
        }
      ]
    },
    {
      "cell_type": "code",
      "metadata": {
        "id": "zRwXMtomEJjz",
        "colab": {
          "base_uri": "https://localhost:8080/"
        },
        "outputId": "4d2c61b1-c713-407a-a172-a6cf3a8a374a"
      },
      "source": [
        "model.load_state_dict(torch.load('/content/model.pth', map_location=torch.device('cpu')))"
      ],
      "execution_count": 103,
      "outputs": [
        {
          "output_type": "execute_result",
          "data": {
            "text/plain": [
              "<All keys matched successfully>"
            ]
          },
          "metadata": {
            "tags": []
          },
          "execution_count": 103
        }
      ]
    },
    {
      "cell_type": "code",
      "metadata": {
        "id": "g0RtXQO6EJmi"
      },
      "source": [
        "_, predictions, true_vals = evaluate(dataloader_validation)"
      ],
      "execution_count": 104,
      "outputs": []
    },
    {
      "cell_type": "code",
      "metadata": {
        "id": "uSiWTEpwpkcq",
        "colab": {
          "base_uri": "https://localhost:8080/"
        },
        "outputId": "29a66271-80fe-4b95-f0dd-6f0d088e16f6"
      },
      "source": [
        "accuracy_per_class(predictions, true_vals)"
      ],
      "execution_count": 105,
      "outputs": [
        {
          "output_type": "stream",
          "text": [
            "Class: diaspora\n",
            "Accuracy: 547/600\n",
            "\n",
            "Class: economy\n",
            "Accuracy: 540/600\n",
            "\n",
            "Class: entertainment\n",
            "Accuracy: 544/600\n",
            "\n",
            "Class: health\n",
            "Accuracy: 552/600\n",
            "\n",
            "Class: international\n",
            "Accuracy: 565/597\n",
            "\n",
            "Class: opinion\n",
            "Accuracy: 537/600\n",
            "\n",
            "Class: politics\n",
            "Accuracy: 577/600\n",
            "\n",
            "Class: society\n",
            "Accuracy: 531/600\n",
            "\n",
            "Class: sports\n",
            "Accuracy: 592/600\n",
            "\n",
            "Class: technology\n",
            "Accuracy: 578/600\n",
            "\n"
          ],
          "name": "stdout"
        }
      ]
    },
    {
      "cell_type": "code",
      "metadata": {
        "id": "KrUxHfgkdJIL"
      },
      "source": [
        "from sklearn.metrics import classification_report"
      ],
      "execution_count": 106,
      "outputs": []
    },
    {
      "cell_type": "code",
      "metadata": {
        "id": "lF1CEqs2fDXM",
        "colab": {
          "base_uri": "https://localhost:8080/",
          "height": 323
        },
        "outputId": "0bdb9dfb-d88a-4e87-a571-be00de4861bd"
      },
      "source": [
        "from sklearn.metrics import classification_report\n",
        "print(classification_report(predictions,true_vals))"
      ],
      "execution_count": 107,
      "outputs": [
        {
          "output_type": "error",
          "ename": "ValueError",
          "evalue": "ignored",
          "traceback": [
            "\u001b[0;31m---------------------------------------------------------------------------\u001b[0m",
            "\u001b[0;31mValueError\u001b[0m                                Traceback (most recent call last)",
            "\u001b[0;32m<ipython-input-107-8b8c3918afb0>\u001b[0m in \u001b[0;36m<module>\u001b[0;34m()\u001b[0m\n\u001b[1;32m      1\u001b[0m \u001b[0;32mfrom\u001b[0m \u001b[0msklearn\u001b[0m\u001b[0;34m.\u001b[0m\u001b[0mmetrics\u001b[0m \u001b[0;32mimport\u001b[0m \u001b[0mclassification_report\u001b[0m\u001b[0;34m\u001b[0m\u001b[0;34m\u001b[0m\u001b[0m\n\u001b[0;32m----> 2\u001b[0;31m \u001b[0mprint\u001b[0m\u001b[0;34m(\u001b[0m\u001b[0mclassification_report\u001b[0m\u001b[0;34m(\u001b[0m\u001b[0mpredictions\u001b[0m\u001b[0;34m,\u001b[0m\u001b[0mtrue_vals\u001b[0m\u001b[0;34m)\u001b[0m\u001b[0;34m)\u001b[0m\u001b[0;34m\u001b[0m\u001b[0;34m\u001b[0m\u001b[0m\n\u001b[0m",
            "\u001b[0;32m/usr/local/lib/python3.7/dist-packages/sklearn/metrics/_classification.py\u001b[0m in \u001b[0;36mclassification_report\u001b[0;34m(y_true, y_pred, labels, target_names, sample_weight, digits, output_dict, zero_division)\u001b[0m\n\u001b[1;32m   1969\u001b[0m     \"\"\"\n\u001b[1;32m   1970\u001b[0m \u001b[0;34m\u001b[0m\u001b[0m\n\u001b[0;32m-> 1971\u001b[0;31m     \u001b[0my_type\u001b[0m\u001b[0;34m,\u001b[0m \u001b[0my_true\u001b[0m\u001b[0;34m,\u001b[0m \u001b[0my_pred\u001b[0m \u001b[0;34m=\u001b[0m \u001b[0m_check_targets\u001b[0m\u001b[0;34m(\u001b[0m\u001b[0my_true\u001b[0m\u001b[0;34m,\u001b[0m \u001b[0my_pred\u001b[0m\u001b[0;34m)\u001b[0m\u001b[0;34m\u001b[0m\u001b[0;34m\u001b[0m\u001b[0m\n\u001b[0m\u001b[1;32m   1972\u001b[0m \u001b[0;34m\u001b[0m\u001b[0m\n\u001b[1;32m   1973\u001b[0m     \u001b[0mlabels_given\u001b[0m \u001b[0;34m=\u001b[0m \u001b[0;32mTrue\u001b[0m\u001b[0;34m\u001b[0m\u001b[0;34m\u001b[0m\u001b[0m\n",
            "\u001b[0;32m/usr/local/lib/python3.7/dist-packages/sklearn/metrics/_classification.py\u001b[0m in \u001b[0;36m_check_targets\u001b[0;34m(y_true, y_pred)\u001b[0m\n\u001b[1;32m     88\u001b[0m     \u001b[0;32mif\u001b[0m \u001b[0mlen\u001b[0m\u001b[0;34m(\u001b[0m\u001b[0my_type\u001b[0m\u001b[0;34m)\u001b[0m \u001b[0;34m>\u001b[0m \u001b[0;36m1\u001b[0m\u001b[0;34m:\u001b[0m\u001b[0;34m\u001b[0m\u001b[0;34m\u001b[0m\u001b[0m\n\u001b[1;32m     89\u001b[0m         raise ValueError(\"Classification metrics can't handle a mix of {0} \"\n\u001b[0;32m---> 90\u001b[0;31m                          \"and {1} targets\".format(type_true, type_pred))\n\u001b[0m\u001b[1;32m     91\u001b[0m \u001b[0;34m\u001b[0m\u001b[0m\n\u001b[1;32m     92\u001b[0m     \u001b[0;31m# We can't have more than one value on y_type => The set is no more needed\u001b[0m\u001b[0;34m\u001b[0m\u001b[0;34m\u001b[0m\u001b[0;34m\u001b[0m\u001b[0m\n",
            "\u001b[0;31mValueError\u001b[0m: Classification metrics can't handle a mix of continuous-multioutput and multiclass targets"
          ]
        }
      ]
    },
    {
      "cell_type": "code",
      "metadata": {
        "id": "BXYH-bQldjQT"
      },
      "source": [
        "labels_flat, preds_flat"
      ],
      "execution_count": null,
      "outputs": []
    }
  ]
}